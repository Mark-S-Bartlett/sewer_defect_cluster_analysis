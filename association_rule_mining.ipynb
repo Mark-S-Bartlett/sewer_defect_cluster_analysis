{
 "cells": [
  {
   "cell_type": "code",
   "execution_count": 1,
   "metadata": {},
   "outputs": [],
   "source": [
    "\"\"\"\n",
    "Association rule mining\n",
    "\"\"\"\n",
    "import os\n",
    "import numpy as np\n",
    "import pandas as pd"
   ]
  },
  {
   "cell_type": "code",
   "execution_count": 2,
   "metadata": {},
   "outputs": [],
   "source": [
    "path = os.getcwd()\n",
    "files = os.listdir(path)"
   ]
  },
  {
   "cell_type": "code",
   "execution_count": 3,
   "metadata": {},
   "outputs": [
    {
     "data": {
      "text/plain": [
       "'\\n\\nKey ideas to report in the paper\\n1. General statistics: Number of pipes with defects, most frequent defects \\n2. Number of instances of two defects being within the same vicinity, probabilities of these occurrences\\n3. Support, lift, etc.\\n\\n'"
      ]
     },
     "execution_count": 3,
     "metadata": {},
     "output_type": "execute_result"
    }
   ],
   "source": [
    "\"\"\"\n",
    "\n",
    "Key ideas to report in the paper\n",
    "1. General statistics: Number of pipes with defects, most frequent defects \n",
    "2. Number of instances of two defects being within the same vicinity, probabilities of these occurrences\n",
    "3. Support, lift, etc.\n",
    "\n",
    "\"\"\""
   ]
  },
  {
   "cell_type": "code",
   "execution_count": 12,
   "metadata": {},
   "outputs": [],
   "source": [
    "\"\"\"\n",
    "Helper functions\n",
    "\"\"\"\n",
    "\n",
    "def change_defect_names(df_cond):\n",
    "    \"\"\" \n",
    "    Change the names of defects: e.g., FL => Fracture, TB => Tap\n",
    "    Takes df_cond as input. \n",
    "    \"\"\"\n",
    "    deposit_codes = ['DAE', 'DAGS', 'DAR', 'DAZ', 'DSV', 'DSGV', 'DSC', 'DSZ', 'DNF', 'DNGV', 'DNZ']\n",
    "    deformed_codes = ['DR', 'DFBR', 'DFBI', 'DFC', 'DFE', 'DTBR', 'DTBI']\n",
    "    infiltration_codes = ['IS', 'ISB', 'ISJ', 'ISC', 'ISL', 'IW', 'IWB', 'IWC', 'IWJ', 'IWL', 'ID', 'IDB', 'IDC', 'IDJ', 'IDL', 'IR', 'IRB', 'IRC', 'IRJ', 'IRL', 'IG', 'IGB', 'IGC', 'IGL', 'IGJ' ]\n",
    "    hole_codes = ['HSV', 'HVV']\n",
    "    fracture_codes = ['FL', 'FC', 'FM', 'FS', 'FH']\n",
    "    crack_codes = ['CL', 'CC', 'CM', 'CS', 'CH']\n",
    "    broken_codes = ['BSV', 'BVV']\n",
    "    collapse_codes = ['X']\n",
    "    \n",
    "    df_cond.loc[df_cond['PACP_Code'].isin(deposit_codes), 'PACP_Code'] = 'Deposit'\n",
    "    df_cond.loc[df_cond['PACP_Code'].isin(deformed_codes), 'PACP_Code'] = 'Deformed'\n",
    "    df_cond.loc[df_cond['PACP_Code'].isin(infiltration_codes), 'PACP_Code'] = 'Infiltration'\n",
    "    df_cond.loc[df_cond['PACP_Code'].isin(hole_codes), 'PACP_Code'] = 'Hole'\n",
    "    df_cond.loc[df_cond['PACP_Code'].isin(fracture_codes), 'PACP_Code'] = 'Fracture'\n",
    "    df_cond.loc[df_cond['PACP_Code'].isin(crack_codes), 'PACP_Code'] = 'Crack'\n",
    "    df_cond.loc[df_cond['PACP_Code'].isin(broken_codes), 'PACP_Code'] = 'Broken'\n",
    "    df_cond.loc[df_cond['PACP_Code'].isin(collapse_codes), 'PACP_Code'] = 'Collapse'\n",
    "    \n",
    "    df_cond.loc[df_cond['PACP_Code'].str.startswith('T'), 'PACP_Code'] = 'Tap'\n",
    "    df_cond.loc[df_cond['PACP_Code'].str.startswith('A'), 'PACP_Code'] = 'Manhole'\n",
    "    df_cond.loc[df_cond['PACP_Code'].str.startswith('J'), 'PACP_Code'] = 'Joint Offset'\n",
    "    df_cond.loc[df_cond['PACP_Code'].str.startswith('R'), 'PACP_Code'] = 'Root'\n",
    "    \n",
    "    return df_cond\n",
    "\n",
    "def delete_rows(df_cond, keep_defects):\n",
    "    \"\"\"\n",
    "    Delete rows where the defects that we want to consider are not present\n",
    "    \"\"\"\n",
    "    df_cond = df_cond[df_cond['PACP_Code'].isin(keep_defects)]\n",
    "    return df_cond\n",
    "    \n",
    "\n",
    "def select_df(df, insp_id, defect_list):\n",
    "    \"\"\"\n",
    "    Helper function used by count_defect_pairs()\n",
    "    This function only keeps the rows where ['defect1', 'defect2'] are present\n",
    "    It helps speed up the computation\n",
    "    \"\"\"\n",
    "    df = df[(df['InspectionID'] == insp_id)]\n",
    "    return  df[df['PACP_Code'].isin(defect_list)]\n",
    "\n",
    "def delete_inspections_with_no_defects(df_cond, defects):\n",
    "    \"\"\"\n",
    "    Delete those inspections where there aren't any defects at all. \n",
    "    By defects we mean fractures, cracks, etc. Not tap and manhole\n",
    "    \"\"\"\n",
    "    insp_ids = np.unique(list(df_cond['InspectionID']))\n",
    "\n",
    "    keep_ids = [] # Inspection IDs that we want to keep\n",
    "\n",
    "    for insp_id in insp_ids:\n",
    "        df_temp = df_cond[(df_cond['InspectionID'] == insp_id)]\n",
    "        if df_temp['PACP_Code'].isin(defects).sum() > 0:\n",
    "            keep_ids.append(insp_id)\n",
    "    \n",
    "    return df_cond[df_cond['InspectionID'].isin(keep_ids)]\n",
    "\n",
    "def count_defect_pairs(df_cond, keep_defects, distance_threshold):\n",
    "    \"\"\"\n",
    "    Count the number of defect pairs that are < distance_threshold within each other\n",
    "    \"\"\"\n",
    "    defect_pair_counts = []\n",
    "    \n",
    "    for a in range(0, len(keep_defects)): \n",
    "        for b in range(a+1, len(keep_defects)):\n",
    "\n",
    "            pair_count = 0\n",
    "            defect_pair = [keep_defects[a], keep_defects[b]] # Pair of defects whose no. of occurrences we wish to calculate\n",
    "\n",
    "            for insp_id in df_cond['InspectionID'].unique():\n",
    "            \n",
    "            # Inspection id which we are counting for\n",
    "                df = select_df(df_cond, insp_id, defect_pair)\n",
    "                insp_id = list(df['InspectionID'])\n",
    "                dist = list(df['Distance'])\n",
    "                defects = list(df['PACP_Code']) # Defects which are selected from a particular inspection\n",
    "\n",
    "                for i in range (0, len(defects) - 1):\n",
    "                    for j in range (i+1, len(defects)):\n",
    "                        defect_1, defect_2 = defects[i], defects[j]\n",
    "                        if (defect_1 == defect_pair[0] and defect_2 == defect_pair[1]) or (defect_2 == defect_pair[0] and defect_1 == defect_pair[1]):\n",
    "                            if abs(dist[i] - dist[j]) <= distance_threshold:\n",
    "                                pair_count = pair_count + 1\n",
    "\n",
    "            defect_pair_counts.append([keep_defects[a], keep_defects[b], pair_count])\n",
    "            \n",
    "    return defect_pair_counts\n",
    "\n",
    "\n",
    "   \n",
    "\n",
    "def create_econometric_database(df_insp, cols, defects):\n",
    "    df_insp = df_insp[cols]\n",
    "\n",
    "    f, c, t, m, j, r, d, b, h, cp = [], [], [], [], [], [], [], [], [], []\n",
    "\n",
    "    insp_ids = list(df_insp['InspectionID'])\n",
    "\n",
    "    for insp_id in insp_ids:\n",
    "\n",
    "        df_temp = df_cond.loc[df_cond['InspectionID'] == insp_id]\n",
    "\n",
    "        f.append(len(df_temp[df_temp['PACP_Code'] == 'Fracture']))\n",
    "        c.append(len(df_temp[df_temp['PACP_Code'] == 'Crack']))\n",
    "        t.append(len(df_temp[df_temp['PACP_Code'] == 'Tap']))\n",
    "        m.append(len(df_temp[df_temp['PACP_Code'] == 'Manhole']))\n",
    "        j.append(len(df_temp[df_temp['PACP_Code'] == 'Joint Offset']))\n",
    "        r.append(len(df_temp[df_temp['PACP_Code'] == 'Root']))\n",
    "        d.append(len(df_temp[df_temp['PACP_Code'] == 'Deposit']))\n",
    "        b.append(len(df_temp[df_temp['PACP_Code'] == 'Broken']))\n",
    "        h.append(len(df_temp[df_temp['PACP_Code'] == 'Hole']))\n",
    "        cp.append(len(df_temp[df_temp['PACP_Code'] == 'Collapse']))\n",
    "\n",
    "    df_insp['Fracture'] = f\n",
    "    df_insp['Crack'] = c\n",
    "    df_insp['Tap'] = t\n",
    "    df_insp['Manhole'] = m\n",
    "    df_insp['Joint Offset'] = j\n",
    "    df_insp['Root'] = r\n",
    "    df_insp['Deposit'] = d\n",
    "    df_insp['Broken'] = b\n",
    "    df_insp['Hole'] = h\n",
    "    df_insp['Collapse'] = cp\n",
    "    \n",
    "    return df_insp"
   ]
  },
  {
   "cell_type": "code",
   "execution_count": 13,
   "metadata": {},
   "outputs": [
    {
     "name": "stdout",
     "output_type": "stream",
     "text": [
      "Total number of inspections to begin with are: 3618\n",
      "Length : 108581.10015941903\n",
      "\n",
      "Number of inspections which contain defects is: 768\n",
      "\n",
      "Number of defects is as follows: \n",
      "Crack           789\n",
      "Fracture        354\n",
      "Broken          172\n",
      "Joint Offset    144\n",
      "Hole             34\n",
      "Name: PACP_Code, dtype: int64\n",
      "\n",
      "Number of inspections with Joint Offset and Fracture is: 352\n",
      "\n",
      "Number of defects in these inspections is as follows: \n",
      "Fracture        354\n",
      "Crack           225\n",
      "Joint Offset    144\n",
      "Broken           64\n",
      "Hole             10\n",
      "Name: PACP_Code, dtype: int64\n",
      "\n",
      "Number of (Joint Offset, Fracture) clusters is: 6\n",
      "Length : 52995.300032654\n"
     ]
    }
   ],
   "source": [
    "cluster_size = 10\n",
    "\n",
    "# Read the database of condition information from CSV\n",
    "df_cond = pd.read_csv('Conditions_Taylors.csv', sep=',')\n",
    "df_cond.head();\n",
    "print(\"Total number of inspections to begin with are: {}\".format(df_cond['InspectionID'].max()))\n",
    "\n",
    "# Change names of defects\n",
    "df_cond = change_defect_names(df_cond)\n",
    "\n",
    "# Keep only the rows which contain these defects. Delete all else\n",
    "keep_defects_struct = ['Fracture', 'Crack', 'Joint Offset', 'Broken', 'Hole', 'Collapse']\n",
    "keep_defects_operat = ['Root', 'Deposit']\n",
    "\n",
    "df_cond = delete_rows(df_cond, keep_defects_struct)\n",
    "\n",
    "df_cond = delete_inspections_with_no_defects(df_cond, keep_defects_struct)\n",
    "print(\"Length : {}\".format(calculate_length_of_pipeline(df_cond)))\n",
    "\n",
    "\n",
    "# Count the number of inspections that remain after the deletion\n",
    "print(\"\\nNumber of inspections which contain defects is: {}\".format(df_cond['InspectionID'].nunique()))\n",
    "\n",
    "# List the number of defects\n",
    "print(\"\\nNumber of defects is as follows: \\n{}\".format(df_cond['PACP_Code'].value_counts()))\n",
    "\n",
    "\"\"\"\n",
    "Counting only Fracture and Tap\n",
    "Delete all inspections which do not have both Fracture and Tap\n",
    "\"\"\"\n",
    "\n",
    "keep_defects = ['Joint Offset', 'Fracture']\n",
    "\n",
    "# Deletes those inspections which don't have defect1 or defect2\n",
    "df_cond = delete_inspections_with_no_defects(df_cond, [keep_defects[0], keep_defects[1]])\n",
    "\n",
    "# Count the number of inspections that remain after the deletion\n",
    "print(\"\\nNumber of inspections with {} and {} is: {}\".format(keep_defects[0], keep_defects[1], df_cond['InspectionID'].nunique()))\n",
    "\n",
    "# List the number of defects\n",
    "print(\"\\nNumber of defects in these inspections is as follows: \\n{}\".format(df_cond['PACP_Code'].value_counts()))\n",
    "\n",
    "# Counting the number of defect clusters within 5 feet\n",
    "defect_pair_counts = count_defect_pairs(df_cond, keep_defects, cluster_size)\n",
    "\n",
    "print('\\nNumber of ({}, {}) clusters is: {}'.format(keep_defects[0], keep_defects[1], defect_pair_counts[0][2]))\n",
    "\n",
    "# Count the total length of pipe in this dataframe\n",
    "length = calculate_length_of_pipeline(df_cond)\n",
    "\n",
    "print(\"Length : {}\".format(length))"
   ]
  },
  {
   "cell_type": "code",
   "execution_count": 6,
   "metadata": {},
   "outputs": [
    {
     "name": "stdout",
     "output_type": "stream",
     "text": [
      "Number of Joint Offset is 1943\n",
      "Number of Fracture is 8558\n",
      "Length: 419601.8005263697\n",
      "Average Joint Offset spacing: 215.955635885934 feet\n",
      "Average Fracture spacing: 49.03035762168377 feet\n"
     ]
    }
   ],
   "source": [
    "num_defect1 = df_cond['PACP_Code'].value_counts()[keep_defects[0]]\n",
    "num_defect2 = df_cond['PACP_Code'].value_counts()[keep_defects[1]]\n",
    "print(\"Number of {} is {}\".format(keep_defects[0], num_defect1))\n",
    "print(\"Number of {} is {}\".format(keep_defects[1], num_defect2))\n",
    "\n",
    "spacing1 = length/num_defect1\n",
    "spacing2 = length/num_defect2\n",
    "\n",
    "print(\"Length: {}\".format(length))\n",
    "print(\"Average {} spacing: {} feet\".format(keep_defects[0], spacing1))\n",
    "print(\"Average {} spacing: {} feet\".format(keep_defects[1], spacing2))"
   ]
  },
  {
   "cell_type": "code",
   "execution_count": 7,
   "metadata": {},
   "outputs": [
    {
     "name": "stdout",
     "output_type": "stream",
     "text": [
      "\n",
      "Number of (Joint Offset, Fracture) clusters is: 793\n"
     ]
    }
   ],
   "source": [
    "# If Taps and Fractures were uniformly distributed, calculate the number of co-occurrences\n",
    "import numpy as np\n",
    "\n",
    "defect1 = [[keep_defects[0], i, 1] for i in np.arange(0, length, spacing1)]\n",
    "defect2 = [[keep_defects[1], i, 1] for i in np.arange(0, length, spacing2)]\n",
    "df_cond_fake = pd.DataFrame(defect1+defect2, columns = ['PACP_Code', 'Distance', 'InspectionID'])\n",
    "defect_pair_counts = count_defect_pairs(df_cond_fake, [keep_defects[0], keep_defects[1]], cluster_size)\n",
    "print('\\nNumber of ({}, {}) clusters is: {}'.format(keep_defects[0], keep_defects[1], defect_pair_counts[0][2]))"
   ]
  },
  {
   "cell_type": "code",
   "execution_count": 14,
   "metadata": {},
   "outputs": [
    {
     "data": {
      "text/plain": [
       "'\\nCount number of defect hotspots\\n\\nTODO: Compare with uiform distribution/Weibull distribution/Try fitting curve\\n\\n'"
      ]
     },
     "execution_count": 14,
     "metadata": {},
     "output_type": "execute_result"
    }
   ],
   "source": [
    "\"\"\"\n",
    "Count number of defect hotspots\n",
    "\n",
    "TODO: Compare with uiform distribution/Weibull distribution/Try fitting curve\n",
    "\n",
    "\"\"\""
   ]
  },
  {
   "cell_type": "code",
   "execution_count": 21,
   "metadata": {},
   "outputs": [],
   "source": [
    "# Helper functions\n",
    "\n",
    "def delete_rows(df_cond, keep_defects):\n",
    "    \"\"\"\n",
    "    Delete rows where the defects that we want to consider are not present\n",
    "    \"\"\"\n",
    "    df_cond = df_cond[df_cond['PACP_Code'].isin(keep_defects)]\n",
    "    return df_cond\n",
    "    \n",
    "\n",
    "def select_df(df, insp_id, defect_list):\n",
    "    \"\"\"\n",
    "    Helper function used by count_defect_pairs()\n",
    "    This function only keeps the rows where ['defect1', 'defect2'] are present\n",
    "    It helps speed up the computation\n",
    "    \"\"\"\n",
    "    df = df[(df['InspectionID'] == insp_id)]\n",
    "    return  df[df['PACP_Code'].isin(defect_list)]"
   ]
  },
  {
   "cell_type": "code",
   "execution_count": 22,
   "metadata": {},
   "outputs": [],
   "source": [
    "# Defect Codes\n",
    "\n",
    "deposit_codes = ['DAE', 'DAGS', 'DAR', 'DAZ', 'DSV', 'DSGV', 'DSC', 'DSZ', 'DNF', 'DNGV', 'DNZ']\n",
    "deformed_codes = ['DR', 'DFBR', 'DFBI', 'DFC', 'DFE', 'DTBR', 'DTBI']\n",
    "infiltration_codes = ['IS', 'ISB', 'ISJ', 'ISC', 'ISL', 'IW', 'IWB', 'IWC', 'IWJ', 'IWL', 'ID', 'IDB', 'IDC', 'IDJ', 'IDL', 'IR', 'IRB', 'IRC', 'IRJ', 'IRL', 'IG', 'IGB', 'IGC', 'IGL', 'IGJ' ]\n",
    "hole_codes = ['HSV', 'HVV']\n",
    "fracture_codes = ['FL', 'FC', 'FM', 'FS', 'FH', 'FH2', 'FH3', 'FH4']\n",
    "crack_codes = ['CL', 'CC', 'CM', 'CS', 'CH', 'CH2', 'CH3', 'CH4']\n",
    "broken_codes = ['BSV', 'BVV']\n",
    "collapse_codes = ['X']\n",
    "\n",
    "tap_codes = ['TB', 'TBI', 'TBD', 'TBC', 'TBA', 'TF', 'TFI', 'TFD', 'TFC', 'TFA', 'TFB', 'TR', 'TRI', 'TRD', 'TRC', 'TRA', 'TRB', 'TS', 'TSI', 'TSD', 'TSA', 'TSB']\n",
    "root_codes = ['RFB', 'RFL', 'RFC', 'RFJ', 'RMB', 'RML', 'RMC', 'RMJ', 'RBB', 'RBL', 'RBC', 'RBJ', 'RTB', 'RTL', 'RTC', 'RTJ']\n",
    "joint_offset_codes = ['JOS', 'JOM', 'JOL', 'JOSD', 'JOMD', 'JOLD', 'JSS', 'JSM', 'JSL', 'JAS', 'JAM', 'JAL']\n",
    "\n",
    "defects_all = deposit_codes+deformed_codes+infiltration_codes+hole_codes+fracture_codes+crack_codes+broken_codes+root_codes+joint_offset_codes+collapse_codes\n",
    "defects_struct = deformed_codes+hole_codes+fracture_codes+crack_codes+broken_codes+joint_offset_codes+collapse_codes\n",
    "defects_operat = root_codes + deposit_codes\n",
    "\n",
    "keep_defects = defects_struct"
   ]
  },
  {
   "cell_type": "code",
   "execution_count": 38,
   "metadata": {},
   "outputs": [
    {
     "name": "stdout",
     "output_type": "stream",
     "text": [
      "Total number of inspections to begin with are: 8891\n",
      "Number of inspections after deletion are: 2825\n"
     ]
    }
   ],
   "source": [
    "# Count number of defect zones\n",
    "df_cond = pd.read_csv('Conditions_Combined.csv', sep=',')\n",
    "df_cond.head();\n",
    "print(\"Total number of inspections to begin with are: {}\".format(df_cond['InspectionID'].nunique()))\n",
    "\n",
    "# Change names of defects\n",
    "# df_cond = change_defect_names(df_cond)\n",
    "\n",
    "# Keep only the rows which contain these defects. Delete all else\n",
    "# keep_defects = ['Fracture', 'Crack', 'Joint Offset', 'Root', 'Deposit', 'Broken', 'Hole', 'Infiltration', 'Deformed']\n",
    "\n",
    "\n",
    "df_cond = delete_rows(df_cond, keep_defects)\n",
    "\n",
    "# Delete inspections which have no 'defects', i.e, fracture, crack, root, joint offset, deposit, broken\n",
    "df_cond = delete_inspections_with_no_defects(df_cond, keep_defects)\n",
    "\n",
    "print(\"Number of inspections after deletion are: {}\".format(df_cond['InspectionID'].nunique()))"
   ]
  },
  {
   "cell_type": "code",
   "execution_count": 41,
   "metadata": {},
   "outputs": [
    {
     "name": "stdout",
     "output_type": "stream",
     "text": [
      "\n",
      "Number of defects in these inspections is as follows: \n",
      "FM     4268\n",
      "CL     3321\n",
      "CM     3211\n",
      "CC     1900\n",
      "JOM    1642\n",
      "FS     1519\n",
      "FC     1429\n",
      "FL     1342\n",
      "CS      765\n",
      "BSV     320\n",
      "HSV     310\n",
      "JOL     189\n",
      "BVV     138\n",
      "HVV     128\n",
      "JSM      72\n",
      "FH3      27\n",
      "FH4      26\n",
      "JSL      19\n",
      "JAM      18\n",
      "CH3      14\n",
      "FH2      14\n",
      "CH2      12\n",
      "CH4      10\n",
      "JAL       3\n",
      "Name: PACP_Code, dtype: int64\n",
      "Length : 441077.6999943439\n"
     ]
    }
   ],
   "source": [
    "# List the number of defects\n",
    "df_counts = df_cond['PACP_Code'].value_counts()\n",
    "print(\"\\nNumber of defects in these inspections is as follows: \\n{}\".format(df_counts))\n",
    "df_counts.to_csv('defect_counts.csv')\n",
    "\n",
    "# Count the total length of pipe in this dataframe\n",
    "length = calculate_length_of_pipeline(df_cond)\n",
    "print(\"Length : {}\".format(length))"
   ]
  },
  {
   "cell_type": "code",
   "execution_count": 78,
   "metadata": {},
   "outputs": [],
   "source": [
    "thresh = 3\n",
    "insps = df_cond['InspectionID'].unique()\n",
    "zones = []\n",
    "\n",
    "for insp in insps:\n",
    "    \n",
    "    df_temp = df_cond[df_cond['InspectionID'] == insp]\n",
    "    df_temp = df_temp.sort_values(by=[\"Distance\"])\n",
    "    indices = df_temp.index\n",
    "    defect_prev, defect_curr = \"\",\"\"\n",
    "    dist_prev, dist_curr = 0, 0\n",
    "    zone_curr = []\n",
    "    \n",
    "    for index in indices:\n",
    "        defect_curr = df_temp.at[index, 'PACP_Code'] # Defect code at current index\n",
    "        dist_curr = float(df_temp.at[index, 'Distance']) # Distance of defect at current index        \n",
    "    \n",
    "        if abs(dist_curr - dist_prev) < thresh:\n",
    "            zone_curr.append((insp, defect_curr, dist_curr))\n",
    "        else:           \n",
    "            zones.append(zone_curr)\n",
    "            zone_curr = []\n",
    "            zone_curr.append((insp, defect_curr, dist_curr))\n",
    "                        \n",
    "        dist_prev = dist_curr\n",
    "        defect_prev = defect_curr\n",
    "        \n",
    "    zones.append(zone_curr)"
   ]
  },
  {
   "cell_type": "code",
   "execution_count": 79,
   "metadata": {},
   "outputs": [
    {
     "data": {
      "text/plain": [
       "[[],\n",
       " [(1, 'JOL', 11.10000038)],\n",
       " [],\n",
       " [(6, 'FM', 21.10000038)],\n",
       " [(6, 'FL', 75.5)],\n",
       " [],\n",
       " [(24, 'FL', 101.4000015)],\n",
       " [],\n",
       " [(25, 'CC', 13.69999981)],\n",
       " [(25, 'CL', 19.5)]]"
      ]
     },
     "execution_count": 79,
     "metadata": {},
     "output_type": "execute_result"
    }
   ],
   "source": [
    "len(zones)\n",
    "zones[0:10]"
   ]
  },
  {
   "cell_type": "code",
   "execution_count": 80,
   "metadata": {},
   "outputs": [],
   "source": [
    "# Delete empty zones\n",
    "zones = list(filter(lambda a: a!=[], zones))"
   ]
  },
  {
   "cell_type": "code",
   "execution_count": 81,
   "metadata": {},
   "outputs": [
    {
     "name": "stdout",
     "output_type": "stream",
     "text": [
      "Number of defects in clusters with min 5 defects is 1006\n",
      "Total number of defects is 20697\n",
      "Max defects in a zone is 16\n",
      "Number of clusters 167\n"
     ]
    }
   ],
   "source": [
    "\"\"\"\n",
    "Calculate number of colocated defects\n",
    "\"\"\"\n",
    "\n",
    "colocated = 0\n",
    "total = 0\n",
    "max_colocated = 0\n",
    "num_def_in_cluster = 5\n",
    "filtered_zones = []\n",
    "\n",
    "for zone in zones:\n",
    "    if len(zone) >= num_def_in_cluster:\n",
    "        colocated += len(zone)\n",
    "        filtered_zones.append(zone)\n",
    "        if len(zone) > max_colocated:\n",
    "            max_colocated = len(zone)\n",
    "            max_zone = zone\n",
    "    total += len(zone)\n",
    "    \n",
    "print(f'Number of defects in clusters with min {num_def_in_cluster} defects is {colocated}')\n",
    "print(f'Total number of defects is {total}')\n",
    "print(f'Max defects in a zone is {max_colocated}')\n",
    "print(f'Number of clusters {len(filtered_zones)}')"
   ]
  },
  {
   "cell_type": "code",
   "execution_count": 82,
   "metadata": {},
   "outputs": [
    {
     "data": {
      "text/plain": [
       "[(1983, 'FM', 23.70000076),\n",
       " (1983, 'BSV', 26.29999924),\n",
       " (1983, 'FS', 29.0),\n",
       " (1983, 'BSV', 31.29999924),\n",
       " (1983, 'BSV', 34.0),\n",
       " (1983, 'FM', 36.59999847),\n",
       " (1983, 'BSV', 39.20000076),\n",
       " (1983, 'BSV', 41.70000076),\n",
       " (1983, 'BSV', 44.29999924),\n",
       " (1983, 'FM', 44.29999924),\n",
       " (1983, 'BSV', 46.90000153),\n",
       " (1983, 'BSV', 46.90000153),\n",
       " (1983, 'FM', 46.90000153),\n",
       " (1983, 'BSV', 49.59999847),\n",
       " (1983, 'BSV', 52.09999847),\n",
       " (1983, 'FM', 52.09999847)]"
      ]
     },
     "execution_count": 82,
     "metadata": {},
     "output_type": "execute_result"
    }
   ],
   "source": [
    "max_zone"
   ]
  },
  {
   "cell_type": "code",
   "execution_count": 87,
   "metadata": {},
   "outputs": [
    {
     "name": "stdout",
     "output_type": "stream",
     "text": [
      "54\n"
     ]
    }
   ],
   "source": [
    "# Count number of zones which have fractures or cracks only\n",
    "num_zones_with_major_defects = 0\n",
    "\n",
    "\n",
    "for zone in filtered_zones:\n",
    "    for _, defect_code, _ in zone:\n",
    "        if defect_code in broken_codes + deformed_codes + hole_codes:\n",
    "            num_zones_with_major_defects += 1\n",
    "            break\n",
    "\n",
    "print(num_zones_with_major_defects)"
   ]
  },
  {
   "cell_type": "code",
   "execution_count": 92,
   "metadata": {},
   "outputs": [],
   "source": [
    "filtered_zones\n",
    "\n",
    "import csv\n",
    "\n",
    "with open(\"filered_zones.csv\", \"w\", newline=\"\") as f:\n",
    "    writer = csv.writer(f)\n",
    "    writer.writerows(filtered_zones)"
   ]
  },
  {
   "cell_type": "code",
   "execution_count": 50,
   "metadata": {},
   "outputs": [
    {
     "data": {
      "text/plain": [
       "{1: 13318,\n",
       " 2: 2151,\n",
       " 3: 481,\n",
       " 4: 157,\n",
       " 5: 88,\n",
       " 6: 47,\n",
       " 7: 10,\n",
       " 8: 10,\n",
       " 9: 4,\n",
       " 10: 2,\n",
       " 11: 2,\n",
       " 12: 2,\n",
       " 13: 0,\n",
       " 14: 0,\n",
       " 15: 0,\n",
       " 16: 2}"
      ]
     },
     "execution_count": 50,
     "metadata": {},
     "output_type": "execute_result"
    }
   ],
   "source": [
    "\"\"\"\n",
    "Calculate the number of zones of various lengths\n",
    "\"\"\"\n",
    "\n",
    "num_zones = {i:0 for i in range(1, max_colocated + 1)}\n",
    "for zone in zones:\n",
    "    if len(zone) >= 1:\n",
    "        num_zones[len(zone)] += 1\n",
    "        \n",
    "num_zones"
   ]
  },
  {
   "cell_type": "code",
   "execution_count": 89,
   "metadata": {},
   "outputs": [
    {
     "data": {
      "text/plain": [
       "[[(1027, 'FM', 114.3000031),\n",
       "  (1027, 'FM', 116.09999850000001),\n",
       "  (1027, 'JOM', 117.90000149999999),\n",
       "  (1027, 'FM', 119.40000149999999),\n",
       "  (1027, 'FM', 122.09999850000001)],\n",
       " [(1713, 'FM', 228.89999390000003),\n",
       "  (1713, 'FM', 231.6999969),\n",
       "  (1713, 'FC', 234.0),\n",
       "  (1713, 'FC', 235.1999969),\n",
       "  (1713, 'FM', 236.89999390000003)],\n",
       " [(1763, 'FM', 46.5),\n",
       "  (1763, 'FM', 47.59999847),\n",
       "  (1763, 'FL', 49.59999847),\n",
       "  (1763, 'FM', 52.20000076),\n",
       "  (1763, 'FM', 54.79999924)],\n",
       " [(1899, 'FS', 180.3999939),\n",
       "  (1899, 'FS', 183.0),\n",
       "  (1899, 'CL', 183.6999969),\n",
       "  (1899, 'FM', 185.3000031),\n",
       "  (1899, 'CL', 186.1999969),\n",
       "  (1899, 'HSV', 188.1000061),\n",
       "  (1899, 'FS', 188.3000031)],\n",
       " [(1942, 'CL', 83.40000153),\n",
       "  (1942, 'FL', 85.80000305),\n",
       "  (1942, 'FL', 86.30000305),\n",
       "  (1942, 'FS', 88.30000305),\n",
       "  (1942, 'FS', 91.0)],\n",
       " [(1983, 'FM', 23.70000076),\n",
       "  (1983, 'BSV', 26.29999924),\n",
       "  (1983, 'FS', 29.0),\n",
       "  (1983, 'BSV', 31.29999924),\n",
       "  (1983, 'BSV', 34.0),\n",
       "  (1983, 'FM', 36.59999847),\n",
       "  (1983, 'BSV', 39.20000076),\n",
       "  (1983, 'BSV', 41.70000076),\n",
       "  (1983, 'BSV', 44.29999924),\n",
       "  (1983, 'FM', 44.29999924),\n",
       "  (1983, 'BSV', 46.90000153),\n",
       "  (1983, 'BSV', 46.90000153),\n",
       "  (1983, 'FM', 46.90000153),\n",
       "  (1983, 'BSV', 49.59999847),\n",
       "  (1983, 'BSV', 52.09999847),\n",
       "  (1983, 'FM', 52.09999847)],\n",
       " [(1984, 'CL', 158.5),\n",
       "  (1984, 'FS', 160.8000031),\n",
       "  (1984, 'FS', 163.1999969),\n",
       "  (1984, 'CL', 165.6999969),\n",
       "  (1984, 'CL', 168.1999969),\n",
       "  (1984, 'FM', 168.6999969),\n",
       "  (1984, 'CL', 170.5),\n",
       "  (1984, 'FL', 171.0)],\n",
       " [(2071, 'FM', 95.59999847),\n",
       "  (2071, 'FM', 98.30000305),\n",
       "  (2071, 'BSV', 100.6999969),\n",
       "  (2071, 'FL', 103.1999969),\n",
       "  (2071, 'FM', 105.59999850000001),\n",
       "  (2071, 'CL', 106.40000149999999)],\n",
       " [(2095, 'CL', 119.40000149999999),\n",
       "  (2095, 'FM', 121.09999850000001),\n",
       "  (2095, 'FM', 123.3000031),\n",
       "  (2095, 'FM', 125.90000149999999),\n",
       "  (2095, 'FM', 128.3000031),\n",
       "  (2095, 'CM', 130.6999969),\n",
       "  (2095, 'CL', 133.3000031),\n",
       "  (2095, 'CM', 135.6999969)],\n",
       " [(2102, 'FL', 332.7000122),\n",
       "  (2102, 'CM', 333.60000610000003),\n",
       "  (2102, 'FL', 335.39999389999997),\n",
       "  (2102, 'FM', 336.10000610000003),\n",
       "  (2102, 'HSV', 338.2999878),\n",
       "  (2102, 'FM', 341.10000610000003)],\n",
       " [(2185, 'CC', 2.200000048),\n",
       "  (2185, 'FL', 2.5),\n",
       "  (2185, 'FS', 4.0),\n",
       "  (2185, 'FM', 4.0),\n",
       "  (2185, 'BSV', 4.0),\n",
       "  (2185, 'FL', 5.1999998089999995)],\n",
       " [(2188, 'CC', 105.8000031),\n",
       "  (2188, 'FL', 107.8000031),\n",
       "  (2188, 'CS', 107.8000031),\n",
       "  (2188, 'FL', 110.09999850000001),\n",
       "  (2188, 'CC', 110.8000031),\n",
       "  (2188, 'FS', 111.0),\n",
       "  (2188, 'FM', 111.5)],\n",
       " [(2303, 'BSV', 8.600000381000001),\n",
       "  (2303, 'HSV', 8.600000381000001),\n",
       "  (2303, 'FM', 8.600000381000001),\n",
       "  (2303, 'FM', 8.800000191),\n",
       "  (2303, 'FM', 9.699999809),\n",
       "  (2303, 'FH4', 11.60000038),\n",
       "  (2303, 'BSV', 12.10000038),\n",
       "  (2303, 'CL', 13.69999981),\n",
       "  (2303, 'FS', 14.19999981),\n",
       "  (2303, 'FS', 16.10000038)],\n",
       " [(2303, 'FM', 53.59999847),\n",
       "  (2303, 'BSV', 53.59999847),\n",
       "  (2303, 'HSV', 53.79999924),\n",
       "  (2303, 'FM', 54.20000076),\n",
       "  (2303, 'CC', 55.79999924),\n",
       "  (2303, 'CL', 58.20000076),\n",
       "  (2303, 'CM', 60.29999924),\n",
       "  (2303, 'FS', 62.09999847),\n",
       "  (2303, 'FM', 62.09999847)],\n",
       " [(2359, 'FM', 113.09999850000001),\n",
       "  (2359, 'FS', 113.5),\n",
       "  (2359, 'FM', 116.09999850000001),\n",
       "  (2359, 'FS', 117.0),\n",
       "  (2359, 'FS', 117.59999850000001)],\n",
       " [(2467, 'FS', 59.59999847),\n",
       "  (2467, 'FS', 59.59999847),\n",
       "  (2467, 'FM', 60.09999847),\n",
       "  (2467, 'FM', 62.79999924),\n",
       "  (2467, 'FL', 65.30000305)],\n",
       " [(3156, 'FM', 353.60000610000003),\n",
       "  (3156, 'FL', 356.10000610000003),\n",
       "  (3156, 'FM', 357.7000122),\n",
       "  (3156, 'CM', 360.39999389999997),\n",
       "  (3156, 'FM', 362.5)],\n",
       " [(3168, 'FM', 281.7999878),\n",
       "  (3168, 'FM', 283.2000122),\n",
       "  (3168, 'CM', 284.7000122),\n",
       "  (3168, 'CM', 286.10000610000003),\n",
       "  (3168, 'FM', 287.89999389999997),\n",
       "  (3168, 'FM', 290.7000122)],\n",
       " [(3285, 'FL', 62.59999847),\n",
       "  (3285, 'JOL', 65.09999847),\n",
       "  (3285, 'FL', 67.09999847),\n",
       "  (3285, 'FM', 69.09999847),\n",
       "  (3285, 'FM', 70.5),\n",
       "  (3285, 'CL', 71.5),\n",
       "  (3285, 'CL', 73.30000305),\n",
       "  (3285, 'JOM', 75.19999695),\n",
       "  (3285, 'CL', 77.80000305),\n",
       "  (3285, 'CM', 80.59999847),\n",
       "  (3285, 'CL', 82.30000305),\n",
       "  (3285, 'CL', 83.40000153)],\n",
       " [(3419, 'FS', 67.5),\n",
       "  (3419, 'FL', 70.19999695),\n",
       "  (3419, 'FS', 72.69999695),\n",
       "  (3419, 'FL', 73.90000153),\n",
       "  (3419, 'FC', 75.19999695)],\n",
       " [(3538, 'FM', 10.10000038),\n",
       "  (3538, 'FL', 11.89999962),\n",
       "  (3538, 'FM', 12.60000038),\n",
       "  (3538, 'FL', 15.30000019),\n",
       "  (3538, 'FM', 17.39999962),\n",
       "  (3538, 'FL', 20.29999924)],\n",
       " [(3538, 'FM', 48.90000153),\n",
       "  (3538, 'FM', 50.59999847),\n",
       "  (3538, 'FM', 53.20000076),\n",
       "  (3538, 'FM', 55.59999847),\n",
       "  (3538, 'FM', 57.79999924),\n",
       "  (3538, 'FM', 60.20000076)],\n",
       " [(3549, 'FM', 111.6999969),\n",
       "  (3549, 'FC', 114.3000031),\n",
       "  (3549, 'FM', 116.5),\n",
       "  (3549, 'FC', 118.90000149999999),\n",
       "  (3549, 'FC', 121.6999969)],\n",
       " [(3553, 'FS', 146.8999939),\n",
       "  (3553, 'FS', 149.3999939),\n",
       "  (3553, 'FS', 151.8999939),\n",
       "  (3553, 'FS', 154.6999969),\n",
       "  (3553, 'FS', 157.3000031)],\n",
       " [(3553, 'FS', 162.3999939),\n",
       "  (3553, 'FS', 162.3999939),\n",
       "  (3553, 'FS', 162.3999939),\n",
       "  (3553, 'FS', 164.8000031),\n",
       "  (3553, 'FS', 164.8000031)],\n",
       " [(7215, 'FS', 180.3999939),\n",
       "  (7215, 'FS', 183.0),\n",
       "  (7215, 'CL', 183.6999969),\n",
       "  (7215, 'FM', 185.3000031),\n",
       "  (7215, 'CL', 186.1999969),\n",
       "  (7215, 'HSV', 188.1000061),\n",
       "  (7215, 'FS', 188.3000031)],\n",
       " [(7258, 'CL', 83.40000153),\n",
       "  (7258, 'FL', 85.80000305),\n",
       "  (7258, 'FL', 86.30000305),\n",
       "  (7258, 'FS', 88.30000305),\n",
       "  (7258, 'FS', 91.0)],\n",
       " [(7299, 'FM', 23.70000076),\n",
       "  (7299, 'BSV', 26.29999924),\n",
       "  (7299, 'FS', 29.0),\n",
       "  (7299, 'BSV', 31.29999924),\n",
       "  (7299, 'BSV', 34.0),\n",
       "  (7299, 'FM', 36.59999847),\n",
       "  (7299, 'BSV', 39.20000076),\n",
       "  (7299, 'BSV', 41.70000076),\n",
       "  (7299, 'BSV', 44.29999924),\n",
       "  (7299, 'FM', 44.29999924),\n",
       "  (7299, 'BSV', 46.90000153),\n",
       "  (7299, 'BSV', 46.90000153),\n",
       "  (7299, 'FM', 46.90000153),\n",
       "  (7299, 'BSV', 49.59999847),\n",
       "  (7299, 'BSV', 52.09999847),\n",
       "  (7299, 'FM', 52.09999847)],\n",
       " [(7300, 'CL', 158.5),\n",
       "  (7300, 'FS', 160.8000031),\n",
       "  (7300, 'FS', 163.1999969),\n",
       "  (7300, 'CL', 165.6999969),\n",
       "  (7300, 'CL', 168.1999969),\n",
       "  (7300, 'FM', 168.6999969),\n",
       "  (7300, 'CL', 170.5),\n",
       "  (7300, 'FL', 171.0)],\n",
       " [(7387, 'FM', 95.59999847),\n",
       "  (7387, 'FM', 98.30000305),\n",
       "  (7387, 'BSV', 100.6999969),\n",
       "  (7387, 'FL', 103.1999969),\n",
       "  (7387, 'FM', 105.59999850000001),\n",
       "  (7387, 'CL', 106.40000149999999)],\n",
       " [(7411, 'CL', 119.40000149999999),\n",
       "  (7411, 'FM', 121.09999850000001),\n",
       "  (7411, 'FM', 123.3000031),\n",
       "  (7411, 'FM', 125.90000149999999),\n",
       "  (7411, 'FM', 128.3000031),\n",
       "  (7411, 'CM', 130.6999969),\n",
       "  (7411, 'CL', 133.3000031),\n",
       "  (7411, 'CM', 135.6999969)],\n",
       " [(7418, 'FL', 332.7000122),\n",
       "  (7418, 'CM', 333.60000610000003),\n",
       "  (7418, 'FL', 335.39999389999997),\n",
       "  (7418, 'FM', 336.10000610000003),\n",
       "  (7418, 'HSV', 338.2999878),\n",
       "  (7418, 'FM', 341.10000610000003)],\n",
       " [(7501, 'CC', 2.200000048),\n",
       "  (7501, 'FL', 2.5),\n",
       "  (7501, 'FS', 4.0),\n",
       "  (7501, 'FM', 4.0),\n",
       "  (7501, 'BSV', 4.0),\n",
       "  (7501, 'FL', 5.1999998089999995)],\n",
       " [(7504, 'CC', 105.8000031),\n",
       "  (7504, 'FL', 107.8000031),\n",
       "  (7504, 'CS', 107.8000031),\n",
       "  (7504, 'FL', 110.09999850000001),\n",
       "  (7504, 'CC', 110.8000031),\n",
       "  (7504, 'FS', 111.0),\n",
       "  (7504, 'FM', 111.5)],\n",
       " [(7619, 'BSV', 8.600000381000001),\n",
       "  (7619, 'HSV', 8.600000381000001),\n",
       "  (7619, 'FM', 8.600000381000001),\n",
       "  (7619, 'FM', 8.800000191),\n",
       "  (7619, 'FM', 9.699999809),\n",
       "  (7619, 'FH4', 11.60000038),\n",
       "  (7619, 'BSV', 12.10000038),\n",
       "  (7619, 'CL', 13.69999981),\n",
       "  (7619, 'FS', 14.19999981),\n",
       "  (7619, 'FS', 16.10000038)],\n",
       " [(7619, 'FM', 53.59999847),\n",
       "  (7619, 'BSV', 53.59999847),\n",
       "  (7619, 'HSV', 53.79999924),\n",
       "  (7619, 'FM', 54.20000076),\n",
       "  (7619, 'CC', 55.79999924),\n",
       "  (7619, 'CL', 58.20000076),\n",
       "  (7619, 'CM', 60.29999924),\n",
       "  (7619, 'FS', 62.09999847),\n",
       "  (7619, 'FM', 62.09999847)],\n",
       " [(7675, 'FM', 113.09999850000001),\n",
       "  (7675, 'FS', 113.5),\n",
       "  (7675, 'FM', 116.09999850000001),\n",
       "  (7675, 'FS', 117.0),\n",
       "  (7675, 'FS', 117.59999850000001)],\n",
       " [(7783, 'FS', 59.59999847),\n",
       "  (7783, 'FS', 59.59999847),\n",
       "  (7783, 'FM', 60.09999847),\n",
       "  (7783, 'FM', 62.79999924),\n",
       "  (7783, 'FL', 65.30000305)],\n",
       " [(8472, 'FM', 353.60000610000003),\n",
       "  (8472, 'FL', 356.10000610000003),\n",
       "  (8472, 'FM', 357.7000122),\n",
       "  (8472, 'CM', 360.39999389999997),\n",
       "  (8472, 'FM', 362.5)],\n",
       " [(8484, 'FM', 281.7999878),\n",
       "  (8484, 'FM', 283.2000122),\n",
       "  (8484, 'CM', 284.7000122),\n",
       "  (8484, 'CM', 286.10000610000003),\n",
       "  (8484, 'FM', 287.89999389999997),\n",
       "  (8484, 'FM', 290.7000122)],\n",
       " [(8601, 'FL', 62.59999847),\n",
       "  (8601, 'JOL', 65.09999847),\n",
       "  (8601, 'FL', 67.09999847),\n",
       "  (8601, 'FM', 69.09999847),\n",
       "  (8601, 'FM', 70.5),\n",
       "  (8601, 'CL', 71.5),\n",
       "  (8601, 'CL', 73.30000305),\n",
       "  (8601, 'JOM', 75.19999695),\n",
       "  (8601, 'CL', 77.80000305),\n",
       "  (8601, 'CM', 80.59999847),\n",
       "  (8601, 'CL', 82.30000305),\n",
       "  (8601, 'CL', 83.40000153)],\n",
       " [(8735, 'FS', 67.5),\n",
       "  (8735, 'FL', 70.19999695),\n",
       "  (8735, 'FS', 72.69999695),\n",
       "  (8735, 'FL', 73.90000153),\n",
       "  (8735, 'FC', 75.19999695)],\n",
       " [(8854, 'FM', 10.10000038),\n",
       "  (8854, 'FL', 11.89999962),\n",
       "  (8854, 'FM', 12.60000038),\n",
       "  (8854, 'FL', 15.30000019),\n",
       "  (8854, 'FM', 17.39999962),\n",
       "  (8854, 'FL', 20.29999924)],\n",
       " [(8854, 'FM', 48.90000153),\n",
       "  (8854, 'FM', 50.59999847),\n",
       "  (8854, 'FM', 53.20000076),\n",
       "  (8854, 'FM', 55.59999847),\n",
       "  (8854, 'FM', 57.79999924),\n",
       "  (8854, 'FM', 60.20000076)],\n",
       " [(8865, 'FM', 111.6999969),\n",
       "  (8865, 'FC', 114.3000031),\n",
       "  (8865, 'FM', 116.5),\n",
       "  (8865, 'FC', 118.90000149999999),\n",
       "  (8865, 'FC', 121.6999969)],\n",
       " [(8869, 'FS', 146.8999939),\n",
       "  (8869, 'FS', 149.3999939),\n",
       "  (8869, 'FS', 151.8999939),\n",
       "  (8869, 'FS', 154.6999969),\n",
       "  (8869, 'FS', 157.3000031)],\n",
       " [(8869, 'FS', 162.3999939),\n",
       "  (8869, 'FS', 162.3999939),\n",
       "  (8869, 'FS', 162.3999939),\n",
       "  (8869, 'FS', 164.8000031),\n",
       "  (8869, 'FS', 164.8000031)]]"
      ]
     },
     "execution_count": 89,
     "metadata": {},
     "output_type": "execute_result"
    }
   ],
   "source": [
    "\"\"\"\n",
    "Count the number of zones with more than 3 fractures\n",
    "\"\"\"\n",
    "hotspots = []\n",
    "count_hotspots = 0\n",
    "for zone in zones:\n",
    "    count_def = 0\n",
    "    if len(zone) >= 5:\n",
    "        for _, pacp_code, _ in zone:\n",
    "            if pacp_code in fracture_codes:\n",
    "                count_def += 1\n",
    "        if count_def > 3:\n",
    "            count_hotspots += 1\n",
    "            hotspots.append(zone)\n",
    "\n",
    "hotspots"
   ]
  },
  {
   "cell_type": "code",
   "execution_count": 16,
   "metadata": {},
   "outputs": [
    {
     "data": {
      "text/plain": [
       "{1: 16693,\n",
       " 2: 4132,\n",
       " 3: 1354,\n",
       " 4: 613,\n",
       " 5: 293,\n",
       " 6: 149,\n",
       " 7: 106,\n",
       " 8: 78,\n",
       " 9: 52,\n",
       " 10: 38,\n",
       " 11: 18,\n",
       " 12: 20,\n",
       " 13: 10,\n",
       " 14: 15,\n",
       " 15: 6,\n",
       " 16: 9,\n",
       " 17: 0,\n",
       " 18: 1,\n",
       " 19: 2,\n",
       " 20: 4,\n",
       " 21: 3,\n",
       " 22: 0,\n",
       " 23: 6,\n",
       " 24: 4,\n",
       " 25: 0,\n",
       " 26: 1,\n",
       " 27: 0,\n",
       " 28: 0,\n",
       " 29: 2}"
      ]
     },
     "execution_count": 16,
     "metadata": {},
     "output_type": "execute_result"
    }
   ],
   "source": []
  },
  {
   "cell_type": "code",
   "execution_count": 90,
   "metadata": {},
   "outputs": [],
   "source": [
    "\"\"\"\n",
    "Most frequent defect in colocated zone\n",
    "\"\"\"\n",
    "defects = {defect_code:0 for defect_code in keep_defects}\n",
    "for zone in zones:\n",
    "    if len(zone) >= 3:\n",
    "        for defect in zone:\n",
    "            defects[defect[1]] += 1 "
   ]
  },
  {
   "cell_type": "code",
   "execution_count": 91,
   "metadata": {},
   "outputs": [
    {
     "data": {
      "text/plain": [
       "{'DR': 0,\n",
       " 'DFBR': 0,\n",
       " 'DFBI': 0,\n",
       " 'DFC': 0,\n",
       " 'DFE': 0,\n",
       " 'DTBR': 0,\n",
       " 'DTBI': 0,\n",
       " 'HSV': 146,\n",
       " 'HVV': 42,\n",
       " 'FL': 298,\n",
       " 'FC': 101,\n",
       " 'FM': 561,\n",
       " 'FS': 327,\n",
       " 'FH': 0,\n",
       " 'FH2': 2,\n",
       " 'FH3': 10,\n",
       " 'FH4': 14,\n",
       " 'CL': 530,\n",
       " 'CC': 116,\n",
       " 'CM': 411,\n",
       " 'CS': 94,\n",
       " 'CH': 0,\n",
       " 'CH2': 5,\n",
       " 'CH3': 6,\n",
       " 'CH4': 6,\n",
       " 'BSV': 119,\n",
       " 'BVV': 11,\n",
       " 'JOS': 0,\n",
       " 'JOM': 209,\n",
       " 'JOL': 55,\n",
       " 'JOSD': 0,\n",
       " 'JOMD': 0,\n",
       " 'JOLD': 0,\n",
       " 'JSS': 0,\n",
       " 'JSM': 8,\n",
       " 'JSL': 6,\n",
       " 'JAS': 0,\n",
       " 'JAM': 0,\n",
       " 'JAL': 0,\n",
       " 'X': 0}"
      ]
     },
     "execution_count": 91,
     "metadata": {},
     "output_type": "execute_result"
    }
   ],
   "source": [
    "defects"
   ]
  },
  {
   "cell_type": "code",
   "execution_count": 131,
   "metadata": {},
   "outputs": [
    {
     "data": {
      "text/plain": [
       "'\\nFinding severity of defect clusters and finding length of these clusters.\\nWill allow for the best patch repair\\n\\n'"
      ]
     },
     "execution_count": 131,
     "metadata": {},
     "output_type": "execute_result"
    }
   ],
   "source": [
    "\"\"\"\n",
    "Finding severity of defect clusters and finding length of these clusters.\n",
    "Will allow for the best patch repair\n",
    "\n",
    "\"\"\""
   ]
  },
  {
   "cell_type": "code",
   "execution_count": 55,
   "metadata": {},
   "outputs": [
    {
     "data": {
      "text/plain": [
       "'\\nInterdefect association rule mining\\n'"
      ]
     },
     "execution_count": 55,
     "metadata": {},
     "output_type": "execute_result"
    }
   ],
   "source": [
    "\"\"\"\n",
    "Interdefect association rule mining\n",
    "\"\"\""
   ]
  },
  {
   "cell_type": "code",
   "execution_count": 68,
   "metadata": {},
   "outputs": [],
   "source": [
    "# Create matrix: https://towardsdatascience.com/association-rule-mining-be4122fc1793\n",
    "import numpy as np\n",
    "\n",
    "co_matrix = []\n",
    "\n",
    "for zone in zones:\n",
    "    row = np.zeros(len(keep_defects))\n",
    "    for _, defect, _ in zone:\n",
    "        defect_index = keep_defects.index(defect)\n",
    "        row[defect_index] = 1\n",
    "    co_matrix.append(row)"
   ]
  },
  {
   "cell_type": "code",
   "execution_count": 69,
   "metadata": {},
   "outputs": [
    {
     "data": {
      "text/plain": [
       "[[(1, 'JOL', 11.10000038)],\n",
       " [(6, 'FM', 21.10000038), (6, 'FL', 75.5)],\n",
       " [(24, 'FL', 101.4000015)],\n",
       " [(25, 'CC', 13.69999981),\n",
       "  (25, 'CL', 19.5),\n",
       "  (25, 'CC', 30.70000076),\n",
       "  (25, 'CM', 40.29999924),\n",
       "  (25, 'CM', 50.20000076),\n",
       "  (25, 'FL', 64.90000153)],\n",
       " [(27, 'CM', 98.69999695), (27, 'FC', 113.5), (27, 'CL', 192.1000061)]]"
      ]
     },
     "execution_count": 69,
     "metadata": {},
     "output_type": "execute_result"
    }
   ],
   "source": [
    "zones[:5]"
   ]
  },
  {
   "cell_type": "code",
   "execution_count": 70,
   "metadata": {},
   "outputs": [
    {
     "data": {
      "text/plain": [
       "2825"
      ]
     },
     "execution_count": 70,
     "metadata": {},
     "output_type": "execute_result"
    }
   ],
   "source": [
    "len(co_matrix)"
   ]
  },
  {
   "cell_type": "code",
   "execution_count": 71,
   "metadata": {},
   "outputs": [
    {
     "data": {
      "text/plain": [
       "[array([0., 0., 0., 0., 0., 0., 0., 0., 0., 0., 0., 0., 0., 0., 0., 0., 0.,\n",
       "        0., 0., 0., 0., 0., 0., 0., 0., 0., 0., 0., 0., 1., 0., 0., 0., 0.,\n",
       "        0., 0., 0., 0., 0., 0.]),\n",
       " array([0., 0., 0., 0., 0., 0., 0., 0., 0., 1., 0., 1., 0., 0., 0., 0., 0.,\n",
       "        0., 0., 0., 0., 0., 0., 0., 0., 0., 0., 0., 0., 0., 0., 0., 0., 0.,\n",
       "        0., 0., 0., 0., 0., 0.])]"
      ]
     },
     "execution_count": 71,
     "metadata": {},
     "output_type": "execute_result"
    }
   ],
   "source": [
    "co_matrix[:2]"
   ]
  },
  {
   "cell_type": "code",
   "execution_count": 72,
   "metadata": {},
   "outputs": [
    {
     "data": {
      "text/plain": [
       "True"
      ]
     },
     "execution_count": 72,
     "metadata": {},
     "output_type": "execute_result"
    }
   ],
   "source": [
    "len(co_matrix[0]) == len(keep_defects)"
   ]
  },
  {
   "cell_type": "code",
   "execution_count": 73,
   "metadata": {},
   "outputs": [],
   "source": [
    "def count_pairs(x, y, keep_defects, co_matrix):\n",
    "    count_x, count_y, count_xy = 0, 0, 0\n",
    "    for row in co_matrix:\n",
    "        if row[x] == 1 and row[y] == 1.0:\n",
    "            count_xy += 1\n",
    "        if row[x] == 1.0:\n",
    "            count_x += 1\n",
    "        if row[y] == 1.0:\n",
    "            count_y += 1\n",
    "            \n",
    "    return count_x, count_y, count_xy"
   ]
  },
  {
   "cell_type": "code",
   "execution_count": 74,
   "metadata": {},
   "outputs": [],
   "source": [
    "def support_confidence_xy(x, y, keep_defects, co_matrix):\n",
    "    count_x, count_y, count_xy = count_pairs(x, y, keep_defects, co_matrix)\n",
    "    support_xy = count_xy/len(co_matrix)\n",
    "    support_x = count_x/len(co_matrix)\n",
    "    support_y = count_y/len(co_matrix)\n",
    "    if count_x ==0 or count_y == 0 or count_xy ==0:\n",
    "        confidence_xy = 0\n",
    "    else:\n",
    "        confidence_xy = count_xy/count_x\n",
    "    return support_x, support_y, support_xy, confidence_xy"
   ]
  },
  {
   "cell_type": "code",
   "execution_count": 75,
   "metadata": {},
   "outputs": [],
   "source": [
    "min_support = 0.01\n",
    "min_confidence = 0.1\n",
    "rules = []\n",
    "\n",
    "for x in range(0, len(keep_defects)):\n",
    "    for y in range(0, len(keep_defects)):\n",
    "        if x!=y:\n",
    "            support_x, support_y, support_xy, confidence_xy = support_confidence_xy(x, y, keep_defects, co_matrix)\n",
    "            if support_xy > min_support and confidence_xy > min_confidence:\n",
    "                lift_xy = support_xy/(support_x*support_y)\n",
    "                rules.append([keep_defects[x], keep_defects[y], support_xy, confidence_xy, lift_xy])\n"
   ]
  },
  {
   "cell_type": "code",
   "execution_count": 76,
   "metadata": {},
   "outputs": [
    {
     "data": {
      "text/plain": [
       "[['FL', 'FM', 0.15008849557522125, 0.7464788732394366, 1.8242238900531218],\n",
       " ['HSV', 'FM', 0.04106194690265487, 0.7204968944099379, 1.7607298673945282],\n",
       " ['FS', 'FM', 0.12176991150442477, 0.7034764826175869, 1.71913586798848],\n",
       " ['HVV', 'FM', 0.018761061946902656, 0.6463414634146342, 1.579510929192337],\n",
       " ['HVV', 'CL', 0.018053097345132742, 0.6219512195121951, 1.637476416702657],\n",
       " ['BSV', 'FM', 0.04176991150442478, 0.6178010471204188, 1.5097646696498126],\n",
       " ['CS', 'FM', 0.0775221238938053, 0.6151685393258427, 1.5033314217954201],\n",
       " ['CM', 'CL', 0.1872566371681416, 0.6101499423298731, 1.6064059525460312],\n",
       " ['FL', 'CL', 0.12035398230088495, 0.5985915492957746, 1.5759749550424635],\n",
       " ['JOL', 'JOM', 0.021946902654867255, 0.5961538461538461, 2.783693579148124],\n",
       " ['CS', 'CL', 0.07469026548672567, 0.5926966292134831, 1.5604547786841474],\n",
       " ['CS', 'FS', 0.07362831858407079, 0.5842696629213483, 3.3753819994944974],\n",
       " ['FC', 'FM', 0.1561061946902655, 0.5719844357976653, 1.3977993348861633],\n",
       " ['FS', 'CL', 0.09592920353982301, 0.5541922290388548, 1.4590801929494548],\n",
       " ['CM', 'FM', 0.16707964601769912, 0.544405997693195, 1.3304039303488544],\n",
       " ['JOL', 'FM', 0.01982300884955752, 0.5384615384615384, 1.3158770295448499],\n",
       " ['CL', 'FM', 0.19681415929203538, 0.5181733457595527, 1.2662973198708791],\n",
       " ['HSV', 'CL', 0.029026548672566373, 0.5093167701863354, 1.3409318506769783],\n",
       " ['CM', 'CC', 0.1529203539823009, 0.4982698961937716, 1.5502339832019876],\n",
       " ['CL', 'CM', 0.1872566371681416, 0.4930102516309413, 1.6064059525460312],\n",
       " ['JOL', 'CL', 0.018053097345132742, 0.49038461538461536, 1.2910871747078645],\n",
       " ['HVV', 'FS', 0.01415929203539823, 0.4878048780487805, 2.8180956656192326],\n",
       " ['CC', 'CL', 0.1561061946902655, 0.4856828193832599, 1.2787082616567653],\n",
       " ['BSV', 'CL', 0.03256637168141593, 0.4816753926701571, 1.2681574876916997],\n",
       " ['FM', 'CL', 0.19681415929203538, 0.4809688581314879, 1.2662973198708791],\n",
       " ['JOL', 'CM', 0.017699115044247787, 0.4807692307692308, 1.5665202732676782],\n",
       " ['CC', 'CM', 0.1529203539823009, 0.47577092511013214, 1.5502339832019876],\n",
       " ['CS', 'CM', 0.05734513274336283, 0.4550561797752809, 1.482737840674935],\n",
       " ['FS', 'FL', 0.07787610619469026, 0.4498977505112474, 2.237607649989919],\n",
       " ['FL', 'CM', 0.09026548672566372, 0.448943661971831, 1.4628210439105218],\n",
       " ['HVV', 'CM', 0.012743362831858408, 0.43902439024390244, 1.4305004641741919],\n",
       " ['HSV', 'FS', 0.024778761061946902, 0.43478260869565216, 2.511780919356273],\n",
       " ['FS', 'CS', 0.07362831858407079, 0.42535787321063395, 3.3753819994944974],\n",
       " ['HSV', 'FL', 0.023716814159292034, 0.4161490683229814, 2.06975548945849],\n",
       " ['CC', 'FM', 0.1334513274336283, 0.41519823788546256, 1.0146496730332453],\n",
       " ['JOM', 'FM', 0.08814159292035398, 0.4115702479338843, 1.0057836941290856],\n",
       " ['CL', 'CC', 0.1561061946902655, 0.4109972041006524, 1.2787082616567653],\n",
       " ['BSV', 'CM', 0.02761061946902655, 0.4083769633507853, 1.3306400478269533],\n",
       " ['FM', 'CM', 0.16707964601769912, 0.4083044982698962, 1.3304039303488544],\n",
       " ['FL', 'FC', 0.08035398230088496, 0.3996478873239437, 1.4643388867576406],\n",
       " ['JOM', 'CL', 0.08530973451327434, 0.39834710743801655, 1.04877034344119],\n",
       " ['HVV', 'CS', 0.011327433628318584, 0.3902439024390244, 3.096738832556865],\n",
       " ['FL', 'FS', 0.07787610619469026, 0.3873239436619718, 2.237607649989919],\n",
       " ['FS', 'CM', 0.06690265486725663, 0.38650306748466257, 1.2593669730613284],\n",
       " ['FM', 'FC', 0.1561061946902655, 0.3814878892733564, 1.3977993348861633],\n",
       " ['FL', 'CC', 0.07504424778761062, 0.3732394366197183, 1.1612350313333748],\n",
       " ['JOM', 'CM', 0.07929203539823008, 0.3702479338842975, 1.2064018606956637],\n",
       " ['FC', 'CL', 0.10053097345132743, 0.36835278858625164, 0.9698011442275497],\n",
       " ['CS', 'FL', 0.046371681415929206, 0.36797752808988765, 1.8301699240386142],\n",
       " ['FM', 'FL', 0.15008849557522125, 0.36678200692041524, 1.8242238900531218],\n",
       " ['HSV', 'JOM', 0.02088495575221239, 0.36645962732919257, 1.711154458190031],\n",
       " ['BSV', 'CC', 0.024424778761061947, 0.3612565445026178, 1.123953456189312],\n",
       " ['HSV', 'CM', 0.020530973451327435, 0.36024844720496896, 1.173819911596352],\n",
       " ['HVV', 'CC', 0.010265486725663717, 0.35365853658536583, 1.1003142795745136],\n",
       " ['FC', 'CC', 0.09628318584070797, 0.3527885862516213, 1.0976076609700771],\n",
       " ['BSV', 'FS', 0.02336283185840708, 0.34554973821989526, 1.9962740500433622],\n",
       " ['FC', 'CM', 0.09380530973451327, 0.3437094682230869, 1.119929928177878],\n",
       " ['HSV', 'CS', 0.01911504424778761, 0.33540372670807456, 2.6615604717705352],\n",
       " ['CS', 'JOM', 0.04212389380530973, 0.3342696629213483, 1.5608459466988578],\n",
       " ['BSV', 'FL', 0.022300884955752213, 0.3298429319371728, 1.640504018877664],\n",
       " ['HSV', 'CC', 0.018761061946902656, 0.32919254658385094, 1.024194872356144],\n",
       " ['FM', 'CC', 0.1334513274336283, 0.32612456747404844, 1.0146496730332453],\n",
       " ['BSV', 'CS', 0.021946902654867255, 0.32460732984293195, 2.5758868168715807],\n",
       " ['JOL', 'CC', 0.01168141592920354, 0.3173076923076923, 0.9872183158251441],\n",
       " ['CL', 'FL', 0.12035398230088495, 0.3168685927306617, 1.5759749550424635],\n",
       " ['CS', 'CC', 0.03893805309734513, 0.3089887640449438, 0.9613361876948967],\n",
       " ['CM', 'FC', 0.09380530973451327, 0.30565167243367936, 1.119929928177878],\n",
       " ['CC', 'FC', 0.09628318584070797, 0.29955947136563876, 1.0976076609700771],\n",
       " ['JOL', 'FC', 0.010973451327433627, 0.2980769230769231, 1.0921754963583756],\n",
       " ['FM', 'FS', 0.12176991150442477, 0.2975778546712803, 1.71913586798848],\n",
       " ['FC', 'FL', 0.08035398230088496, 0.29442282749675747, 1.4643388867576406],\n",
       " ['CM', 'FL', 0.09026548672566372, 0.29411764705882354, 1.4628210439105218],\n",
       " ['JOL', 'FL', 0.010619469026548672, 0.28846153846153844, 1.434689869989166],\n",
       " ['JOL', 'FS', 0.010619469026548672, 0.28846153846153844, 1.6664700330344504],\n",
       " ['FS', 'JOM', 0.049203539823008846, 0.2842535787321063, 1.327299768459835],\n",
       " ['JOM', 'CC', 0.05876106194690266, 0.2743801652892562, 0.8536607565442166],\n",
       " ['CL', 'FC', 0.10053097345132743, 0.2646784715750233, 0.9698011442275497],\n",
       " ['HSV', 'FC', 0.014867256637168142, 0.2608695652173913, 0.9558450346811028],\n",
       " ['FS', 'FC', 0.04495575221238938, 0.25971370143149286, 0.9516098658157811],\n",
       " ['CM', 'JOM', 0.07929203539823008, 0.25836216839677045, 1.2064018606956637],\n",
       " ['HSV', 'BSV', 0.014513274336283187, 0.2546583850931677, 3.7665441774251245],\n",
       " ['CL', 'FS', 0.09592920353982301, 0.25256290773532153, 1.4590801929494548],\n",
       " ['BSV', 'FC', 0.01663716814159292, 0.24607329842931938, 0.9016304384731868],\n",
       " ['FL', 'JOM', 0.048849557522123895, 0.24295774647887325, 1.134472121988127],\n",
       " ['FS', 'CC', 0.04070796460176991, 0.23517382413087934, 0.731680675297064],\n",
       " ['CC', 'FL', 0.07504424778761062, 0.23348017621145375, 1.1612350313333748],\n",
       " ['FL', 'CS', 0.046371681415929206, 0.2306338028169014, 1.8301699240386142],\n",
       " ['BSV', 'JOM', 0.015575221238938054, 0.23036649214659685, 1.0756782484531175],\n",
       " ['JOM', 'FS', 0.049203539823008846, 0.22975206611570248, 1.327299768459835],\n",
       " ['JOM', 'FL', 0.048849557522123895, 0.228099173553719, 1.134472121988127],\n",
       " ['CL', 'JOM', 0.08530973451327434, 0.22460391425908668, 1.04877034344119],\n",
       " ['CM', 'FS', 0.06690265486725663, 0.2179930795847751, 1.2593669730613284],\n",
       " ['FM', 'JOM', 0.08814159292035398, 0.21539792387543252, 1.0057836941290856],\n",
       " ['BSV', 'HSV', 0.014513274336283187, 0.21465968586387435, 3.7665441774251245],\n",
       " ['JOM', 'CS', 0.04212389380530973, 0.19669421487603306, 1.5608459466988578],\n",
       " ['CL', 'CS', 0.07469026548672567, 0.1966449207828518, 1.5604547786841474],\n",
       " ['FM', 'CS', 0.0775221238938053, 0.1894463667820069, 1.5033314217954201],\n",
       " ['CM', 'CS', 0.05734513274336283, 0.18685121107266436, 1.482737840674935],\n",
       " ['CC', 'JOM', 0.05876106194690266, 0.1828193832599119, 0.8536607565442166],\n",
       " ['CS', 'BSV', 0.021946902654867255, 0.17415730337078653, 2.5758868168715807],\n",
       " ['JOM', 'FC', 0.03716814159292035, 0.17355371900826447, 0.6359134321638743],\n",
       " ['FC', 'FS', 0.04495575221238938, 0.16472114137483787, 0.9516098658157811],\n",
       " ['CS', 'FC', 0.020530973451327435, 0.16292134831460675, 0.5969556536819249],\n",
       " ['CS', 'HSV', 0.01911504424778761, 0.15168539325842698, 2.6615604717705352],\n",
       " ['FS', 'HSV', 0.024778761061946902, 0.14314928425357873, 2.511780919356273],\n",
       " ['FC', 'JOM', 0.03716814159292035, 0.13618677042801555, 0.6359134321638743],\n",
       " ['FS', 'BSV', 0.02336283185840708, 0.13496932515337423, 1.9962740500433622],\n",
       " ['CC', 'FS', 0.04070796460176991, 0.12665198237885464, 0.731680675297064],\n",
       " ['CC', 'CS', 0.03893805309734513, 0.1211453744493392, 0.9613361876948967],\n",
       " ['FL', 'HSV', 0.023716814159292034, 0.11795774647887323, 2.06975548945849],\n",
       " ['FL', 'BSV', 0.022300884955752213, 0.11091549295774648, 1.640504018877664],\n",
       " ['JOM', 'JOL', 0.021946902654867255, 0.1024793388429752, 2.783693579148124],\n",
       " ['FM', 'BSV', 0.04176991150442478, 0.10207612456747404, 1.5097646696498126],\n",
       " ['FM', 'HSV', 0.04106194690265487, 0.10034602076124567, 1.7607298673945282]]"
      ]
     },
     "execution_count": 76,
     "metadata": {},
     "output_type": "execute_result"
    }
   ],
   "source": [
    "rules.sort(key=lambda tup: tup[3], reverse=True)  # sorts in place by confidence\n",
    "rules"
   ]
  },
  {
   "cell_type": "code",
   "execution_count": 143,
   "metadata": {},
   "outputs": [
    {
     "data": {
      "text/plain": [
       "\" \\n\\nInteresting Rules from Association Rules on Pipe-Level \\n\\n['JOL', 'FM', 0.011782032400589101, 0.5384615384615384, 2.213933989885547]\\n['RFB', 'FM', 0.014727540500736377, 0.6542056074766355, 2.689826342851599],\\n['RFB', 'CL', 0.011782032400589101, 0.5233644859813084, 2.318314447221956],\\n\\nInteresting Rules from Association Rules on Cluster-Level (Threshold = 20) \\n['JOM', 'FM', 0.019923103809856693, 0.24332977588046958, 1.5513459360312503],\\n['JOM', 'CL', 0.01896190143306536, 0.23159018143009605, 1.6111355843684008]\\n['JOM', 'CM', 0.01494232785739252, 0.1824973319103522, 1.4917853331300504]]\\n\\nInteresting Rules from Association Rules on Cluster-Level (Threshold = 30) \\n['HSV', 'FM', 0.01151047887935715, 0.6198830409356725, 3.8209524256871545],\\n['BSV', 'FM', 0.01205342599630796, 0.5522388059701493, 3.40399408579592],\\n['JOM', 'FM', 0.0253013356499077, 0.2757396449704142, 1.6996562185626136],\\n['JOM', 'CL', 0.023672494299055272, 0.2579881656804734, 1.7291215558598831],\\n['CS', 'JOM', 0.011619068302747313, 0.25235849056603776, 2.7502595735179187],\\n['JOM', 'CM', 0.021609295254642197, 0.23550295857988165, 1.9040796712573573]\\n['FS', 'JOM', 0.013465088500380064, 0.20261437908496732, 2.2081370615307265]\\n\\n\\n\""
      ]
     },
     "execution_count": 143,
     "metadata": {},
     "output_type": "execute_result"
    }
   ],
   "source": [
    "\"\"\" \n",
    "\n",
    "Interesting Rules from Association Rules on Pipe-Level \n",
    "\n",
    "['JOL', 'FM', 0.011782032400589101, 0.5384615384615384, 2.213933989885547]\n",
    "['RFB', 'FM', 0.014727540500736377, 0.6542056074766355, 2.689826342851599],\n",
    "['RFB', 'CL', 0.011782032400589101, 0.5233644859813084, 2.318314447221956],\n",
    "\n",
    "Interesting Rules from Association Rules on Cluster-Level (Threshold = 20) \n",
    "['JOM', 'FM', 0.019923103809856693, 0.24332977588046958, 1.5513459360312503],\n",
    "['JOM', 'CL', 0.01896190143306536, 0.23159018143009605, 1.6111355843684008]\n",
    "['JOM', 'CM', 0.01494232785739252, 0.1824973319103522, 1.4917853331300504]]\n",
    "\n",
    "Interesting Rules from Association Rules on Cluster-Level (Threshold = 30) \n",
    "['HSV', 'FM', 0.01151047887935715, 0.6198830409356725, 3.8209524256871545],\n",
    "['BSV', 'FM', 0.01205342599630796, 0.5522388059701493, 3.40399408579592],\n",
    "['JOM', 'FM', 0.0253013356499077, 0.2757396449704142, 1.6996562185626136],\n",
    "['JOM', 'CL', 0.023672494299055272, 0.2579881656804734, 1.7291215558598831],\n",
    "['CS', 'JOM', 0.011619068302747313, 0.25235849056603776, 2.7502595735179187],\n",
    "['JOM', 'CM', 0.021609295254642197, 0.23550295857988165, 1.9040796712573573]\n",
    "['FS', 'JOM', 0.013465088500380064, 0.20261437908496732, 2.2081370615307265]\n",
    "\n",
    "\n",
    "\"\"\""
   ]
  },
  {
   "cell_type": "code",
   "execution_count": 78,
   "metadata": {},
   "outputs": [
    {
     "name": "stdout",
     "output_type": "stream",
     "text": [
      "Number of rows with more than 1 defect is 3995\n"
     ]
    }
   ],
   "source": [
    "num_rows = 0\n",
    "for row in co_matrix:\n",
    "    if np.count_nonzero(row == 1) > 1:\n",
    "        num_rows += 1\n",
    "        \n",
    "print(f'Number of rows with more than 1 defect is {num_rows}')"
   ]
  },
  {
   "cell_type": "code",
   "execution_count": 102,
   "metadata": {},
   "outputs": [
    {
     "data": {
      "text/plain": [
       "1.0530775826485135"
      ]
     },
     "execution_count": 102,
     "metadata": {},
     "output_type": "execute_result"
    }
   ],
   "source": [
    "lift = support/(support_x*support_y)\n",
    "lift"
   ]
  },
  {
   "cell_type": "code",
   "execution_count": 181,
   "metadata": {},
   "outputs": [
    {
     "data": {
      "text/plain": [
       "0.07973102785782901"
      ]
     },
     "execution_count": 181,
     "metadata": {},
     "output_type": "execute_result"
    }
   ],
   "source": [
    "support"
   ]
  },
  {
   "cell_type": "code",
   "execution_count": 36,
   "metadata": {},
   "outputs": [
    {
     "name": "stderr",
     "output_type": "stream",
     "text": [
      "/anaconda/lib/python3.6/site-packages/ipykernel_launcher.py:92: SettingWithCopyWarning: \n",
      "A value is trying to be set on a copy of a slice from a DataFrame.\n",
      "Try using .loc[row_indexer,col_indexer] = value instead\n",
      "\n",
      "See the caveats in the documentation: http://pandas.pydata.org/pandas-docs/stable/indexing.html#indexing-view-versus-copy\n",
      "/anaconda/lib/python3.6/site-packages/ipykernel_launcher.py:93: SettingWithCopyWarning: \n",
      "A value is trying to be set on a copy of a slice from a DataFrame.\n",
      "Try using .loc[row_indexer,col_indexer] = value instead\n",
      "\n",
      "See the caveats in the documentation: http://pandas.pydata.org/pandas-docs/stable/indexing.html#indexing-view-versus-copy\n",
      "/anaconda/lib/python3.6/site-packages/ipykernel_launcher.py:94: SettingWithCopyWarning: \n",
      "A value is trying to be set on a copy of a slice from a DataFrame.\n",
      "Try using .loc[row_indexer,col_indexer] = value instead\n",
      "\n",
      "See the caveats in the documentation: http://pandas.pydata.org/pandas-docs/stable/indexing.html#indexing-view-versus-copy\n",
      "/anaconda/lib/python3.6/site-packages/ipykernel_launcher.py:95: SettingWithCopyWarning: \n",
      "A value is trying to be set on a copy of a slice from a DataFrame.\n",
      "Try using .loc[row_indexer,col_indexer] = value instead\n",
      "\n",
      "See the caveats in the documentation: http://pandas.pydata.org/pandas-docs/stable/indexing.html#indexing-view-versus-copy\n",
      "/anaconda/lib/python3.6/site-packages/ipykernel_launcher.py:96: SettingWithCopyWarning: \n",
      "A value is trying to be set on a copy of a slice from a DataFrame.\n",
      "Try using .loc[row_indexer,col_indexer] = value instead\n",
      "\n",
      "See the caveats in the documentation: http://pandas.pydata.org/pandas-docs/stable/indexing.html#indexing-view-versus-copy\n",
      "/anaconda/lib/python3.6/site-packages/ipykernel_launcher.py:97: SettingWithCopyWarning: \n",
      "A value is trying to be set on a copy of a slice from a DataFrame.\n",
      "Try using .loc[row_indexer,col_indexer] = value instead\n",
      "\n",
      "See the caveats in the documentation: http://pandas.pydata.org/pandas-docs/stable/indexing.html#indexing-view-versus-copy\n",
      "/anaconda/lib/python3.6/site-packages/ipykernel_launcher.py:98: SettingWithCopyWarning: \n",
      "A value is trying to be set on a copy of a slice from a DataFrame.\n",
      "Try using .loc[row_indexer,col_indexer] = value instead\n",
      "\n",
      "See the caveats in the documentation: http://pandas.pydata.org/pandas-docs/stable/indexing.html#indexing-view-versus-copy\n",
      "/anaconda/lib/python3.6/site-packages/ipykernel_launcher.py:99: SettingWithCopyWarning: \n",
      "A value is trying to be set on a copy of a slice from a DataFrame.\n",
      "Try using .loc[row_indexer,col_indexer] = value instead\n",
      "\n",
      "See the caveats in the documentation: http://pandas.pydata.org/pandas-docs/stable/indexing.html#indexing-view-versus-copy\n"
     ]
    }
   ],
   "source": [
    "\"\"\"\n",
    "Make a database with external factors for econometric analysis\n",
    "\"\"\"\n",
    "# Read the inspections database\n",
    "df_insp = pd.read_csv('Inspections_Hazen_Sawyer.csv')\n",
    "\n",
    "# Columns that we want to keep\n",
    "cols = ['InspectionID', 'Height', 'Down_Rim_to_Invert', 'Up_Rim_to_Invert', 'Height', 'Total_Length', 'Location_Code', 'Location_Details', 'Material', 'Weather', 'Street']\n",
    "\n",
    "# Defect pairs to keep\n",
    "keep_defects = ['Fracture', 'Crack', 'Tap', 'Manhole', 'Joint Offset', 'Root', 'Deposit', 'Broken']\n",
    "\n",
    "df_insp = create_econometric_database(df_insp, cols, keep_defects)\n",
    "\n",
    "df_insp.head()"
   ]
  },
  {
   "cell_type": "code",
   "execution_count": 47,
   "metadata": {},
   "outputs": [],
   "source": []
  },
  {
   "cell_type": "code",
   "execution_count": null,
   "metadata": {},
   "outputs": [],
   "source": []
  }
 ],
 "metadata": {
  "kernelspec": {
   "display_name": "Python 3",
   "language": "python",
   "name": "python3"
  },
  "language_info": {
   "codemirror_mode": {
    "name": "ipython",
    "version": 3
   },
   "file_extension": ".py",
   "mimetype": "text/x-python",
   "name": "python",
   "nbconvert_exporter": "python",
   "pygments_lexer": "ipython3",
   "version": "3.7.1"
  }
 },
 "nbformat": 4,
 "nbformat_minor": 2
}
