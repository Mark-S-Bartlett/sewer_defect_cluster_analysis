{
 "cells": [
  {
   "cell_type": "code",
   "execution_count": 1,
   "metadata": {},
   "outputs": [],
   "source": [
    "\"\"\"\n",
    "Association rule mining\n",
    "\"\"\"\n",
    "import os\n",
    "import numpy as np\n",
    "import pandas as pd"
   ]
  },
  {
   "cell_type": "code",
   "execution_count": 2,
   "metadata": {},
   "outputs": [],
   "source": [
    "path = os.getcwd()\n",
    "files = os.listdir(path)"
   ]
  },
  {
   "cell_type": "code",
   "execution_count": 3,
   "metadata": {},
   "outputs": [
    {
     "data": {
      "text/plain": [
       "'\\n\\nKey ideas to report in the paper\\n1. General statistics: Number of pipes with defects, most frequent defects \\n2. Number of instances of two defects being within the same vicinity, probabilities of these occurrences\\n3. Support, lift, etc.\\n\\n'"
      ]
     },
     "execution_count": 3,
     "metadata": {},
     "output_type": "execute_result"
    }
   ],
   "source": [
    "\"\"\"\n",
    "\n",
    "Key ideas to report in the paper\n",
    "1. General statistics: Number of pipes with defects, most frequent defects \n",
    "2. Number of instances of two defects being within the same vicinity, probabilities of these occurrences\n",
    "3. Support, lift, etc.\n",
    "\n",
    "\"\"\""
   ]
  },
  {
   "cell_type": "code",
   "execution_count": 12,
   "metadata": {},
   "outputs": [],
   "source": [
    "\"\"\"\n",
    "Helper functions\n",
    "\"\"\"\n",
    "\n",
    "def change_defect_names(df_cond):\n",
    "    \"\"\" \n",
    "    Change the names of defects: e.g., FL => Fracture, TB => Tap\n",
    "    Takes df_cond as input. \n",
    "    \"\"\"\n",
    "    deposit_codes = ['DAE', 'DAGS', 'DAR', 'DAZ', 'DSV', 'DSGV', 'DSC', 'DSZ', 'DNF', 'DNGV', 'DNZ']\n",
    "    deformed_codes = ['DR', 'DFBR', 'DFBI', 'DFC', 'DFE', 'DTBR', 'DTBI']\n",
    "    infiltration_codes = ['IS', 'ISB', 'ISJ', 'ISC', 'ISL', 'IW', 'IWB', 'IWC', 'IWJ', 'IWL', 'ID', 'IDB', 'IDC', 'IDJ', 'IDL', 'IR', 'IRB', 'IRC', 'IRJ', 'IRL', 'IG', 'IGB', 'IGC', 'IGL', 'IGJ' ]\n",
    "    hole_codes = ['HSV', 'HVV']\n",
    "    fracture_codes = ['FL', 'FC', 'FM', 'FS', 'FH']\n",
    "    crack_codes = ['CL', 'CC', 'CM', 'CS', 'CH']\n",
    "    broken_codes = ['BSV', 'BVV']\n",
    "    collapse_codes = ['X']\n",
    "    \n",
    "    df_cond.loc[df_cond['PACP_Code'].isin(deposit_codes), 'PACP_Code'] = 'Deposit'\n",
    "    df_cond.loc[df_cond['PACP_Code'].isin(deformed_codes), 'PACP_Code'] = 'Deformed'\n",
    "    df_cond.loc[df_cond['PACP_Code'].isin(infiltration_codes), 'PACP_Code'] = 'Infiltration'\n",
    "    df_cond.loc[df_cond['PACP_Code'].isin(hole_codes), 'PACP_Code'] = 'Hole'\n",
    "    df_cond.loc[df_cond['PACP_Code'].isin(fracture_codes), 'PACP_Code'] = 'Fracture'\n",
    "    df_cond.loc[df_cond['PACP_Code'].isin(crack_codes), 'PACP_Code'] = 'Crack'\n",
    "    df_cond.loc[df_cond['PACP_Code'].isin(broken_codes), 'PACP_Code'] = 'Broken'\n",
    "    df_cond.loc[df_cond['PACP_Code'].isin(collapse_codes), 'PACP_Code'] = 'Collapse'\n",
    "    \n",
    "    df_cond.loc[df_cond['PACP_Code'].str.startswith('T'), 'PACP_Code'] = 'Tap'\n",
    "    df_cond.loc[df_cond['PACP_Code'].str.startswith('A'), 'PACP_Code'] = 'Manhole'\n",
    "    df_cond.loc[df_cond['PACP_Code'].str.startswith('J'), 'PACP_Code'] = 'Joint Offset'\n",
    "    df_cond.loc[df_cond['PACP_Code'].str.startswith('R'), 'PACP_Code'] = 'Root'\n",
    "    \n",
    "    return df_cond\n",
    "\n",
    "def delete_rows(df_cond, keep_defects):\n",
    "    \"\"\"\n",
    "    Delete rows where the defects that we want to consider are not present\n",
    "    \"\"\"\n",
    "    df_cond = df_cond[df_cond['PACP_Code'].isin(keep_defects)]\n",
    "    return df_cond\n",
    "    \n",
    "\n",
    "def select_df(df, insp_id, defect_list):\n",
    "    \"\"\"\n",
    "    Helper function used by count_defect_pairs()\n",
    "    This function only keeps the rows where ['defect1', 'defect2'] are present\n",
    "    It helps speed up the computation\n",
    "    \"\"\"\n",
    "    df = df[(df['InspectionID'] == insp_id)]\n",
    "    return  df[df['PACP_Code'].isin(defect_list)]\n",
    "\n",
    "def delete_inspections_with_no_defects(df_cond, defects):\n",
    "    \"\"\"\n",
    "    Delete those inspections where there aren't any defects at all. \n",
    "    By defects we mean fractures, cracks, etc. Not tap and manhole\n",
    "    \"\"\"\n",
    "    insp_ids = np.unique(list(df_cond['InspectionID']))\n",
    "\n",
    "    keep_ids = [] # Inspection IDs that we want to keep\n",
    "\n",
    "    for insp_id in insp_ids:\n",
    "        df_temp = df_cond[(df_cond['InspectionID'] == insp_id)]\n",
    "        if df_temp['PACP_Code'].isin(defects).sum() > 0:\n",
    "            keep_ids.append(insp_id)\n",
    "    \n",
    "    return df_cond[df_cond['InspectionID'].isin(keep_ids)]\n",
    "\n",
    "def count_defect_pairs(df_cond, keep_defects, distance_threshold):\n",
    "    \"\"\"\n",
    "    Count the number of defect pairs that are < distance_threshold within each other\n",
    "    \"\"\"\n",
    "    defect_pair_counts = []\n",
    "    \n",
    "    for a in range(0, len(keep_defects)): \n",
    "        for b in range(a+1, len(keep_defects)):\n",
    "\n",
    "            pair_count = 0\n",
    "            defect_pair = [keep_defects[a], keep_defects[b]] # Pair of defects whose no. of occurrences we wish to calculate\n",
    "\n",
    "            for insp_id in df_cond['InspectionID'].unique():\n",
    "            \n",
    "            # Inspection id which we are counting for\n",
    "                df = select_df(df_cond, insp_id, defect_pair)\n",
    "                insp_id = list(df['InspectionID'])\n",
    "                dist = list(df['Distance'])\n",
    "                defects = list(df['PACP_Code']) # Defects which are selected from a particular inspection\n",
    "\n",
    "                for i in range (0, len(defects) - 1):\n",
    "                    for j in range (i+1, len(defects)):\n",
    "                        defect_1, defect_2 = defects[i], defects[j]\n",
    "                        if (defect_1 == defect_pair[0] and defect_2 == defect_pair[1]) or (defect_2 == defect_pair[0] and defect_1 == defect_pair[1]):\n",
    "                            if abs(dist[i] - dist[j]) <= distance_threshold:\n",
    "                                pair_count = pair_count + 1\n",
    "\n",
    "            defect_pair_counts.append([keep_defects[a], keep_defects[b], pair_count])\n",
    "            \n",
    "    return defect_pair_counts\n",
    "\n",
    "\n",
    "   \n",
    "\n",
    "def create_econometric_database(df_insp, cols, defects):\n",
    "    df_insp = df_insp[cols]\n",
    "\n",
    "    f, c, t, m, j, r, d, b, h, cp = [], [], [], [], [], [], [], [], [], []\n",
    "\n",
    "    insp_ids = list(df_insp['InspectionID'])\n",
    "\n",
    "    for insp_id in insp_ids:\n",
    "\n",
    "        df_temp = df_cond.loc[df_cond['InspectionID'] == insp_id]\n",
    "\n",
    "        f.append(len(df_temp[df_temp['PACP_Code'] == 'Fracture']))\n",
    "        c.append(len(df_temp[df_temp['PACP_Code'] == 'Crack']))\n",
    "        t.append(len(df_temp[df_temp['PACP_Code'] == 'Tap']))\n",
    "        m.append(len(df_temp[df_temp['PACP_Code'] == 'Manhole']))\n",
    "        j.append(len(df_temp[df_temp['PACP_Code'] == 'Joint Offset']))\n",
    "        r.append(len(df_temp[df_temp['PACP_Code'] == 'Root']))\n",
    "        d.append(len(df_temp[df_temp['PACP_Code'] == 'Deposit']))\n",
    "        b.append(len(df_temp[df_temp['PACP_Code'] == 'Broken']))\n",
    "        h.append(len(df_temp[df_temp['PACP_Code'] == 'Hole']))\n",
    "        cp.append(len(df_temp[df_temp['PACP_Code'] == 'Collapse']))\n",
    "\n",
    "    df_insp['Fracture'] = f\n",
    "    df_insp['Crack'] = c\n",
    "    df_insp['Tap'] = t\n",
    "    df_insp['Manhole'] = m\n",
    "    df_insp['Joint Offset'] = j\n",
    "    df_insp['Root'] = r\n",
    "    df_insp['Deposit'] = d\n",
    "    df_insp['Broken'] = b\n",
    "    df_insp['Hole'] = h\n",
    "    df_insp['Collapse'] = cp\n",
    "    \n",
    "    return df_insp"
   ]
  },
  {
   "cell_type": "code",
   "execution_count": 13,
   "metadata": {},
   "outputs": [
    {
     "name": "stdout",
     "output_type": "stream",
     "text": [
      "Total number of inspections to begin with are: 3618\n",
      "Length : 108581.10015941903\n",
      "\n",
      "Number of inspections which contain defects is: 768\n",
      "\n",
      "Number of defects is as follows: \n",
      "Crack           789\n",
      "Fracture        354\n",
      "Broken          172\n",
      "Joint Offset    144\n",
      "Hole             34\n",
      "Name: PACP_Code, dtype: int64\n",
      "\n",
      "Number of inspections with Joint Offset and Fracture is: 352\n",
      "\n",
      "Number of defects in these inspections is as follows: \n",
      "Fracture        354\n",
      "Crack           225\n",
      "Joint Offset    144\n",
      "Broken           64\n",
      "Hole             10\n",
      "Name: PACP_Code, dtype: int64\n",
      "\n",
      "Number of (Joint Offset, Fracture) clusters is: 6\n",
      "Length : 52995.300032654\n"
     ]
    }
   ],
   "source": [
    "cluster_size = 10\n",
    "\n",
    "# Read the database of condition information from CSV\n",
    "df_cond = pd.read_csv('Conditions_Taylors.csv', sep=',')\n",
    "df_cond.head();\n",
    "print(\"Total number of inspections to begin with are: {}\".format(df_cond['InspectionID'].max()))\n",
    "\n",
    "# Change names of defects\n",
    "df_cond = change_defect_names(df_cond)\n",
    "\n",
    "# Keep only the rows which contain these defects. Delete all else\n",
    "keep_defects_struct = ['Fracture', 'Crack', 'Joint Offset', 'Broken', 'Hole', 'Collapse']\n",
    "keep_defects_operat = ['Root', 'Deposit']\n",
    "\n",
    "df_cond = delete_rows(df_cond, keep_defects_struct)\n",
    "\n",
    "df_cond = delete_inspections_with_no_defects(df_cond, keep_defects_struct)\n",
    "print(\"Length : {}\".format(calculate_length_of_pipeline(df_cond)))\n",
    "\n",
    "\n",
    "# Count the number of inspections that remain after the deletion\n",
    "print(\"\\nNumber of inspections which contain defects is: {}\".format(df_cond['InspectionID'].nunique()))\n",
    "\n",
    "# List the number of defects\n",
    "print(\"\\nNumber of defects is as follows: \\n{}\".format(df_cond['PACP_Code'].value_counts()))\n",
    "\n",
    "\"\"\"\n",
    "Counting only Fracture and Tap\n",
    "Delete all inspections which do not have both Fracture and Tap\n",
    "\"\"\"\n",
    "\n",
    "keep_defects = ['Joint Offset', 'Fracture']\n",
    "\n",
    "# Deletes those inspections which don't have defect1 or defect2\n",
    "df_cond = delete_inspections_with_no_defects(df_cond, [keep_defects[0], keep_defects[1]])\n",
    "\n",
    "# Count the number of inspections that remain after the deletion\n",
    "print(\"\\nNumber of inspections with {} and {} is: {}\".format(keep_defects[0], keep_defects[1], df_cond['InspectionID'].nunique()))\n",
    "\n",
    "# List the number of defects\n",
    "print(\"\\nNumber of defects in these inspections is as follows: \\n{}\".format(df_cond['PACP_Code'].value_counts()))\n",
    "\n",
    "# Counting the number of defect clusters within 5 feet\n",
    "defect_pair_counts = count_defect_pairs(df_cond, keep_defects, cluster_size)\n",
    "\n",
    "print('\\nNumber of ({}, {}) clusters is: {}'.format(keep_defects[0], keep_defects[1], defect_pair_counts[0][2]))\n",
    "\n",
    "# Count the total length of pipe in this dataframe\n",
    "length = calculate_length_of_pipeline(df_cond)\n",
    "\n",
    "print(\"Length : {}\".format(length))"
   ]
  },
  {
   "cell_type": "code",
   "execution_count": 6,
   "metadata": {},
   "outputs": [
    {
     "name": "stdout",
     "output_type": "stream",
     "text": [
      "Number of Joint Offset is 1943\n",
      "Number of Fracture is 8558\n",
      "Length: 419601.8005263697\n",
      "Average Joint Offset spacing: 215.955635885934 feet\n",
      "Average Fracture spacing: 49.03035762168377 feet\n"
     ]
    }
   ],
   "source": [
    "num_defect1 = df_cond['PACP_Code'].value_counts()[keep_defects[0]]\n",
    "num_defect2 = df_cond['PACP_Code'].value_counts()[keep_defects[1]]\n",
    "print(\"Number of {} is {}\".format(keep_defects[0], num_defect1))\n",
    "print(\"Number of {} is {}\".format(keep_defects[1], num_defect2))\n",
    "\n",
    "spacing1 = length/num_defect1\n",
    "spacing2 = length/num_defect2\n",
    "\n",
    "print(\"Length: {}\".format(length))\n",
    "print(\"Average {} spacing: {} feet\".format(keep_defects[0], spacing1))\n",
    "print(\"Average {} spacing: {} feet\".format(keep_defects[1], spacing2))"
   ]
  },
  {
   "cell_type": "code",
   "execution_count": 7,
   "metadata": {},
   "outputs": [
    {
     "name": "stdout",
     "output_type": "stream",
     "text": [
      "\n",
      "Number of (Joint Offset, Fracture) clusters is: 793\n"
     ]
    }
   ],
   "source": [
    "# If Taps and Fractures were uniformly distributed, calculate the number of co-occurrences\n",
    "import numpy as np\n",
    "\n",
    "defect1 = [[keep_defects[0], i, 1] for i in np.arange(0, length, spacing1)]\n",
    "defect2 = [[keep_defects[1], i, 1] for i in np.arange(0, length, spacing2)]\n",
    "df_cond_fake = pd.DataFrame(defect1+defect2, columns = ['PACP_Code', 'Distance', 'InspectionID'])\n",
    "defect_pair_counts = count_defect_pairs(df_cond_fake, [keep_defects[0], keep_defects[1]], cluster_size)\n",
    "print('\\nNumber of ({}, {}) clusters is: {}'.format(keep_defects[0], keep_defects[1], defect_pair_counts[0][2]))"
   ]
  },
  {
   "cell_type": "code",
   "execution_count": 14,
   "metadata": {},
   "outputs": [
    {
     "data": {
      "text/plain": [
       "'\\nCount number of defect hotspots\\n\\nTODO: Compare with uiform distribution/Weibull distribution/Try fitting curve\\n\\n'"
      ]
     },
     "execution_count": 14,
     "metadata": {},
     "output_type": "execute_result"
    }
   ],
   "source": [
    "\"\"\"\n",
    "Count number of defect hotspots\n",
    "\n",
    "TODO: Compare with uiform distribution/Weibull distribution/Try fitting curve\n",
    "\n",
    "\"\"\""
   ]
  },
  {
   "cell_type": "code",
   "execution_count": 21,
   "metadata": {},
   "outputs": [],
   "source": [
    "# Helper functions\n",
    "\n",
    "def delete_rows(df_cond, keep_defects):\n",
    "    \"\"\"\n",
    "    Delete rows where the defects that we want to consider are not present\n",
    "    \"\"\"\n",
    "    df_cond = df_cond[df_cond['PACP_Code'].isin(keep_defects)]\n",
    "    return df_cond\n",
    "    \n",
    "\n",
    "def select_df(df, insp_id, defect_list):\n",
    "    \"\"\"\n",
    "    Helper function used by count_defect_pairs()\n",
    "    This function only keeps the rows where ['defect1', 'defect2'] are present\n",
    "    It helps speed up the computation\n",
    "    \"\"\"\n",
    "    df = df[(df['InspectionID'] == insp_id)]\n",
    "    return  df[df['PACP_Code'].isin(defect_list)]"
   ]
  },
  {
   "cell_type": "code",
   "execution_count": 22,
   "metadata": {},
   "outputs": [],
   "source": [
    "# Defect Codes\n",
    "\n",
    "deposit_codes = ['DAE', 'DAGS', 'DAR', 'DAZ', 'DSV', 'DSGV', 'DSC', 'DSZ', 'DNF', 'DNGV', 'DNZ']\n",
    "deformed_codes = ['DR', 'DFBR', 'DFBI', 'DFC', 'DFE', 'DTBR', 'DTBI']\n",
    "infiltration_codes = ['IS', 'ISB', 'ISJ', 'ISC', 'ISL', 'IW', 'IWB', 'IWC', 'IWJ', 'IWL', 'ID', 'IDB', 'IDC', 'IDJ', 'IDL', 'IR', 'IRB', 'IRC', 'IRJ', 'IRL', 'IG', 'IGB', 'IGC', 'IGL', 'IGJ' ]\n",
    "hole_codes = ['HSV', 'HVV']\n",
    "fracture_codes = ['FL', 'FC', 'FM', 'FS', 'FH', 'FH2', 'FH3', 'FH4']\n",
    "crack_codes = ['CL', 'CC', 'CM', 'CS', 'CH', 'CH2', 'CH3', 'CH4']\n",
    "broken_codes = ['BSV', 'BVV']\n",
    "collapse_codes = ['X']\n",
    "\n",
    "tap_codes = ['TB', 'TBI', 'TBD', 'TBC', 'TBA', 'TF', 'TFI', 'TFD', 'TFC', 'TFA', 'TFB', 'TR', 'TRI', 'TRD', 'TRC', 'TRA', 'TRB', 'TS', 'TSI', 'TSD', 'TSA', 'TSB']\n",
    "root_codes = ['RFB', 'RFL', 'RFC', 'RFJ', 'RMB', 'RML', 'RMC', 'RMJ', 'RBB', 'RBL', 'RBC', 'RBJ', 'RTB', 'RTL', 'RTC', 'RTJ']\n",
    "joint_offset_codes = ['JOS', 'JOM', 'JOL', 'JOSD', 'JOMD', 'JOLD', 'JSS', 'JSM', 'JSL', 'JAS', 'JAM', 'JAL']\n",
    "\n",
    "defects_all = deposit_codes+deformed_codes+infiltration_codes+hole_codes+fracture_codes+crack_codes+broken_codes+root_codes+joint_offset_codes+collapse_codes\n",
    "defects_struct = deformed_codes+hole_codes+fracture_codes+crack_codes+broken_codes+joint_offset_codes+collapse_codes\n",
    "defects_operat = root_codes + deposit_codes\n",
    "\n",
    "keep_defects = defects_struct"
   ]
  },
  {
   "cell_type": "code",
   "execution_count": 38,
   "metadata": {},
   "outputs": [
    {
     "name": "stdout",
     "output_type": "stream",
     "text": [
      "Total number of inspections to begin with are: 8891\n",
      "Number of inspections after deletion are: 2825\n"
     ]
    }
   ],
   "source": [
    "# Count number of defect zones\n",
    "df_cond = pd.read_csv('Conditions_Combined.csv', sep=',')\n",
    "df_cond.head();\n",
    "print(\"Total number of inspections to begin with are: {}\".format(df_cond['InspectionID'].nunique()))\n",
    "\n",
    "# Change names of defects\n",
    "# df_cond = change_defect_names(df_cond)\n",
    "\n",
    "# Keep only the rows which contain these defects. Delete all else\n",
    "# keep_defects = ['Fracture', 'Crack', 'Joint Offset', 'Root', 'Deposit', 'Broken', 'Hole', 'Infiltration', 'Deformed']\n",
    "\n",
    "\n",
    "df_cond = delete_rows(df_cond, keep_defects)\n",
    "\n",
    "# Delete inspections which have no 'defects', i.e, fracture, crack, root, joint offset, deposit, broken\n",
    "df_cond = delete_inspections_with_no_defects(df_cond, keep_defects)\n",
    "\n",
    "print(\"Number of inspections after deletion are: {}\".format(df_cond['InspectionID'].nunique()))"
   ]
  },
  {
   "cell_type": "code",
   "execution_count": null,
   "metadata": {},
   "outputs": [
    {
     "name": "stdout",
     "output_type": "stream",
     "text": [
      "\n",
      "Number of defects in these inspections is as follows: \n",
      "FM     4268\n",
      "CL     3321\n",
      "CM     3211\n",
      "CC     1900\n",
      "JOM    1642\n",
      "FS     1519\n",
      "FC     1429\n",
      "FL     1342\n",
      "CS      765\n",
      "BSV     320\n",
      "HSV     310\n",
      "JOL     189\n",
      "BVV     138\n",
      "HVV     128\n",
      "JSM      72\n",
      "FH3      27\n",
      "FH4      26\n",
      "JSL      19\n",
      "JAM      18\n",
      "CH3      14\n",
      "FH2      14\n",
      "CH2      12\n",
      "CH4      10\n",
      "JAL       3\n",
      "Name: PACP_Code, dtype: int64\n"
     ]
    }
   ],
   "source": [
    "# List the number of defects\n",
    "df_counts = df_cond['PACP_Code'].value_counts()\n",
    "print(\"\\nNumber of defects in these inspections is as follows: \\n{}\".format(df_counts))\n",
    "df_counts.to_csv('defect_counts.csv')\n",
    "\n",
    "# Count the total length of pipe in this dataframe\n",
    "length = calculate_length_of_pipeline(df_cond)\n",
    "print(\"Length : {}\".format(length))"
   ]
  },
  {
   "cell_type": "code",
   "execution_count": 29,
   "metadata": {},
   "outputs": [],
   "source": [
    "thresh = 5\n",
    "\n",
    "\n",
    "insps = df_cond['InspectionID'].unique()\n",
    "zones = []\n",
    "\n",
    "for insp in insps:\n",
    "    \n",
    "    df_temp = df_cond[df_cond['InspectionID'] == insp]\n",
    "    df_temp = df_temp.sort_values(by=[\"Distance\"])\n",
    "    indices = df_temp.index\n",
    "    defect_prev, defect_curr = \"\",\"\"\n",
    "    dist_prev, dist_curr = 0, 0\n",
    "    zone_curr = []\n",
    "    \n",
    "    for index in indices:\n",
    "        defect_curr = df_temp.at[index, 'PACP_Code'] # Defect code at current index\n",
    "        dist_curr = float(df_temp.at[index, 'Distance']) # Distance of defect at current index        \n",
    "    \n",
    "        if abs(dist_curr - dist_prev) < thresh:\n",
    "            zone_curr.append((insp, defect_curr, dist_curr))\n",
    "        else:           \n",
    "            zones.append(zone_curr)\n",
    "            zone_curr = []\n",
    "            zone_curr.append((insp, defect_curr, dist_curr))\n",
    "                        \n",
    "        dist_prev = dist_curr\n",
    "        defect_prev = defect_curr\n",
    "        \n",
    "    zones.append(zone_curr)"
   ]
  },
  {
   "cell_type": "code",
   "execution_count": 30,
   "metadata": {},
   "outputs": [
    {
     "data": {
      "text/plain": [
       "[[],\n",
       " [(2, 'BVV', 118.3000031)],\n",
       " [],\n",
       " [(15, 'FM', 143.6000061)],\n",
       " [],\n",
       " [(16, 'CS', 106.59999850000001)],\n",
       " [(17, 'CC', 4.0)],\n",
       " [],\n",
       " [(23, 'CC', 179.1000061)],\n",
       " [(24, 'CC', 2.5)]]"
      ]
     },
     "execution_count": 30,
     "metadata": {},
     "output_type": "execute_result"
    }
   ],
   "source": [
    "len(zones)\n",
    "zones[0:10]"
   ]
  },
  {
   "cell_type": "code",
   "execution_count": 31,
   "metadata": {},
   "outputs": [],
   "source": [
    "# Delete empty zones\n",
    "zones = list(filter(lambda a: a!=[], zones))"
   ]
  },
  {
   "cell_type": "code",
   "execution_count": 34,
   "metadata": {},
   "outputs": [
    {
     "name": "stdout",
     "output_type": "stream",
     "text": [
      "Number of defects in clusters with min 3 defects is 47\n",
      "Total number of defects is 1496\n",
      "Max defects in a zone is 5\n",
      "Number of clusters 15\n"
     ]
    }
   ],
   "source": [
    "\"\"\"\n",
    "Calculate number of colocated defects\n",
    "\"\"\"\n",
    "\n",
    "colocated = 0\n",
    "total = 0\n",
    "max_colocated = 0\n",
    "num_def_in_cluster = 3\n",
    "filtered_zones = []\n",
    "\n",
    "for zone in zones:\n",
    "    if len(zone) >= num_def_in_cluster:\n",
    "        colocated += len(zone)\n",
    "        filtered_zones.append(zone)\n",
    "        if len(zone) > max_colocated:\n",
    "            max_colocated = len(zone)\n",
    "            max_zone = zone\n",
    "    total += len(zone)\n",
    "    \n",
    "print(f'Number of defects in clusters with min {num_def_in_cluster} defects is {colocated}')\n",
    "print(f'Total number of defects is {total}')\n",
    "print(f'Max defects in a zone is {max_colocated}')\n",
    "print(f'Number of clusters {len(filtered_zones)}')"
   ]
  },
  {
   "cell_type": "code",
   "execution_count": 35,
   "metadata": {},
   "outputs": [
    {
     "data": {
      "text/plain": [
       "[(603, 'HSV', 52.59999847),\n",
       " (603, 'HSV', 55.40000153),\n",
       " (603, 'BVV', 60.20000076),\n",
       " (603, 'BSV', 61.09999847),\n",
       " (603, 'HVV', 61.70000076)]"
      ]
     },
     "execution_count": 35,
     "metadata": {},
     "output_type": "execute_result"
    }
   ],
   "source": [
    "max_zone"
   ]
  },
  {
   "cell_type": "code",
   "execution_count": 118,
   "metadata": {},
   "outputs": [
    {
     "name": "stdout",
     "output_type": "stream",
     "text": [
      "0\n"
     ]
    }
   ],
   "source": [
    "# Count number of zones which have fractures or cracks only\n",
    "num_zones_with_major_defects = 0\n",
    "\n",
    "\n",
    "for zone in filtered_zones:\n",
    "    for _, defect_code, _ in zone:\n",
    "        if defect_code in broken_codes + deformed_codes + hole_codes:\n",
    "            num_zones_with_major_defects += 1\n",
    "            break\n",
    "\n",
    "print(num_zones_with_major_defects)"
   ]
  },
  {
   "cell_type": "code",
   "execution_count": 36,
   "metadata": {},
   "outputs": [
    {
     "data": {
      "text/plain": [
       "[[(328, 'CM', 39.5), (328, 'CM', 43.70000076), (328, 'CS', 45.90000153)],\n",
       " [(383, 'CS', 2.0), (383, 'CS', 2.0), (383, 'CC', 2.0)],\n",
       " [(603, 'HSV', 52.59999847),\n",
       "  (603, 'HSV', 55.40000153),\n",
       "  (603, 'BVV', 60.20000076),\n",
       "  (603, 'BSV', 61.09999847),\n",
       "  (603, 'HVV', 61.70000076)],\n",
       " [(1461, 'CM', 238.0),\n",
       "  (1461, 'CM', 238.6999969),\n",
       "  (1461, 'CM', 241.39999390000003)],\n",
       " [(2032, 'JOM', 10.69999981),\n",
       "  (2032, 'CM', 10.69999981),\n",
       "  (2032, 'CC', 10.80000019)],\n",
       " [(2036, 'CL', 56.79999924),\n",
       "  (2036, 'CL', 61.20000076),\n",
       "  (2036, 'CC', 61.90000153)],\n",
       " [(2036, 'CL', 185.6999969),\n",
       "  (2036, 'CL', 186.8999939),\n",
       "  (2036, 'JOM', 186.8999939)],\n",
       " [(2107, 'JSM', 138.6000061),\n",
       "  (2107, 'CC', 141.3000031),\n",
       "  (2107, 'CC', 145.1000061)],\n",
       " [(2491, 'CC', 152.1000061),\n",
       "  (2491, 'CC', 155.6000061),\n",
       "  (2491, 'CL', 155.6000061)],\n",
       " [(2493, 'CC', 242.8000031),\n",
       "  (2493, 'CL', 243.3000031),\n",
       "  (2493, 'CC', 247.8000031)],\n",
       " [(2583, 'FL', 299.7000122), (2583, 'FL', 300.5), (2583, 'FL', 301.2999878)],\n",
       " [(3088, 'FM', 155.5), (3088, 'BVV', 158.3999939), (3088, 'BVV', 160.3000031)],\n",
       " [(3089, 'CC', 155.3999939), (3089, 'CC', 158.5), (3089, 'CC', 160.1000061)],\n",
       " [(3333, 'FC', 218.89999390000003),\n",
       "  (3333, 'FC', 222.5),\n",
       "  (3333, 'JOM', 223.3000031)],\n",
       " [(3546, 'BVV', 278.7000122),\n",
       "  (3546, 'JOM', 278.7000122),\n",
       "  (3546, 'JOM', 281.7000122)]]"
      ]
     },
     "execution_count": 36,
     "metadata": {},
     "output_type": "execute_result"
    }
   ],
   "source": [
    "filtered_zones"
   ]
  },
  {
   "cell_type": "code",
   "execution_count": 37,
   "metadata": {},
   "outputs": [
    {
     "data": {
      "text/plain": [
       "{1: 1273, 2: 88, 3: 14, 4: 0, 5: 1}"
      ]
     },
     "execution_count": 37,
     "metadata": {},
     "output_type": "execute_result"
    }
   ],
   "source": [
    "\"\"\"\n",
    "Calculate the number of zones of various lengths\n",
    "\"\"\"\n",
    "\n",
    "num_zones = {i:0 for i in range(1, max_colocated + 1)}\n",
    "for zone in zones:\n",
    "    if len(zone) >= 1:\n",
    "        num_zones[len(zone)] += 1\n",
    "        \n",
    "num_zones"
   ]
  },
  {
   "cell_type": "code",
   "execution_count": 27,
   "metadata": {},
   "outputs": [
    {
     "data": {
      "text/plain": [
       "13"
      ]
     },
     "execution_count": 27,
     "metadata": {},
     "output_type": "execute_result"
    }
   ],
   "source": [
    "\"\"\"\n",
    "Count the number of zones with more than 3 fractures\n",
    "\"\"\"\n",
    "hotspots = []\n",
    "count_hotspots = 0\n",
    "for zone in zones:\n",
    "    count_def = 0\n",
    "    if len(zone) >= 2:\n",
    "        for _, pacp_code, _ in zone:\n",
    "            if pacp_code in fracture_codes:\n",
    "                count_def += 1\n",
    "        if count_def > 10:\n",
    "            count_hotspots += 1\n",
    "            hotspots.append(zone)\n",
    "\n",
    "count_hotspots\n",
    "# hotspots"
   ]
  },
  {
   "cell_type": "code",
   "execution_count": 16,
   "metadata": {},
   "outputs": [
    {
     "data": {
      "text/plain": [
       "{1: 16693,\n",
       " 2: 4132,\n",
       " 3: 1354,\n",
       " 4: 613,\n",
       " 5: 293,\n",
       " 6: 149,\n",
       " 7: 106,\n",
       " 8: 78,\n",
       " 9: 52,\n",
       " 10: 38,\n",
       " 11: 18,\n",
       " 12: 20,\n",
       " 13: 10,\n",
       " 14: 15,\n",
       " 15: 6,\n",
       " 16: 9,\n",
       " 17: 0,\n",
       " 18: 1,\n",
       " 19: 2,\n",
       " 20: 4,\n",
       " 21: 3,\n",
       " 22: 0,\n",
       " 23: 6,\n",
       " 24: 4,\n",
       " 25: 0,\n",
       " 26: 1,\n",
       " 27: 0,\n",
       " 28: 0,\n",
       " 29: 2}"
      ]
     },
     "execution_count": 16,
     "metadata": {},
     "output_type": "execute_result"
    }
   ],
   "source": []
  },
  {
   "cell_type": "code",
   "execution_count": 17,
   "metadata": {},
   "outputs": [],
   "source": [
    "\"\"\"\n",
    "Most frequent defect in colocated zone\n",
    "\"\"\"\n",
    "defects = {defect_code:0 for defect_code in keep_defects}\n",
    "for zone in zones:\n",
    "    if len(zone) > 1:\n",
    "        for defect in zone:\n",
    "            defects[defect[1]] += 1 "
   ]
  },
  {
   "cell_type": "code",
   "execution_count": 18,
   "metadata": {},
   "outputs": [
    {
     "data": {
      "text/plain": [
       "{'DAE': 1552,\n",
       " 'DAGS': 1564,\n",
       " 'DAR': 5,\n",
       " 'DAZ': 47,\n",
       " 'DSV': 0,\n",
       " 'DSGV': 26,\n",
       " 'DSC': 41,\n",
       " 'DSZ': 30,\n",
       " 'DNF': 3,\n",
       " 'DNGV': 0,\n",
       " 'DNZ': 2,\n",
       " 'DR': 0,\n",
       " 'DFBR': 0,\n",
       " 'DFBI': 0,\n",
       " 'DFC': 0,\n",
       " 'DFE': 0,\n",
       " 'DTBR': 0,\n",
       " 'DTBI': 0,\n",
       " 'IS': 306,\n",
       " 'ISB': 0,\n",
       " 'ISJ': 0,\n",
       " 'ISC': 0,\n",
       " 'ISL': 0,\n",
       " 'IW': 167,\n",
       " 'IWB': 0,\n",
       " 'IWC': 0,\n",
       " 'IWJ': 0,\n",
       " 'IWL': 0,\n",
       " 'ID': 118,\n",
       " 'IDB': 0,\n",
       " 'IDC': 0,\n",
       " 'IDJ': 0,\n",
       " 'IDL': 0,\n",
       " 'IR': 205,\n",
       " 'IRB': 0,\n",
       " 'IRC': 0,\n",
       " 'IRJ': 0,\n",
       " 'IRL': 0,\n",
       " 'IG': 35,\n",
       " 'IGB': 0,\n",
       " 'IGC': 0,\n",
       " 'IGL': 0,\n",
       " 'IGJ': 0,\n",
       " 'HSV': 250,\n",
       " 'HVV': 91,\n",
       " 'FL': 980,\n",
       " 'FC': 765,\n",
       " 'FM': 2834,\n",
       " 'FS': 1035,\n",
       " 'FH': 0,\n",
       " 'FH2': 12,\n",
       " 'FH3': 24,\n",
       " 'FH4': 26,\n",
       " 'CL': 2052,\n",
       " 'CC': 913,\n",
       " 'CM': 2000,\n",
       " 'CS': 450,\n",
       " 'CH': 0,\n",
       " 'CH2': 10,\n",
       " 'CH3': 12,\n",
       " 'CH4': 10,\n",
       " 'BSV': 228,\n",
       " 'BVV': 60,\n",
       " 'RFB': 198,\n",
       " 'RFL': 150,\n",
       " 'RFC': 148,\n",
       " 'RFJ': 2729,\n",
       " 'RMB': 20,\n",
       " 'RML': 33,\n",
       " 'RMC': 55,\n",
       " 'RMJ': 318,\n",
       " 'RBB': 19,\n",
       " 'RBL': 58,\n",
       " 'RBC': 29,\n",
       " 'RBJ': 58,\n",
       " 'RTB': 3,\n",
       " 'RTL': 14,\n",
       " 'RTC': 17,\n",
       " 'RTJ': 115,\n",
       " 'JOS': 0,\n",
       " 'JOM': 864,\n",
       " 'JOL': 139,\n",
       " 'JOSD': 0,\n",
       " 'JOMD': 0,\n",
       " 'JOLD': 0,\n",
       " 'JSS': 0,\n",
       " 'JSM': 32,\n",
       " 'JSL': 15,\n",
       " 'JAS': 0,\n",
       " 'JAM': 10,\n",
       " 'JAL': 3}"
      ]
     },
     "execution_count": 18,
     "metadata": {},
     "output_type": "execute_result"
    }
   ],
   "source": [
    "defects"
   ]
  },
  {
   "cell_type": "code",
   "execution_count": 131,
   "metadata": {},
   "outputs": [
    {
     "data": {
      "text/plain": [
       "'\\nFinding severity of defect clusters and finding length of these clusters.\\nWill allow for the best patch repair\\n\\n'"
      ]
     },
     "execution_count": 131,
     "metadata": {},
     "output_type": "execute_result"
    }
   ],
   "source": [
    "\"\"\"\n",
    "Finding severity of defect clusters and finding length of these clusters.\n",
    "Will allow for the best patch repair\n",
    "\n",
    "\"\"\""
   ]
  },
  {
   "cell_type": "code",
   "execution_count": 132,
   "metadata": {},
   "outputs": [
    {
     "data": {
      "text/plain": [
       "'\\nInterdefect association rule mining\\n'"
      ]
     },
     "execution_count": 132,
     "metadata": {},
     "output_type": "execute_result"
    }
   ],
   "source": [
    "\"\"\"\n",
    "Interdefect association rule mining\n",
    "\"\"\""
   ]
  },
  {
   "cell_type": "code",
   "execution_count": 133,
   "metadata": {},
   "outputs": [],
   "source": [
    "# Create matrix: https://towardsdatascience.com/association-rule-mining-be4122fc1793\n",
    "import numpy as np\n",
    "\n",
    "co_matrix = []\n",
    "\n",
    "for zone in zones:\n",
    "    row = np.zeros(len(keep_defects))\n",
    "    for _, defect, _ in zone:\n",
    "        defect_index = keep_defects.index(defect)\n",
    "        row[defect_index] = 1\n",
    "    co_matrix.append(row)"
   ]
  },
  {
   "cell_type": "code",
   "execution_count": 134,
   "metadata": {},
   "outputs": [
    {
     "data": {
      "text/plain": [
       "[[(1, 'JOL', 11.10000038)],\n",
       " [(2, 'DAGS', 0.10000000099999999)],\n",
       " [(2, 'DAGS', 37.90000153)],\n",
       " [(4, 'DAGS', 1.0)],\n",
       " [(4, 'DAGS', 57.29999924), (4, 'DAE', 57.29999924), (4, 'DAGS', 77.09999847)]]"
      ]
     },
     "execution_count": 134,
     "metadata": {},
     "output_type": "execute_result"
    }
   ],
   "source": [
    "zones[:5]"
   ]
  },
  {
   "cell_type": "code",
   "execution_count": 135,
   "metadata": {},
   "outputs": [
    {
     "data": {
      "text/plain": [
       "9209"
      ]
     },
     "execution_count": 135,
     "metadata": {},
     "output_type": "execute_result"
    }
   ],
   "source": [
    "len(co_matrix)"
   ]
  },
  {
   "cell_type": "code",
   "execution_count": 136,
   "metadata": {},
   "outputs": [
    {
     "data": {
      "text/plain": [
       "[array([0., 0., 0., 0., 0., 0., 0., 0., 0., 0., 0., 0., 0., 0., 0., 0., 0.,\n",
       "        0., 0., 0., 0., 0., 0., 0., 0., 0., 0., 0., 0., 0., 0., 0., 0., 0.,\n",
       "        0., 0., 0., 0., 0., 0., 0., 0., 0., 0., 0., 0., 0., 0., 0., 0., 0.,\n",
       "        0., 0., 0., 0., 0., 0., 0., 0., 0., 0., 0., 0., 0., 0., 0., 0., 0.,\n",
       "        0., 0., 0., 0., 0., 0., 0., 0., 0., 0., 0., 0., 0., 1., 0., 0., 0.,\n",
       "        0., 0., 0., 0., 0., 0.]),\n",
       " array([0., 1., 0., 0., 0., 0., 0., 0., 0., 0., 0., 0., 0., 0., 0., 0., 0.,\n",
       "        0., 0., 0., 0., 0., 0., 0., 0., 0., 0., 0., 0., 0., 0., 0., 0., 0.,\n",
       "        0., 0., 0., 0., 0., 0., 0., 0., 0., 0., 0., 0., 0., 0., 0., 0., 0.,\n",
       "        0., 0., 0., 0., 0., 0., 0., 0., 0., 0., 0., 0., 0., 0., 0., 0., 0.,\n",
       "        0., 0., 0., 0., 0., 0., 0., 0., 0., 0., 0., 0., 0., 0., 0., 0., 0.,\n",
       "        0., 0., 0., 0., 0., 0.])]"
      ]
     },
     "execution_count": 136,
     "metadata": {},
     "output_type": "execute_result"
    }
   ],
   "source": [
    "co_matrix[:2]"
   ]
  },
  {
   "cell_type": "code",
   "execution_count": 137,
   "metadata": {},
   "outputs": [
    {
     "data": {
      "text/plain": [
       "True"
      ]
     },
     "execution_count": 137,
     "metadata": {},
     "output_type": "execute_result"
    }
   ],
   "source": [
    "len(co_matrix[0]) == len(keep_defects)"
   ]
  },
  {
   "cell_type": "code",
   "execution_count": 138,
   "metadata": {},
   "outputs": [],
   "source": [
    "def count_pairs(x, y, keep_defects, co_matrix):\n",
    "    count_x, count_y, count_xy = 0, 0, 0\n",
    "    for row in co_matrix:\n",
    "        if row[x] == 1 and row[y] == 1.0:\n",
    "            count_xy += 1\n",
    "        if row[x] == 1.0:\n",
    "            count_x += 1\n",
    "        if row[y] == 1.0:\n",
    "            count_y += 1\n",
    "            \n",
    "    return count_x, count_y, count_xy"
   ]
  },
  {
   "cell_type": "code",
   "execution_count": 139,
   "metadata": {},
   "outputs": [],
   "source": [
    "def support_confidence_xy(x, y, keep_defects, co_matrix):\n",
    "    count_x, count_y, count_xy = count_pairs(x, y, keep_defects, co_matrix)\n",
    "    support_xy = count_xy/len(co_matrix)\n",
    "    support_x = count_x/len(co_matrix)\n",
    "    support_y = count_y/len(co_matrix)\n",
    "    if count_x ==0 or count_y == 0 or count_xy ==0:\n",
    "        confidence_xy = 0\n",
    "    else:\n",
    "        confidence_xy = count_xy/count_x\n",
    "    return support_x, support_y, support_xy, confidence_xy"
   ]
  },
  {
   "cell_type": "code",
   "execution_count": 140,
   "metadata": {},
   "outputs": [],
   "source": [
    "min_support = 0.01\n",
    "min_confidence = 0.1\n",
    "rules = []\n",
    "\n",
    "for x in range(0, len(keep_defects)):\n",
    "    for y in range(0, len(keep_defects)):\n",
    "        if x!=y:\n",
    "            support_x, support_y, support_xy, confidence_xy = support_confidence_xy(x, y, keep_defects, co_matrix)\n",
    "            if support_xy > min_support and confidence_xy > min_confidence:\n",
    "                lift_xy = support_xy/(support_x*support_y)\n",
    "                rules.append([keep_defects[x], keep_defects[y], support_xy, confidence_xy, lift_xy])\n"
   ]
  },
  {
   "cell_type": "code",
   "execution_count": 142,
   "metadata": {},
   "outputs": [
    {
     "data": {
      "text/plain": [
       "[['JOM', 'CM', 0.021609295254642197, 0.23550295857988165, 1.9040796712573573],\n",
       " ['CL', 'DAGS', 0.03474861548485177, 0.2328966521106259, 0.8578981077147017],\n",
       " ['CL', 'FL', 0.03442284721468129, 0.23071324599708878, 3.1997564493782997],\n",
       " ['FM', 'FS', 0.03735476164621566, 0.23025435073627845, 3.464726006422203],\n",
       " ['FM', 'CC', 0.03518297317841242, 0.21686746987951808, 1.7927581060327489],\n",
       " ['JOM', 'RFJ', 0.01987186448039961, 0.2165680473372781, 1.1299575908946142],\n",
       " ['FC', 'FL', 0.020957758714301226, 0.21444444444444444, 2.974124832663989],\n",
       " ['CL', 'RFJ', 0.031708111629927246, 0.21251819505094613, 1.1088272284556167],\n",
       " ['FC', 'DAE', 0.020631990444130742, 0.2111111111111111, 1.469480137734106],\n",
       " ['CM', 'DAGS', 0.025735693343468345, 0.2080772607550483, 0.7664733977172958],\n",
       " ['CC', 'FC', 0.02475838853295689, 0.20466786355475763, 2.0942070616397364],\n",
       " ['CM', 'FC', 0.025192746226517536, 0.20368744512730466, 2.084175202419276],\n",
       " ['FS', 'JOM', 0.013465088500380064, 0.20261437908496732, 2.2081370615307265],\n",
       " ['RFJ', 'FM', 0.038440655880117275, 0.20056657223796034, 1.2362902033061425],\n",
       " ['CM', 'FL', 0.024324030839396243, 0.19666374012291485, 2.727524672879402],\n",
       " ['CM', 'RFJ', 0.023998262569225756, 0.19402985074626866, 1.012363113610418],\n",
       " ['DAE', 'FM', 0.02714735584754045, 0.1889644746787604, 1.1647749982039521],\n",
       " ['FL', 'CS', 0.013139320230209578, 0.1822289156626506, 3.957891708342806],\n",
       " ['CL', 'FC', 0.026170051037028994, 0.17540029112081515, 1.7947347565906517],\n",
       " ['CM', 'JOM', 0.021609295254642197, 0.17471466198419666, 1.9040796712573573],\n",
       " ['FC', 'RFJ', 0.01693995004886524, 0.17333333333333334, 0.9043777148253068],\n",
       " ['CL', 'FS', 0.025735693343468345, 0.17248908296943233, 2.5955097468390558],\n",
       " ['CC', 'RFJ', 0.020849169290911067, 0.17235188509874327, 0.8992569461044345],\n",
       " ['FL', 'JOM', 0.012162015419698122, 0.1686746987951807, 1.83825479432523],\n",
       " ['FM', 'DAE', 0.02714735584754045, 0.16733601070950468, 1.1647749982039521],\n",
       " ['FS', 'FC', 0.011076121185796503, 0.16666666666666666, 1.70537037037037],\n",
       " ['DAE', 'DAGS', 0.023781083722445435, 0.1655328798185941, 0.6097569160997732],\n",
       " ['RFJ', 'CL', 0.031708111629927246, 0.16543909348441926, 1.1088272284556167],\n",
       " ['CC', 'FL', 0.019546096210229125, 0.1615798922800718, 2.240947632540936],\n",
       " ['JOM', 'CC', 0.014659572157671844, 0.15976331360946747, 1.3207004982312263],\n",
       " ['CC', 'DAE', 0.019220327940058637, 0.15888689407540396, 1.1059632710055893],\n",
       " ['CL', 'JOM', 0.023672494299055272, 0.1586608442503639, 1.7291215558598831],\n",
       " ['FC', 'DAGS', 0.015311108698012813, 0.15666666666666668, 0.5770973333333332],\n",
       " ['CM', 'FS', 0.0193289173634488, 0.1562774363476734, 2.3515668485714447],\n",
       " ['FM', 'JOM', 0.0253013356499077, 0.15595716198125836, 1.6996562185626136],\n",
       " ['DAGS', 'FM', 0.041698338581822134, 0.1536, 0.9467887550200804],\n",
       " ['CC', 'DAGS', 0.018568791399717666, 0.15350089766606823, 0.5654359066427288],\n",
       " ['CM', 'DAE', 0.01867738082310783, 0.15100965759438104, 1.051132227351969],\n",
       " ['CL', 'CS', 0.022043652948202846, 0.1477438136826783, 3.20889806651836],\n",
       " ['JOM', 'FS', 0.013465088500380064, 0.1467455621301775, 2.2081370615307265],\n",
       " ['RFJ', 'RMJ', 0.02779889238788142, 0.14504249291784702, 3.2185453428444655],\n",
       " ['DAE', 'FC', 0.020631990444130742, 0.1436130007558579, 1.469480137734106],\n",
       " ['FL', 'DAE', 0.010315995222065371, 0.1430722891566265, 0.9958826234643791],\n",
       " ['CM', 'CS', 0.017265718319035724, 0.1395961369622476, 3.0319359086918345],\n",
       " ['FM', 'CS', 0.022586600065153655, 0.1392235609103079, 3.0238438028844943],\n",
       " ['RFJ', 'DAGS', 0.02660440873058964, 0.1388101983002833, 0.5113212464589235],\n",
       " ['DAE', 'CL', 0.019220327940058637, 0.13378684807256236, 0.8966834671762931],\n",
       " ['DAE', 'CC', 0.019220327940058637, 0.13378684807256236, 1.1059632710055893],\n",
       " ['JOM', 'FL', 0.012162015419698122, 0.13254437869822486, 1.83825479432523],\n",
       " ['DAE', 'CM', 0.01867738082310783, 0.13000755857898716, 1.051132227351969]]"
      ]
     },
     "execution_count": 142,
     "metadata": {},
     "output_type": "execute_result"
    }
   ],
   "source": [
    "rules.sort(key=lambda tup: tup[3], reverse=True)  # sorts in place by confidence\n",
    "rules[50:100]"
   ]
  },
  {
   "cell_type": "code",
   "execution_count": 143,
   "metadata": {},
   "outputs": [
    {
     "data": {
      "text/plain": [
       "\" \\n\\nInteresting Rules from Association Rules on Pipe-Level \\n\\n['JOL', 'FM', 0.011782032400589101, 0.5384615384615384, 2.213933989885547]\\n['RFB', 'FM', 0.014727540500736377, 0.6542056074766355, 2.689826342851599],\\n['RFB', 'CL', 0.011782032400589101, 0.5233644859813084, 2.318314447221956],\\n\\nInteresting Rules from Association Rules on Cluster-Level (Threshold = 20) \\n['JOM', 'FM', 0.019923103809856693, 0.24332977588046958, 1.5513459360312503],\\n['JOM', 'CL', 0.01896190143306536, 0.23159018143009605, 1.6111355843684008]\\n['JOM', 'CM', 0.01494232785739252, 0.1824973319103522, 1.4917853331300504]]\\n\\nInteresting Rules from Association Rules on Cluster-Level (Threshold = 30) \\n['HSV', 'FM', 0.01151047887935715, 0.6198830409356725, 3.8209524256871545],\\n['BSV', 'FM', 0.01205342599630796, 0.5522388059701493, 3.40399408579592],\\n['JOM', 'FM', 0.0253013356499077, 0.2757396449704142, 1.6996562185626136],\\n['JOM', 'CL', 0.023672494299055272, 0.2579881656804734, 1.7291215558598831],\\n['CS', 'JOM', 0.011619068302747313, 0.25235849056603776, 2.7502595735179187],\\n['JOM', 'CM', 0.021609295254642197, 0.23550295857988165, 1.9040796712573573]\\n['FS', 'JOM', 0.013465088500380064, 0.20261437908496732, 2.2081370615307265]\\n\\n\\n\""
      ]
     },
     "execution_count": 143,
     "metadata": {},
     "output_type": "execute_result"
    }
   ],
   "source": [
    "\"\"\" \n",
    "\n",
    "Interesting Rules from Association Rules on Pipe-Level \n",
    "\n",
    "['JOL', 'FM', 0.011782032400589101, 0.5384615384615384, 2.213933989885547]\n",
    "['RFB', 'FM', 0.014727540500736377, 0.6542056074766355, 2.689826342851599],\n",
    "['RFB', 'CL', 0.011782032400589101, 0.5233644859813084, 2.318314447221956],\n",
    "\n",
    "Interesting Rules from Association Rules on Cluster-Level (Threshold = 20) \n",
    "['JOM', 'FM', 0.019923103809856693, 0.24332977588046958, 1.5513459360312503],\n",
    "['JOM', 'CL', 0.01896190143306536, 0.23159018143009605, 1.6111355843684008]\n",
    "['JOM', 'CM', 0.01494232785739252, 0.1824973319103522, 1.4917853331300504]]\n",
    "\n",
    "Interesting Rules from Association Rules on Cluster-Level (Threshold = 30) \n",
    "['HSV', 'FM', 0.01151047887935715, 0.6198830409356725, 3.8209524256871545],\n",
    "['BSV', 'FM', 0.01205342599630796, 0.5522388059701493, 3.40399408579592],\n",
    "['JOM', 'FM', 0.0253013356499077, 0.2757396449704142, 1.6996562185626136],\n",
    "['JOM', 'CL', 0.023672494299055272, 0.2579881656804734, 1.7291215558598831],\n",
    "['CS', 'JOM', 0.011619068302747313, 0.25235849056603776, 2.7502595735179187],\n",
    "['JOM', 'CM', 0.021609295254642197, 0.23550295857988165, 1.9040796712573573]\n",
    "['FS', 'JOM', 0.013465088500380064, 0.20261437908496732, 2.2081370615307265]\n",
    "\n",
    "\n",
    "\"\"\""
   ]
  },
  {
   "cell_type": "code",
   "execution_count": 78,
   "metadata": {},
   "outputs": [
    {
     "name": "stdout",
     "output_type": "stream",
     "text": [
      "Number of rows with more than 1 defect is 3995\n"
     ]
    }
   ],
   "source": [
    "num_rows = 0\n",
    "for row in co_matrix:\n",
    "    if np.count_nonzero(row == 1) > 1:\n",
    "        num_rows += 1\n",
    "        \n",
    "print(f'Number of rows with more than 1 defect is {num_rows}')"
   ]
  },
  {
   "cell_type": "code",
   "execution_count": 102,
   "metadata": {},
   "outputs": [
    {
     "data": {
      "text/plain": [
       "1.0530775826485135"
      ]
     },
     "execution_count": 102,
     "metadata": {},
     "output_type": "execute_result"
    }
   ],
   "source": [
    "lift = support/(support_x*support_y)\n",
    "lift"
   ]
  },
  {
   "cell_type": "code",
   "execution_count": 181,
   "metadata": {},
   "outputs": [
    {
     "data": {
      "text/plain": [
       "0.07973102785782901"
      ]
     },
     "execution_count": 181,
     "metadata": {},
     "output_type": "execute_result"
    }
   ],
   "source": [
    "support"
   ]
  },
  {
   "cell_type": "code",
   "execution_count": 36,
   "metadata": {},
   "outputs": [
    {
     "name": "stderr",
     "output_type": "stream",
     "text": [
      "/anaconda/lib/python3.6/site-packages/ipykernel_launcher.py:92: SettingWithCopyWarning: \n",
      "A value is trying to be set on a copy of a slice from a DataFrame.\n",
      "Try using .loc[row_indexer,col_indexer] = value instead\n",
      "\n",
      "See the caveats in the documentation: http://pandas.pydata.org/pandas-docs/stable/indexing.html#indexing-view-versus-copy\n",
      "/anaconda/lib/python3.6/site-packages/ipykernel_launcher.py:93: SettingWithCopyWarning: \n",
      "A value is trying to be set on a copy of a slice from a DataFrame.\n",
      "Try using .loc[row_indexer,col_indexer] = value instead\n",
      "\n",
      "See the caveats in the documentation: http://pandas.pydata.org/pandas-docs/stable/indexing.html#indexing-view-versus-copy\n",
      "/anaconda/lib/python3.6/site-packages/ipykernel_launcher.py:94: SettingWithCopyWarning: \n",
      "A value is trying to be set on a copy of a slice from a DataFrame.\n",
      "Try using .loc[row_indexer,col_indexer] = value instead\n",
      "\n",
      "See the caveats in the documentation: http://pandas.pydata.org/pandas-docs/stable/indexing.html#indexing-view-versus-copy\n",
      "/anaconda/lib/python3.6/site-packages/ipykernel_launcher.py:95: SettingWithCopyWarning: \n",
      "A value is trying to be set on a copy of a slice from a DataFrame.\n",
      "Try using .loc[row_indexer,col_indexer] = value instead\n",
      "\n",
      "See the caveats in the documentation: http://pandas.pydata.org/pandas-docs/stable/indexing.html#indexing-view-versus-copy\n",
      "/anaconda/lib/python3.6/site-packages/ipykernel_launcher.py:96: SettingWithCopyWarning: \n",
      "A value is trying to be set on a copy of a slice from a DataFrame.\n",
      "Try using .loc[row_indexer,col_indexer] = value instead\n",
      "\n",
      "See the caveats in the documentation: http://pandas.pydata.org/pandas-docs/stable/indexing.html#indexing-view-versus-copy\n",
      "/anaconda/lib/python3.6/site-packages/ipykernel_launcher.py:97: SettingWithCopyWarning: \n",
      "A value is trying to be set on a copy of a slice from a DataFrame.\n",
      "Try using .loc[row_indexer,col_indexer] = value instead\n",
      "\n",
      "See the caveats in the documentation: http://pandas.pydata.org/pandas-docs/stable/indexing.html#indexing-view-versus-copy\n",
      "/anaconda/lib/python3.6/site-packages/ipykernel_launcher.py:98: SettingWithCopyWarning: \n",
      "A value is trying to be set on a copy of a slice from a DataFrame.\n",
      "Try using .loc[row_indexer,col_indexer] = value instead\n",
      "\n",
      "See the caveats in the documentation: http://pandas.pydata.org/pandas-docs/stable/indexing.html#indexing-view-versus-copy\n",
      "/anaconda/lib/python3.6/site-packages/ipykernel_launcher.py:99: SettingWithCopyWarning: \n",
      "A value is trying to be set on a copy of a slice from a DataFrame.\n",
      "Try using .loc[row_indexer,col_indexer] = value instead\n",
      "\n",
      "See the caveats in the documentation: http://pandas.pydata.org/pandas-docs/stable/indexing.html#indexing-view-versus-copy\n"
     ]
    }
   ],
   "source": [
    "\"\"\"\n",
    "Make a database with external factors for econometric analysis\n",
    "\"\"\"\n",
    "# Read the inspections database\n",
    "df_insp = pd.read_csv('Inspections_Hazen_Sawyer.csv')\n",
    "\n",
    "# Columns that we want to keep\n",
    "cols = ['InspectionID', 'Height', 'Down_Rim_to_Invert', 'Up_Rim_to_Invert', 'Height', 'Total_Length', 'Location_Code', 'Location_Details', 'Material', 'Weather', 'Street']\n",
    "\n",
    "# Defect pairs to keep\n",
    "keep_defects = ['Fracture', 'Crack', 'Tap', 'Manhole', 'Joint Offset', 'Root', 'Deposit', 'Broken']\n",
    "\n",
    "df_insp = create_econometric_database(df_insp, cols, keep_defects)\n",
    "\n",
    "df_insp.head()"
   ]
  },
  {
   "cell_type": "code",
   "execution_count": 47,
   "metadata": {},
   "outputs": [],
   "source": []
  },
  {
   "cell_type": "code",
   "execution_count": null,
   "metadata": {},
   "outputs": [],
   "source": []
  }
 ],
 "metadata": {
  "kernelspec": {
   "display_name": "Python 3",
   "language": "python",
   "name": "python3"
  },
  "language_info": {
   "codemirror_mode": {
    "name": "ipython",
    "version": 3
   },
   "file_extension": ".py",
   "mimetype": "text/x-python",
   "name": "python",
   "nbconvert_exporter": "python",
   "pygments_lexer": "ipython3",
   "version": "3.7.1"
  }
 },
 "nbformat": 4,
 "nbformat_minor": 2
}
