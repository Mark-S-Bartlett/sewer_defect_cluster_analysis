{
 "cells": [
  {
   "cell_type": "code",
   "execution_count": 2,
   "metadata": {},
   "outputs": [],
   "source": [
    "\"\"\"\n",
    "Association rule mining\n",
    "\"\"\"\n",
    "import os\n",
    "import numpy as np\n",
    "import pandas as pd"
   ]
  },
  {
   "cell_type": "code",
   "execution_count": 3,
   "metadata": {},
   "outputs": [],
   "source": [
    "path = os.getcwd()\n",
    "files = os.listdir(path)"
   ]
  },
  {
   "cell_type": "code",
   "execution_count": 4,
   "metadata": {},
   "outputs": [
    {
     "data": {
      "text/plain": [
       "'\\n\\nKey ideas to report in the paper\\n1. General statistics: Number of pipes with defects, most frequent defects \\n2. Number of instances of two defects being within the same vicinity, probabilities of these occurrences\\n3. Support, lift, etc.\\n\\n'"
      ]
     },
     "execution_count": 4,
     "metadata": {},
     "output_type": "execute_result"
    }
   ],
   "source": [
    "\"\"\"\n",
    "\n",
    "Key ideas to report in the paper\n",
    "1. General statistics: Number of pipes with defects, most frequent defects \n",
    "2. Number of instances of two defects being within the same vicinity, probabilities of these occurrences\n",
    "3. Support, lift, etc.\n",
    "\n",
    "\"\"\""
   ]
  },
  {
   "cell_type": "code",
   "execution_count": 5,
   "metadata": {},
   "outputs": [],
   "source": [
    "\"\"\"\n",
    "Helper functions\n",
    "\"\"\"\n",
    "\n",
    "def change_defect_names(df_cond):\n",
    "    \"\"\" \n",
    "    Change the names of defects: e.g., FL => Fracture, TB => Tap\n",
    "    Takes df_cond as input. \n",
    "    \"\"\"\n",
    "    deposit_codes = ['DAE', 'DAGS', 'DAR', 'DAZ', 'DSV', 'DSGV', 'DSC', 'DSZ', 'DNF', 'DNGV', 'DNZ']\n",
    "    deformed_codes = ['DR', 'DFBR', 'DFBI', 'DFC', 'DFE', 'DTBR', 'DTBI']\n",
    "    infiltration_codes = ['IS', 'ISB', 'ISJ', 'ISC', 'ISL', 'IW', 'IWB', 'IWC', 'IWJ', 'IWL', 'ID', 'IDB', 'IDC', 'IDJ', 'IDL', 'IR', 'IRB', 'IRC', 'IRJ', 'IRL', 'IG', 'IGB', 'IGC', 'IGL', 'IGJ' ]\n",
    "    hole_codes = ['HSV', 'HVV']\n",
    "    fracture_codes = ['FL', 'FC', 'FM', 'FS', 'FH']\n",
    "    crack_codes = ['CL', 'CC', 'CM', 'CS', 'CH']\n",
    "    broken_codes = ['BSV', 'BVV']\n",
    "    \n",
    "    df_cond.loc[df_cond['PACP_Code'].isin(deposit_codes), 'PACP_Code'] = 'Deposit'\n",
    "    df_cond.loc[df_cond['PACP_Code'].isin(deformed_codes), 'PACP_Code'] = 'Deformed'\n",
    "    df_cond.loc[df_cond['PACP_Code'].isin(infiltration_codes), 'PACP_Code'] = 'Infiltration'\n",
    "    df_cond.loc[df_cond['PACP_Code'].isin(hole_codes), 'PACP_Code'] = 'Hole'\n",
    "    df_cond.loc[df_cond['PACP_Code'].isin(fracture_codes), 'PACP_Code'] = 'Fracture'\n",
    "    df_cond.loc[df_cond['PACP_Code'].isin(crack_codes), 'PACP_Code'] = 'Crack'\n",
    "    df_cond.loc[df_cond['PACP_Code'].isin(broken_codes), 'PACP_Code'] = 'Broken'\n",
    "    \n",
    "    df_cond.loc[df_cond['PACP_Code'].str.startswith('T'), 'PACP_Code'] = 'Tap'\n",
    "    df_cond.loc[df_cond['PACP_Code'].str.startswith('A'), 'PACP_Code'] = 'Manhole'\n",
    "    df_cond.loc[df_cond['PACP_Code'].str.startswith('J'), 'PACP_Code'] = 'Joint Offset'\n",
    "    df_cond.loc[df_cond['PACP_Code'].str.startswith('R'), 'PACP_Code'] = 'Root'\n",
    "    \n",
    "    return df_cond\n",
    "\n",
    "def delete_rows(df_cond, keep_defects):\n",
    "    \"\"\"\n",
    "    Delete rows where the defects that we want to consider are not present\n",
    "    \"\"\"\n",
    "    df_cond = df_cond[df_cond['PACP_Code'].isin(keep_defects)]\n",
    "    return df_cond\n",
    "    \n",
    "\n",
    "def select_df(df, insp_id, defect_list):\n",
    "    \"\"\"\n",
    "    Helper function used by count_defect_pairs()\n",
    "    This function only keeps the rows where ['defect1', 'defect2'] are present\n",
    "    It helps speed up the computation\n",
    "    \"\"\"\n",
    "    df = df[(df['InspectionID'] == insp_id)]\n",
    "    return  df[df['PACP_Code'].isin(defect_list)]\n",
    "\n",
    "def delete_inspections_with_no_defects(df_cond, defects):\n",
    "    \"\"\"\n",
    "    Delete those inspections where there aren't any defects at all. \n",
    "    By defects we mean fractures, cracks, etc. Not tap and manhole\n",
    "    \"\"\"\n",
    "    insp_ids = np.unique(list(df_cond['InspectionID']))\n",
    "\n",
    "    keep_ids = [] # Inspection IDs that we want to keep\n",
    "\n",
    "    for insp_id in insp_ids:\n",
    "        df_temp = df_cond[(df_cond['InspectionID'] == insp_id)]\n",
    "        if df_temp['PACP_Code'].isin(defects).sum() > 0:\n",
    "            keep_ids.append(insp_id)\n",
    "    \n",
    "    return df_cond[df_cond['InspectionID'].isin(keep_ids)]\n",
    "\n",
    "def count_defect_pairs(df_cond, keep_defects, distance_threshold):\n",
    "    \"\"\"\n",
    "    Count the number of defect pairs that are < distance_threshold within each other\n",
    "    \"\"\"\n",
    "    defect_pair_counts = []\n",
    "    \n",
    "    for a in range(0, len(keep_defects)): \n",
    "        for b in range(a+1, len(keep_defects)):\n",
    "\n",
    "            pair_count = 0\n",
    "            defect_pair = [keep_defects[a], keep_defects[b]] # Pair of defects whose no. of occurrences we wish to calculate\n",
    "\n",
    "            for insp_id in df_cond['InspectionID'].unique():\n",
    "            \n",
    "            # Inspection id which we are counting for\n",
    "                df = select_df(df_cond, insp_id, defect_pair)\n",
    "                insp_id = list(df['InspectionID'])\n",
    "                dist = list(df['Distance'])\n",
    "                defects = list(df['PACP_Code']) # Defects which are selected from a particular inspection\n",
    "\n",
    "                for i in range (0, len(defects) - 1):\n",
    "                    for j in range (i+1, len(defects)):\n",
    "                        defect_1, defect_2 = defects[i], defects[j]\n",
    "                        if (defect_1 == defect_pair[0] and defect_2 == defect_pair[1]) or (defect_2 == defect_pair[0] and defect_1 == defect_pair[1]):\n",
    "                            if abs(dist[i] - dist[j]) <= distance_threshold:\n",
    "                                pair_count = pair_count + 1\n",
    "\n",
    "            defect_pair_counts.append([keep_defects[a], keep_defects[b], pair_count])\n",
    "            \n",
    "    return defect_pair_counts\n",
    "\n",
    "def calculate_length_of_pipeline(df_cond):\n",
    "    # Find total length of pipeline\n",
    "    insps = df_cond['InspectionID'].unique()\n",
    "    length = 0.0\n",
    "    for insp in insps:\n",
    "        df_temp = df_cond[df_cond['InspectionID'] == insp]\n",
    "        length += df_temp['Distance'].max()\n",
    "    return length\n",
    "   \n",
    "\n",
    "def create_econometric_database(df_insp, cols, defects):\n",
    "    df_insp = df_insp[cols]\n",
    "\n",
    "    f, c, t, m, j, r, d, b = [], [], [], [], [], [], [], []\n",
    "\n",
    "    insp_ids = list(df_insp['InspectionID'])\n",
    "\n",
    "    for insp_id in insp_ids:\n",
    "\n",
    "        df_temp = df_cond.loc[df_cond['InspectionID'] == insp_id]\n",
    "\n",
    "        f.append(len(df_temp[df_temp['PACP_Code'] == 'Fracture']))\n",
    "        c.append(len(df_temp[df_temp['PACP_Code'] == 'Crack']))\n",
    "        t.append(len(df_temp[df_temp['PACP_Code'] == 'Tap']))\n",
    "        m.append(len(df_temp[df_temp['PACP_Code'] == 'Manhole']))\n",
    "        j.append(len(df_temp[df_temp['PACP_Code'] == 'Joint Offset']))\n",
    "        r.append(len(df_temp[df_temp['PACP_Code'] == 'Root']))\n",
    "        d.append(len(df_temp[df_temp['PACP_Code'] == 'Deposit']))\n",
    "        b.append(len(df_temp[df_temp['PACP_Code'] == 'Broken']))\n",
    "\n",
    "    df_insp['Fracture'] = f\n",
    "    df_insp['Crack'] = c\n",
    "    df_insp['Tap'] = t\n",
    "    df_insp['Manhole'] = m\n",
    "    df_insp['Joint Offset'] = j\n",
    "    df_insp['Root'] = r\n",
    "    df_insp['Deposit'] = d\n",
    "    df_insp['Broken'] = b\n",
    "    \n",
    "    return df_insp"
   ]
  },
  {
   "cell_type": "code",
   "execution_count": 255,
   "metadata": {},
   "outputs": [
    {
     "name": "stdout",
     "output_type": "stream",
     "text": [
      "Total number of inspections to begin with are: 8891\n",
      "\n",
      "Number of defects is as follows: \n",
      "Tap             29688\n",
      "Manhole         17167\n",
      "Crack            9197\n",
      "Fracture         8558\n",
      "Deposit          8003\n",
      "Root             7943\n",
      "Joint Offset     1943\n",
      "Broken            458\n",
      "Name: PACP_Code, dtype: int64\n",
      "\n",
      "Number of inspections with Joint Offset and Fracture is: 2039\n",
      "\n",
      "Number of defects in these inspections is as follows: \n",
      "Tap             10244\n",
      "Fracture         8558\n",
      "Crack            7291\n",
      "Deposit          4008\n",
      "Root             3983\n",
      "Manhole          3793\n",
      "Joint Offset     1943\n",
      "Broken            336\n",
      "Name: PACP_Code, dtype: int64\n",
      "\n",
      "Number of (Joint Offset, Fracture) clusters is: 718\n",
      "Length : 419601.8005263697\n"
     ]
    }
   ],
   "source": [
    "cluster_size = 10\n",
    "\n",
    "# Read the database of condition information from CSV\n",
    "df_cond = pd.read_csv('Conditions_Combined.csv', sep=',')\n",
    "df_cond.head();\n",
    "print(\"Total number of inspections to begin with are: {}\".format(df_cond['InspectionID'].max()))\n",
    "\n",
    "# Change names of defects\n",
    "df_cond = change_defect_names(df_cond)\n",
    "\n",
    "# Keep only the rows which contain these defects. Delete all else\n",
    "keep_defects = ['Fracture', 'Crack', 'Tap', 'Manhole', 'Joint Offset', 'Root', 'Deposit', 'Broken']\n",
    "df_cond = delete_rows(df_cond, keep_defects)\n",
    "\n",
    "# Delete inspections which have no 'defects', i.e, fracture, crack, root, joint offset, deposit, broken\n",
    "defects = ['Fracture', 'Crack', 'Joint Offset', 'Root', 'Deposit', 'Broken']\n",
    "# df_cond = delete_inspections_with_no_defects(df_cond, defects)\n",
    "# print(\"Length : {}\".format(calculate_length_of_pipeline(df_cond)))\n",
    "\n",
    "\n",
    "# Count the number of inspections that remain after the deletion\n",
    "# print(\"\\nNumber of inspections which contain defects is: {}\".format(df_cond['InspectionID'].nunique()))\n",
    "\n",
    "# List the number of defects\n",
    "print(\"\\nNumber of defects is as follows: \\n{}\".format(df_cond['PACP_Code'].value_counts()))\n",
    "\n",
    "\"\"\"\n",
    "Counting only Fracture and Tap\n",
    "Delete all inspections which do not have both Fracture and Tap\n",
    "\"\"\"\n",
    "\n",
    "keep_defects = ['Joint Offset', 'Fracture']\n",
    "\n",
    "# Deletes those inspections which don't have defect1 or defect2\n",
    "df_cond = delete_inspections_with_no_defects(df_cond, [keep_defects[0], keep_defects[1]])\n",
    "\n",
    "# Count the number of inspections that remain after the deletion\n",
    "print(\"\\nNumber of inspections with {} and {} is: {}\".format(keep_defects[0], keep_defects[1], df_cond['InspectionID'].nunique()))\n",
    "\n",
    "# List the number of defects\n",
    "print(\"\\nNumber of defects in these inspections is as follows: \\n{}\".format(df_cond['PACP_Code'].value_counts()))\n",
    "\n",
    "# Counting the number of defect clusters within 5 feet\n",
    "defect_pair_counts = count_defect_pairs(df_cond, keep_defects, cluster_size)\n",
    "\n",
    "print('\\nNumber of ({}, {}) clusters is: {}'.format(keep_defects[0], keep_defects[1], defect_pair_counts[0][2]))\n",
    "\n",
    "# Count the total length of pipe in this dataframe\n",
    "length = calculate_length_of_pipeline(df_cond)\n",
    "\n",
    "print(\"Length : {}\".format(length))"
   ]
  },
  {
   "cell_type": "code",
   "execution_count": 256,
   "metadata": {},
   "outputs": [
    {
     "name": "stdout",
     "output_type": "stream",
     "text": [
      "Number of Joint Offset is 1943\n",
      "Number of Fracture is 8558\n",
      "Length: 419601.8005263697\n",
      "Average Joint Offset spacing: 215.955635885934 feet\n",
      "Average Fracture spacing: 49.03035762168377 feet\n"
     ]
    }
   ],
   "source": [
    "num_defect1 = df_cond['PACP_Code'].value_counts()[keep_defects[0]]\n",
    "num_defect2 = df_cond['PACP_Code'].value_counts()[keep_defects[1]]\n",
    "print(\"Number of {} is {}\".format(keep_defects[0], num_defect1))\n",
    "print(\"Number of {} is {}\".format(keep_defects[1], num_defect2))\n",
    "\n",
    "spacing1 = length/num_defect1\n",
    "spacing2 = length/num_defect2\n",
    "\n",
    "print(\"Length: {}\".format(length))\n",
    "print(\"Average {} spacing: {} feet\".format(keep_defects[0], spacing1))\n",
    "print(\"Average {} spacing: {} feet\".format(keep_defects[1], spacing2))"
   ]
  },
  {
   "cell_type": "code",
   "execution_count": 257,
   "metadata": {},
   "outputs": [
    {
     "name": "stdout",
     "output_type": "stream",
     "text": [
      "\n",
      "Number of (Joint Offset, Fracture) clusters is: 793\n"
     ]
    }
   ],
   "source": [
    "# If Taps and Fractures were uniformly distributed, calculate the number of co-occurrences\n",
    "import numpy as np\n",
    "\n",
    "defect1 = [[keep_defects[0], i, 1] for i in np.arange(0, length, spacing1)]\n",
    "defect2 = [[keep_defects[1], i, 1] for i in np.arange(0, length, spacing2)]\n",
    "df_cond_fake = pd.DataFrame(defect1+defect2, columns = ['PACP_Code', 'Distance', 'InspectionID'])\n",
    "defect_pair_counts = count_defect_pairs(df_cond_fake, [keep_defects[0], keep_defects[1]], cluster_size)\n",
    "print('\\nNumber of ({}, {}) clusters is: {}'.format(keep_defects[0], keep_defects[1], defect_pair_counts[0][2]))"
   ]
  },
  {
   "cell_type": "code",
   "execution_count": 258,
   "metadata": {},
   "outputs": [
    {
     "data": {
      "text/plain": [
       "'\\nCount number of defect hotspots\\n\\nTODO: Compare with uiform distribution/Weibull distribution/Try fitting curve\\n\\n'"
      ]
     },
     "execution_count": 258,
     "metadata": {},
     "output_type": "execute_result"
    }
   ],
   "source": [
    "\"\"\"\n",
    "Count number of defect hotspots\n",
    "\n",
    "TODO: Compare with uiform distribution/Weibull distribution/Try fitting curve\n",
    "\n",
    "\"\"\""
   ]
  },
  {
   "cell_type": "code",
   "execution_count": 50,
   "metadata": {},
   "outputs": [],
   "source": [
    "# Defect Codes\n",
    "\n",
    "deposit_codes = ['DAE', 'DAGS', 'DAR', 'DAZ', 'DSV', 'DSGV', 'DSC', 'DSZ', 'DNF', 'DNGV', 'DNZ']\n",
    "deformed_codes = ['DR', 'DFBR', 'DFBI', 'DFC', 'DFE', 'DTBR', 'DTBI']\n",
    "infiltration_codes = ['IS', 'ISB', 'ISJ', 'ISC', 'ISL', 'IW', 'IWB', 'IWC', 'IWJ', 'IWL', 'ID', 'IDB', 'IDC', 'IDJ', 'IDL', 'IR', 'IRB', 'IRC', 'IRJ', 'IRL', 'IG', 'IGB', 'IGC', 'IGL', 'IGJ' ]\n",
    "hole_codes = ['HSV', 'HVV']\n",
    "fracture_codes = ['FL', 'FC', 'FM', 'FS', 'FH', 'FH2', 'FH3', 'FH4']\n",
    "crack_codes = ['CL', 'CC', 'CM', 'CS', 'CH', 'CH2', 'CH3', 'CH4']\n",
    "broken_codes = ['BSV', 'BVV']\n",
    "tap_codes = ['TB', 'TBI', 'TBD', 'TBC', 'TBA', 'TF', 'TFI', 'TFD', 'TFC', 'TFA', 'TFB', 'TR', 'TRI', 'TRD', 'TRC', 'TRA', 'TRB', 'TS', 'TSI', 'TSD', 'TSA', 'TSB']\n",
    "root_codes = ['RFB', 'RFL', 'RFC', 'RFJ', 'RMB', 'RML', 'RMC', 'RMJ', 'RBB', 'RBL', 'RBC', 'RBJ', 'RTB', 'RTL', 'RTC', 'RTJ']\n",
    "joint_offset_codes = ['JOS', 'JOM', 'JOL', 'JOSD', 'JOMD', 'JOLD', 'JSS', 'JSM', 'JSL', 'JAS', 'JAM', 'JAL']\n",
    "keep_defects = deposit_codes+deformed_codes+infiltration_codes+hole_codes+fracture_codes+crack_codes+broken_codes+root_codes+joint_offset_codes\n"
   ]
  },
  {
   "cell_type": "code",
   "execution_count": 51,
   "metadata": {},
   "outputs": [
    {
     "name": "stdout",
     "output_type": "stream",
     "text": [
      "Total number of inspections to begin with are: 8891\n",
      "Number of inspections after deletion are: 4753\n"
     ]
    }
   ],
   "source": [
    "# Count number of defect zones\n",
    "df_cond = pd.read_csv('Conditions_Combined.csv', sep=',')\n",
    "df_cond.head();\n",
    "print(\"Total number of inspections to begin with are: {}\".format(df_cond['InspectionID'].nunique()))\n",
    "\n",
    "# Change names of defects\n",
    "# df_cond = change_defect_names(df_cond)\n",
    "\n",
    "# Keep only the rows which contain these defects. Delete all else\n",
    "# keep_defects = ['Fracture', 'Crack', 'Joint Offset', 'Root', 'Deposit', 'Broken', 'Hole', 'Infiltration', 'Deformed']\n",
    "\n",
    "\n",
    "df_cond = delete_rows(df_cond, keep_defects)\n",
    "\n",
    "# Delete inspections which have no 'defects', i.e, fracture, crack, root, joint offset, deposit, broken\n",
    "df_cond = delete_inspections_with_no_defects(df_cond, keep_defects)\n",
    "\n",
    "print(\"Number of inspections after deletion are: {}\".format(df_cond['InspectionID'].nunique()))"
   ]
  },
  {
   "cell_type": "code",
   "execution_count": 52,
   "metadata": {},
   "outputs": [],
   "source": [
    "thresh = 10000\n",
    "\n",
    "insps = df_cond['InspectionID'].unique()\n",
    "zones = []\n",
    "\n",
    "for insp in insps:\n",
    "    \n",
    "    df_temp = df_cond[df_cond['InspectionID'] == insp]\n",
    "    df_temp = df_temp.sort_values(by=[\"Distance\"])\n",
    "    indices = df_temp.index\n",
    "    defect_prev, defect_curr = \"\",\"\"\n",
    "    dist_prev, dist_curr = 0, 0\n",
    "    zone_curr = []\n",
    "    \n",
    "    for index in indices:\n",
    "        defect_curr = df_temp.at[index, 'PACP_Code'] # Defect code at current index\n",
    "        dist_curr = float(df_temp.at[index, 'Distance']) # Distance of defect at current index        \n",
    "    \n",
    "        if abs(dist_curr - dist_prev) < thresh:\n",
    "            zone_curr.append((insp, defect_curr, dist_curr))\n",
    "        else:           \n",
    "            zones.append(zone_curr)\n",
    "            zone_curr = []\n",
    "            zone_curr.append((insp, defect_curr, dist_curr))\n",
    "                        \n",
    "        dist_prev = dist_curr\n",
    "        defect_prev = defect_curr\n",
    "        \n",
    "    zones.append(zone_curr)"
   ]
  },
  {
   "cell_type": "code",
   "execution_count": 53,
   "metadata": {},
   "outputs": [
    {
     "data": {
      "text/plain": [
       "[[(1, 'JOL', 11.10000038)],\n",
       " [(2, 'DAGS', 0.10000000099999999), (2, 'DAGS', 37.90000153)],\n",
       " [(4, 'DAGS', 1.0),\n",
       "  (4, 'DAGS', 57.29999924),\n",
       "  (4, 'DAE', 57.29999924),\n",
       "  (4, 'DAGS', 77.09999847),\n",
       "  (4, 'DAGS', 121.90000149999999),\n",
       "  (4, 'DAGS', 129.5)],\n",
       " [(5, 'IR', 9.600000381000001),\n",
       "  (5, 'DAGS', 12.80000019),\n",
       "  (5, 'IR', 24.60000038),\n",
       "  (5, 'DAE', 27.60000038),\n",
       "  (5, 'IR', 93.59999847),\n",
       "  (5, 'IR', 111.5),\n",
       "  (5, 'DAE', 122.6999969)],\n",
       " [(6, 'DAE', 13.69999981),\n",
       "  (6, 'FM', 21.10000038),\n",
       "  (6, 'FL', 75.5),\n",
       "  (6, 'IR', 168.1999969),\n",
       "  (6, 'DAE', 236.60000609999997)],\n",
       " [(11, 'DAGS', 10.80000019), (11, 'DAGS', 127.8000031)],\n",
       " [(19, 'DAGS', 77.30000305), (19, 'DAE', 97.90000153)],\n",
       " [(22, 'DAE', 45.90000153),\n",
       "  (22, 'IR', 45.90000153),\n",
       "  (22, 'DAE', 78.90000153),\n",
       "  (22, 'RFJ', 239.3000031)],\n",
       " [(23, 'RFJ', 36.40000153)],\n",
       " [(24, 'FL', 101.4000015)]]"
      ]
     },
     "execution_count": 53,
     "metadata": {},
     "output_type": "execute_result"
    }
   ],
   "source": [
    "len(zones)\n",
    "zones[0:10]"
   ]
  },
  {
   "cell_type": "code",
   "execution_count": 54,
   "metadata": {},
   "outputs": [],
   "source": [
    "# Delete empty zones\n",
    "zones = list(filter(lambda a: a!=[], zones))"
   ]
  },
  {
   "cell_type": "code",
   "execution_count": 55,
   "metadata": {},
   "outputs": [
    {
     "name": "stdout",
     "output_type": "stream",
     "text": [
      "Number of colocated defects is 36637\n",
      "Total number of defects is 37573\n",
      "Max defects in a zone is 118\n"
     ]
    }
   ],
   "source": [
    "\"\"\"\n",
    "Calculate number of colocated defects\n",
    "\"\"\"\n",
    "\n",
    "colocated = 0\n",
    "total = 0\n",
    "max_colocated = 0\n",
    "\n",
    "for zone in zones:\n",
    "    if len(zone) > 1:\n",
    "        colocated += len(zone)\n",
    "        if len(zone) > max_colocated:\n",
    "            max_colocated = len(zone)\n",
    "            max_zone = zone\n",
    "    total += len(zone)\n",
    "    \n",
    "print(f'Number of colocated defects is {colocated}')\n",
    "print(f'Total number of defects is {total}')\n",
    "print(f'Max defects in a zone is {max_colocated}')"
   ]
  },
  {
   "cell_type": "code",
   "execution_count": 56,
   "metadata": {},
   "outputs": [
    {
     "data": {
      "text/plain": [
       "[(3209, 'JOM', 2.0),\n",
       " (3209, 'DAGS', 25.10000038),\n",
       " (3209, 'CC', 30.20000076),\n",
       " (3209, 'CL', 41.90000153),\n",
       " (3209, 'FC', 54.09999847),\n",
       " (3209, 'DAGS', 62.90000153),\n",
       " (3209, 'DAGS', 66.80000305),\n",
       " (3209, 'DAGS', 73.0),\n",
       " (3209, 'CL', 76.80000305),\n",
       " (3209, 'DAGS', 78.40000153),\n",
       " (3209, 'CL', 83.0),\n",
       " (3209, 'IR', 83.0),\n",
       " (3209, 'CL', 83.0),\n",
       " (3209, 'DAGS', 83.09999847),\n",
       " (3209, 'DAGS', 85.30000305),\n",
       " (3209, 'DAGS', 87.40000153),\n",
       " (3209, 'CL', 99.19999695),\n",
       " (3209, 'DAGS', 99.19999695),\n",
       " (3209, 'CL', 100.3000031),\n",
       " (3209, 'CL', 101.8000031),\n",
       " (3209, 'DAGS', 105.09999850000001),\n",
       " (3209, 'DAGS', 117.8000031),\n",
       " (3209, 'CL', 126.5),\n",
       " (3209, 'CL', 126.5),\n",
       " (3209, 'DAGS', 154.0),\n",
       " (3209, 'FC', 163.1999969),\n",
       " (3209, 'DAGS', 172.3000031),\n",
       " (3209, 'DAGS', 178.1999969),\n",
       " (3209, 'CL', 184.6999969),\n",
       " (3209, 'IS', 184.6999969),\n",
       " (3209, 'CL', 190.8000031),\n",
       " (3209, 'DAGS', 199.5),\n",
       " (3209, 'CL', 201.3999939),\n",
       " (3209, 'CL', 205.6000061),\n",
       " (3209, 'IS', 205.6000061),\n",
       " (3209, 'CL', 206.0),\n",
       " (3209, 'CL', 209.1999969),\n",
       " (3209, 'IS', 209.1999969),\n",
       " (3209, 'CL', 211.8000031),\n",
       " (3209, 'CL', 217.89999390000003),\n",
       " (3209, 'CC', 236.39999390000003),\n",
       " (3209, 'IW', 236.39999390000003),\n",
       " (3209, 'IW', 236.39999390000003),\n",
       " (3209, 'CL', 236.39999390000003),\n",
       " (3209, 'CL', 242.60000609999997),\n",
       " (3209, 'IW', 242.60000609999997),\n",
       " (3209, 'IS', 245.60000609999997),\n",
       " (3209, 'IS', 248.6999969),\n",
       " (3209, 'CL', 250.1999969),\n",
       " (3209, 'IS', 250.1999969),\n",
       " (3209, 'CM', 251.5),\n",
       " (3209, 'CC', 252.10000609999997),\n",
       " (3209, 'IS', 254.39999390000003),\n",
       " (3209, 'IS', 254.39999390000003),\n",
       " (3209, 'CM', 254.39999390000003),\n",
       " (3209, 'IS', 257.6000061),\n",
       " (3209, 'CL', 259.7000122),\n",
       " (3209, 'IS', 260.7000122),\n",
       " (3209, 'IS', 267.2999878),\n",
       " (3209, 'CL', 267.6000061),\n",
       " (3209, 'IS', 267.6000061),\n",
       " (3209, 'IS', 275.7000122),\n",
       " (3209, 'IS', 277.60000610000003),\n",
       " (3209, 'IS', 285.0),\n",
       " (3209, 'IS', 285.0),\n",
       " (3209, 'IS', 285.0),\n",
       " (3209, 'CM', 291.7999878),\n",
       " (3209, 'DAE', 297.5),\n",
       " (3209, 'IS', 297.5),\n",
       " (3209, 'CL', 299.2999878),\n",
       " (3209, 'CM', 302.2000122),\n",
       " (3209, 'CL', 312.10000610000003),\n",
       " (3209, 'IS', 312.10000610000003),\n",
       " (3209, 'CL', 312.7999878),\n",
       " (3209, 'CL', 327.7000122),\n",
       " (3209, 'IS', 327.7000122),\n",
       " (3209, 'CM', 328.2999878),\n",
       " (3209, 'IW', 352.2000122),\n",
       " (3209, 'IS', 352.2000122),\n",
       " (3209, 'CL', 364.5),\n",
       " (3209, 'IW', 369.7999878),\n",
       " (3209, 'IW', 375.7000122),\n",
       " (3209, 'DAE', 382.0),\n",
       " (3209, 'IW', 382.10000610000003),\n",
       " (3209, 'DAE', 388.2000122),\n",
       " (3209, 'IW', 388.39999389999997),\n",
       " (3209, 'IW', 391.2999878),\n",
       " (3209, 'DAE', 391.2999878),\n",
       " (3209, 'DAE', 396.7999878),\n",
       " (3209, 'IW', 396.7999878),\n",
       " (3209, 'CL', 401.0),\n",
       " (3209, 'DAE', 403.0),\n",
       " (3209, 'IW', 403.0),\n",
       " (3209, 'DAE', 408.7999878),\n",
       " (3209, 'IW', 408.7999878),\n",
       " (3209, 'CL', 413.89999389999997),\n",
       " (3209, 'DAE', 415.2999878),\n",
       " (3209, 'IW', 415.2999878),\n",
       " (3209, 'DAE', 421.29998780000005),\n",
       " (3209, 'IW', 421.29998780000005),\n",
       " (3209, 'IW', 424.79998780000005),\n",
       " (3209, 'IW', 427.6000061000001),\n",
       " (3209, 'DAE', 427.6000061000001),\n",
       " (3209, 'IW', 433.29998780000005),\n",
       " (3209, 'DAE', 433.29998780000005),\n",
       " (3209, 'DAE', 445.70001219999995),\n",
       " (3209, 'ID', 445.70001219999995),\n",
       " (3209, 'IW', 452.0),\n",
       " (3209, 'DAE', 452.0),\n",
       " (3209, 'CL', 452.6000061000001),\n",
       " (3209, 'CC', 458.29998780000005),\n",
       " (3209, 'IW', 458.29998780000005),\n",
       " (3209, 'CC', 459.0),\n",
       " (3209, 'IW', 461.20001219999995),\n",
       " (3209, 'CL', 464.20001219999995),\n",
       " (3209, 'IW', 464.20001219999995),\n",
       " (3209, 'CL', 464.20001219999995),\n",
       " (3209, 'JOM', 482.70001219999995)]"
      ]
     },
     "execution_count": 56,
     "metadata": {},
     "output_type": "execute_result"
    }
   ],
   "source": [
    "max_zone"
   ]
  },
  {
   "cell_type": "code",
   "execution_count": 13,
   "metadata": {},
   "outputs": [],
   "source": [
    "\"\"\"\n",
    "Calculate the number of zones of various lengths\n",
    "\"\"\"\n",
    "\n",
    "num_zones = {i:0 for i in range(1, max_colocated + 1)}\n",
    "for zone in zones:\n",
    "    if len(zone) >= 1:\n",
    "        num_zones[len(zone)] += 1"
   ]
  },
  {
   "cell_type": "code",
   "execution_count": 14,
   "metadata": {},
   "outputs": [
    {
     "data": {
      "text/plain": [
       "{1: 806,\n",
       " 2: 802,\n",
       " 3: 495,\n",
       " 4: 391,\n",
       " 5: 293,\n",
       " 6: 243,\n",
       " 7: 198,\n",
       " 8: 133,\n",
       " 9: 150,\n",
       " 10: 114,\n",
       " 11: 82,\n",
       " 12: 89,\n",
       " 13: 63,\n",
       " 14: 63,\n",
       " 15: 46,\n",
       " 16: 48,\n",
       " 17: 34,\n",
       " 18: 45,\n",
       " 19: 32,\n",
       " 20: 29,\n",
       " 21: 39,\n",
       " 22: 38,\n",
       " 23: 32,\n",
       " 24: 24,\n",
       " 25: 32,\n",
       " 26: 19,\n",
       " 27: 13,\n",
       " 28: 15,\n",
       " 29: 14,\n",
       " 30: 22,\n",
       " 31: 8,\n",
       " 32: 18,\n",
       " 33: 10,\n",
       " 34: 12,\n",
       " 35: 11,\n",
       " 36: 15,\n",
       " 37: 18,\n",
       " 38: 8,\n",
       " 39: 13,\n",
       " 40: 7,\n",
       " 41: 1,\n",
       " 42: 8,\n",
       " 43: 8,\n",
       " 44: 4,\n",
       " 45: 5,\n",
       " 46: 8,\n",
       " 47: 9,\n",
       " 48: 1,\n",
       " 49: 7,\n",
       " 50: 3,\n",
       " 51: 5,\n",
       " 52: 6,\n",
       " 53: 3,\n",
       " 54: 7,\n",
       " 55: 3,\n",
       " 56: 1,\n",
       " 57: 3,\n",
       " 58: 1,\n",
       " 59: 0,\n",
       " 60: 1,\n",
       " 61: 2,\n",
       " 62: 0,\n",
       " 63: 0,\n",
       " 64: 0,\n",
       " 65: 0,\n",
       " 66: 0,\n",
       " 67: 4,\n",
       " 68: 1,\n",
       " 69: 0,\n",
       " 70: 2,\n",
       " 71: 3,\n",
       " 72: 2,\n",
       " 73: 0,\n",
       " 74: 1,\n",
       " 75: 0,\n",
       " 76: 2,\n",
       " 77: 0,\n",
       " 78: 0,\n",
       " 79: 0,\n",
       " 80: 0,\n",
       " 81: 2,\n",
       " 82: 0,\n",
       " 83: 2,\n",
       " 84: 0,\n",
       " 85: 0,\n",
       " 86: 0,\n",
       " 87: 1,\n",
       " 88: 0,\n",
       " 89: 0,\n",
       " 90: 0,\n",
       " 91: 1,\n",
       " 92: 0,\n",
       " 93: 0,\n",
       " 94: 2,\n",
       " 95: 0,\n",
       " 96: 0,\n",
       " 97: 0,\n",
       " 98: 0,\n",
       " 99: 0,\n",
       " 100: 0,\n",
       " 101: 0,\n",
       " 102: 0,\n",
       " 103: 0,\n",
       " 104: 0,\n",
       " 105: 2,\n",
       " 106: 0,\n",
       " 107: 0,\n",
       " 108: 0,\n",
       " 109: 0,\n",
       " 110: 0,\n",
       " 111: 0,\n",
       " 112: 0,\n",
       " 113: 0,\n",
       " 114: 0,\n",
       " 115: 0,\n",
       " 116: 0,\n",
       " 117: 0,\n",
       " 118: 2}"
      ]
     },
     "execution_count": 14,
     "metadata": {},
     "output_type": "execute_result"
    }
   ],
   "source": [
    "num_zones"
   ]
  },
  {
   "cell_type": "code",
   "execution_count": 57,
   "metadata": {},
   "outputs": [],
   "source": [
    "\"\"\"\n",
    "Most frequent defect in colocated zone\n",
    "\"\"\"\n",
    "defects = {defect_code:0 for defect_code in keep_defects}\n",
    "for zone in zones:\n",
    "    if len(zone) > 1:\n",
    "        for defect in zone:\n",
    "            defects[defect[1]] += 1 "
   ]
  },
  {
   "cell_type": "code",
   "execution_count": 58,
   "metadata": {},
   "outputs": [
    {
     "data": {
      "text/plain": [
       "{'DAE': 3084,\n",
       " 'DAGS': 4325,\n",
       " 'DAR': 11,\n",
       " 'DAZ': 153,\n",
       " 'DSV': 0,\n",
       " 'DSGV': 56,\n",
       " 'DSC': 106,\n",
       " 'DSZ': 64,\n",
       " 'DNF': 9,\n",
       " 'DNGV': 8,\n",
       " 'DNZ': 2,\n",
       " 'DR': 0,\n",
       " 'DFBR': 0,\n",
       " 'DFBI': 0,\n",
       " 'DFC': 0,\n",
       " 'DFE': 0,\n",
       " 'DTBR': 0,\n",
       " 'DTBI': 0,\n",
       " 'IS': 486,\n",
       " 'ISB': 0,\n",
       " 'ISJ': 0,\n",
       " 'ISC': 0,\n",
       " 'ISL': 0,\n",
       " 'IW': 249,\n",
       " 'IWB': 0,\n",
       " 'IWC': 0,\n",
       " 'IWJ': 0,\n",
       " 'IWL': 0,\n",
       " 'ID': 169,\n",
       " 'IDB': 0,\n",
       " 'IDC': 0,\n",
       " 'IDJ': 0,\n",
       " 'IDL': 0,\n",
       " 'IR': 405,\n",
       " 'IRB': 0,\n",
       " 'IRC': 0,\n",
       " 'IRJ': 0,\n",
       " 'IRL': 0,\n",
       " 'IG': 103,\n",
       " 'IGB': 0,\n",
       " 'IGC': 0,\n",
       " 'IGL': 0,\n",
       " 'IGJ': 0,\n",
       " 'HSV': 303,\n",
       " 'HVV': 124,\n",
       " 'FL': 1332,\n",
       " 'FC': 1372,\n",
       " 'FM': 4234,\n",
       " 'FS': 1506,\n",
       " 'FH': 0,\n",
       " 'FH2': 13,\n",
       " 'FH3': 27,\n",
       " 'FH4': 26,\n",
       " 'CL': 3268,\n",
       " 'CC': 1815,\n",
       " 'CM': 3182,\n",
       " 'CS': 751,\n",
       " 'CH': 0,\n",
       " 'CH2': 12,\n",
       " 'CH3': 14,\n",
       " 'CH4': 10,\n",
       " 'BSV': 305,\n",
       " 'BVV': 125,\n",
       " 'RFB': 242,\n",
       " 'RFL': 365,\n",
       " 'RFC': 285,\n",
       " 'RFJ': 4841,\n",
       " 'RMB': 32,\n",
       " 'RML': 76,\n",
       " 'RMC': 94,\n",
       " 'RMJ': 612,\n",
       " 'RBB': 25,\n",
       " 'RBL': 119,\n",
       " 'RBC': 53,\n",
       " 'RBJ': 116,\n",
       " 'RTB': 3,\n",
       " 'RTL': 21,\n",
       " 'RTC': 31,\n",
       " 'RTJ': 200,\n",
       " 'JOS': 0,\n",
       " 'JOM': 1590,\n",
       " 'JOL': 180,\n",
       " 'JOSD': 0,\n",
       " 'JOMD': 0,\n",
       " 'JOLD': 0,\n",
       " 'JSS': 0,\n",
       " 'JSM': 65,\n",
       " 'JSL': 17,\n",
       " 'JAS': 0,\n",
       " 'JAM': 18,\n",
       " 'JAL': 3}"
      ]
     },
     "execution_count": 58,
     "metadata": {},
     "output_type": "execute_result"
    }
   ],
   "source": [
    "defects"
   ]
  },
  {
   "cell_type": "code",
   "execution_count": 17,
   "metadata": {},
   "outputs": [
    {
     "data": {
      "text/plain": [
       "'\\nFinding severity of defect clusters and finding length of these clusters.\\nWill allow for the best patch repair\\n\\n'"
      ]
     },
     "execution_count": 17,
     "metadata": {},
     "output_type": "execute_result"
    }
   ],
   "source": [
    "\"\"\"\n",
    "Finding severity of defect clusters and finding length of these clusters.\n",
    "Will allow for the best patch repair\n",
    "\n",
    "\"\"\""
   ]
  },
  {
   "cell_type": "code",
   "execution_count": 18,
   "metadata": {},
   "outputs": [
    {
     "data": {
      "text/plain": [
       "'\\nInterdefect association rule mining\\n'"
      ]
     },
     "execution_count": 18,
     "metadata": {},
     "output_type": "execute_result"
    }
   ],
   "source": [
    "\"\"\"\n",
    "Interdefect association rule mining\n",
    "\"\"\""
   ]
  },
  {
   "cell_type": "code",
   "execution_count": 59,
   "metadata": {},
   "outputs": [],
   "source": [
    "# Create matrix: https://towardsdatascience.com/association-rule-mining-be4122fc1793\n",
    "import numpy as np\n",
    "\n",
    "co_matrix = []\n",
    "\n",
    "for zone in zones:\n",
    "    row = np.zeros(len(keep_defects))\n",
    "    for _, defect, _ in zone:\n",
    "        defect_index = keep_defects.index(defect)\n",
    "        row[defect_index] = 1\n",
    "    co_matrix.append(row)"
   ]
  },
  {
   "cell_type": "code",
   "execution_count": 60,
   "metadata": {},
   "outputs": [
    {
     "data": {
      "text/plain": [
       "[[(1, 'JOL', 11.10000038)],\n",
       " [(2, 'DAGS', 0.10000000099999999), (2, 'DAGS', 37.90000153)],\n",
       " [(4, 'DAGS', 1.0),\n",
       "  (4, 'DAGS', 57.29999924),\n",
       "  (4, 'DAE', 57.29999924),\n",
       "  (4, 'DAGS', 77.09999847),\n",
       "  (4, 'DAGS', 121.90000149999999),\n",
       "  (4, 'DAGS', 129.5)],\n",
       " [(5, 'IR', 9.600000381000001),\n",
       "  (5, 'DAGS', 12.80000019),\n",
       "  (5, 'IR', 24.60000038),\n",
       "  (5, 'DAE', 27.60000038),\n",
       "  (5, 'IR', 93.59999847),\n",
       "  (5, 'IR', 111.5),\n",
       "  (5, 'DAE', 122.6999969)],\n",
       " [(6, 'DAE', 13.69999981),\n",
       "  (6, 'FM', 21.10000038),\n",
       "  (6, 'FL', 75.5),\n",
       "  (6, 'IR', 168.1999969),\n",
       "  (6, 'DAE', 236.60000609999997)]]"
      ]
     },
     "execution_count": 60,
     "metadata": {},
     "output_type": "execute_result"
    }
   ],
   "source": [
    "zones[:5]"
   ]
  },
  {
   "cell_type": "code",
   "execution_count": 61,
   "metadata": {},
   "outputs": [
    {
     "data": {
      "text/plain": [
       "4753"
      ]
     },
     "execution_count": 61,
     "metadata": {},
     "output_type": "execute_result"
    }
   ],
   "source": [
    "len(co_matrix)"
   ]
  },
  {
   "cell_type": "code",
   "execution_count": 68,
   "metadata": {},
   "outputs": [
    {
     "data": {
      "text/plain": [
       "[array([0., 0., 0., 0., 0., 0., 0., 0., 0., 0., 0., 0., 0., 0., 0., 0., 0.,\n",
       "        0., 0., 0., 0., 0., 0., 0., 0., 0., 0., 0., 0., 0., 0., 0., 0., 0.,\n",
       "        0., 0., 0., 0., 0., 0., 0., 0., 0., 0., 0., 0., 0., 0., 0., 0., 0.,\n",
       "        0., 0., 0., 0., 0., 0., 0., 0., 0., 0., 0., 0., 0., 0., 0., 0., 0.,\n",
       "        0., 0., 0., 0., 0., 0., 0., 0., 0., 0., 0., 0., 0., 1., 0., 0., 0.,\n",
       "        0., 0., 0., 0., 0., 0.]),\n",
       " array([0., 1., 0., 0., 0., 0., 0., 0., 0., 0., 0., 0., 0., 0., 0., 0., 0.,\n",
       "        0., 0., 0., 0., 0., 0., 0., 0., 0., 0., 0., 0., 0., 0., 0., 0., 0.,\n",
       "        0., 0., 0., 0., 0., 0., 0., 0., 0., 0., 0., 0., 0., 0., 0., 0., 0.,\n",
       "        0., 0., 0., 0., 0., 0., 0., 0., 0., 0., 0., 0., 0., 0., 0., 0., 0.,\n",
       "        0., 0., 0., 0., 0., 0., 0., 0., 0., 0., 0., 0., 0., 0., 0., 0., 0.,\n",
       "        0., 0., 0., 0., 0., 0.])]"
      ]
     },
     "execution_count": 68,
     "metadata": {},
     "output_type": "execute_result"
    }
   ],
   "source": [
    "co_matrix[:2]"
   ]
  },
  {
   "cell_type": "code",
   "execution_count": 67,
   "metadata": {},
   "outputs": [
    {
     "data": {
      "text/plain": [
       "True"
      ]
     },
     "execution_count": 67,
     "metadata": {},
     "output_type": "execute_result"
    }
   ],
   "source": [
    "len(co_matrix[0]) == len(keep_defects)"
   ]
  },
  {
   "cell_type": "code",
   "execution_count": 69,
   "metadata": {},
   "outputs": [],
   "source": [
    "def count_pairs(x, y, keep_defects, co_matrix):\n",
    "    count_x, count_y, count_xy = 0, 0, 0\n",
    "    for row in co_matrix:\n",
    "        if row[x] == 1 and row[y] == 1.0:\n",
    "            count_xy += 1\n",
    "        if row[x] == 1.0:\n",
    "            count_x += 1\n",
    "        if row[y] == 1.0:\n",
    "            count_y += 1\n",
    "            \n",
    "    return count_x, count_y, count_xy"
   ]
  },
  {
   "cell_type": "code",
   "execution_count": 72,
   "metadata": {},
   "outputs": [],
   "source": [
    "def support_confidence_xy(x, y, keep_defects, co_matrix):\n",
    "    count_x, count_y, count_xy = count_pairs(x, y, keep_defects, co_matrix)\n",
    "    support_xy = count_xy/len(co_matrix)\n",
    "    support_x = count_x/len(co_matrix)\n",
    "    support_y = count_y/len(co_matrix)\n",
    "    if count_x ==0 or count_y == 0 or count_xy ==0:\n",
    "        confidence_xy = 0\n",
    "    else:\n",
    "        confidence_xy = count_xy/count_x\n",
    "    return support_x, support_y, support_xy, confidence_xy"
   ]
  },
  {
   "cell_type": "code",
   "execution_count": 80,
   "metadata": {},
   "outputs": [],
   "source": [
    "min_support = 0.01\n",
    "min_confidence = 0.50\n",
    "rules = []\n",
    "\n",
    "for x in range(0, len(keep_defects)):\n",
    "    for y in range(0, len(keep_defects)):\n",
    "        if x!=y:\n",
    "            support_x, support_y, support_xy, confidence_xy = support_confidence_xy(x, y, keep_defects, co_matrix)\n",
    "            if support_xy > min_support and confidence_xy > min_confidence:\n",
    "                lift_xy = support_xy/(support_x*support_y)\n",
    "                rules.append([keep_defects[x], keep_defects[y], support_xy, confidence_xy, lift_xy])\n"
   ]
  },
  {
   "cell_type": "code",
   "execution_count": 81,
   "metadata": {},
   "outputs": [
    {
     "data": {
      "text/plain": [
       "[['RBJ', 'RMJ', 0.011150852093414685, 0.5047619047619047, 6.59102564102564],\n",
       " ['CS', 'FS', 0.04376183463075952, 0.5842696629213483, 5.679005537556582],\n",
       " ['JOL', 'JOM', 0.013044393014937934, 0.5961538461538461, 4.6835028607755875],\n",
       " ['FL', 'FM', 0.08920681674731748, 0.7464788732394366, 3.0692163360787563],\n",
       " ['HSV', 'FM', 0.024405638544077426, 0.7204968944099379, 2.962389047690688],\n",
       " ['FS', 'FM', 0.07237534188933305, 0.7034764826175869, 2.8924080639112373],\n",
       " ['RMC', 'RFJ', 0.01409636019356196, 0.7976190476190477, 2.8807624113475176],\n",
       " ['RFB', 'RFJ', 0.017462655165158845, 0.7757009345794392, 2.8016007158480805],\n",
       " ['RTJ', 'RFJ', 0.020618556701030927, 0.765625, 2.7652094414893615],\n",
       " ['HVV', 'CL', 0.010730065221965075, 0.6219512195121951, 2.755017843747869],\n",
       " ['RMJ', 'RFJ', 0.057647801388596674, 0.7527472527472527, 2.718698854337152],\n",
       " ['CM', 'CL', 0.11129812749842205, 0.6101499423298731, 2.702742475203995],\n",
       " ['RFB', 'FM', 0.014727540500736377, 0.6542056074766355, 2.689826342851599],\n",
       " ['HVV', 'FM', 0.011150852093414685, 0.6463414634146342, 2.6574921934340447],\n",
       " ['FL', 'CL', 0.07153376814643383, 0.5985915492957746, 2.6515429951563996],\n",
       " ['CS', 'CL', 0.04439301493793393, 0.5926966292134831, 2.625430641800266],\n",
       " ['BSV', 'FM', 0.024826425415527036, 0.6178010471204188, 2.5401456548125867],\n",
       " ['CS', 'FM', 0.04607616242373238, 0.6151685393258427, 2.5293218576260643],\n",
       " ['RBJ', 'RFJ', 0.015358720807910793, 0.6952380952380952, 2.5109929078014184],\n",
       " ['RFC', 'RFJ', 0.03576688407321692, 0.6827309236947792, 2.46582072972742],\n",
       " ['FS', 'CL', 0.05701662108142226, 0.5541922290388548, 2.454870144102215],\n",
       " ['FC', 'FM', 0.09278350515463918, 0.5719844357976653, 2.3517664561819234],\n",
       " ['RFB', 'CL', 0.011782032400589101, 0.5233644859813084, 2.318314447221956],\n",
       " ['HSV', 'CL', 0.017252261729434042, 0.5093167701863354, 2.2560881721301516],\n",
       " ['CM', 'FM', 0.09930570166210814, 0.544405997693195, 2.238375179096674],\n",
       " ['JOL', 'FM', 0.011782032400589101, 0.5384615384615384, 2.213933989885547],\n",
       " ['CL', 'FM', 0.1169787502629918, 0.5181733457595527, 2.1305172252553235],\n",
       " ['CS', 'DAGS', 0.04081632653061224, 0.5449438202247191, 1.7716265236170246],\n",
       " ['FS', 'DAGS', 0.055333473595623815, 0.5378323108384458, 1.748506821761377],\n",
       " ['RFL', 'DAGS', 0.028823900694298337, 0.5169811320754717, 1.6807190976434452],\n",
       " ['RFB', 'DAGS', 0.011571638964864297, 0.514018691588785, 1.6710881266220898]]"
      ]
     },
     "execution_count": 81,
     "metadata": {},
     "output_type": "execute_result"
    }
   ],
   "source": [
    "rules.sort(key=lambda tup: tup[4], reverse=True)  # sorts in place by confidence\n",
    "rules[:50]"
   ]
  },
  {
   "cell_type": "code",
   "execution_count": 182,
   "metadata": {},
   "outputs": [
    {
     "data": {
      "text/plain": [
       "(0.2755712636035973,\n",
       " 0.25363054204430135,\n",
       " 0.02834447282779858,\n",
       " 0.10285714285714286)"
      ]
     },
     "execution_count": 182,
     "metadata": {},
     "output_type": "execute_result"
    }
   ],
   "source": [
    "\"\"\" \n",
    "\n",
    "Interesting Rules from Association Rules on Pipe-Level \n",
    "\n",
    "['JOL', 'FM', 0.011782032400589101, 0.5384615384615384, 2.213933989885547]\n",
    "['RFB', 'FM', 0.014727540500736377, 0.6542056074766355, 2.689826342851599],\n",
    "['RFB', 'CL', 0.011782032400589101, 0.5233644859813084, 2.318314447221956],\n",
    "\n",
    "\"\"\""
   ]
  },
  {
   "cell_type": "code",
   "execution_count": 78,
   "metadata": {},
   "outputs": [
    {
     "name": "stdout",
     "output_type": "stream",
     "text": [
      "Number of rows with more than 1 defect is 3995\n"
     ]
    }
   ],
   "source": [
    "num_rows = 0\n",
    "for row in co_matrix:\n",
    "    if np.count_nonzero(row == 1) > 1:\n",
    "        num_rows += 1\n",
    "        \n",
    "print(f'Number of rows with more than 1 defect is {num_rows}')"
   ]
  },
  {
   "cell_type": "code",
   "execution_count": 102,
   "metadata": {},
   "outputs": [
    {
     "data": {
      "text/plain": [
       "1.0530775826485135"
      ]
     },
     "execution_count": 102,
     "metadata": {},
     "output_type": "execute_result"
    }
   ],
   "source": [
    "lift = support/(support_x*support_y)\n",
    "lift"
   ]
  },
  {
   "cell_type": "code",
   "execution_count": 181,
   "metadata": {},
   "outputs": [
    {
     "data": {
      "text/plain": [
       "0.07973102785782901"
      ]
     },
     "execution_count": 181,
     "metadata": {},
     "output_type": "execute_result"
    }
   ],
   "source": [
    "support"
   ]
  },
  {
   "cell_type": "code",
   "execution_count": 36,
   "metadata": {},
   "outputs": [
    {
     "name": "stderr",
     "output_type": "stream",
     "text": [
      "/anaconda/lib/python3.6/site-packages/ipykernel_launcher.py:92: SettingWithCopyWarning: \n",
      "A value is trying to be set on a copy of a slice from a DataFrame.\n",
      "Try using .loc[row_indexer,col_indexer] = value instead\n",
      "\n",
      "See the caveats in the documentation: http://pandas.pydata.org/pandas-docs/stable/indexing.html#indexing-view-versus-copy\n",
      "/anaconda/lib/python3.6/site-packages/ipykernel_launcher.py:93: SettingWithCopyWarning: \n",
      "A value is trying to be set on a copy of a slice from a DataFrame.\n",
      "Try using .loc[row_indexer,col_indexer] = value instead\n",
      "\n",
      "See the caveats in the documentation: http://pandas.pydata.org/pandas-docs/stable/indexing.html#indexing-view-versus-copy\n",
      "/anaconda/lib/python3.6/site-packages/ipykernel_launcher.py:94: SettingWithCopyWarning: \n",
      "A value is trying to be set on a copy of a slice from a DataFrame.\n",
      "Try using .loc[row_indexer,col_indexer] = value instead\n",
      "\n",
      "See the caveats in the documentation: http://pandas.pydata.org/pandas-docs/stable/indexing.html#indexing-view-versus-copy\n",
      "/anaconda/lib/python3.6/site-packages/ipykernel_launcher.py:95: SettingWithCopyWarning: \n",
      "A value is trying to be set on a copy of a slice from a DataFrame.\n",
      "Try using .loc[row_indexer,col_indexer] = value instead\n",
      "\n",
      "See the caveats in the documentation: http://pandas.pydata.org/pandas-docs/stable/indexing.html#indexing-view-versus-copy\n",
      "/anaconda/lib/python3.6/site-packages/ipykernel_launcher.py:96: SettingWithCopyWarning: \n",
      "A value is trying to be set on a copy of a slice from a DataFrame.\n",
      "Try using .loc[row_indexer,col_indexer] = value instead\n",
      "\n",
      "See the caveats in the documentation: http://pandas.pydata.org/pandas-docs/stable/indexing.html#indexing-view-versus-copy\n",
      "/anaconda/lib/python3.6/site-packages/ipykernel_launcher.py:97: SettingWithCopyWarning: \n",
      "A value is trying to be set on a copy of a slice from a DataFrame.\n",
      "Try using .loc[row_indexer,col_indexer] = value instead\n",
      "\n",
      "See the caveats in the documentation: http://pandas.pydata.org/pandas-docs/stable/indexing.html#indexing-view-versus-copy\n",
      "/anaconda/lib/python3.6/site-packages/ipykernel_launcher.py:98: SettingWithCopyWarning: \n",
      "A value is trying to be set on a copy of a slice from a DataFrame.\n",
      "Try using .loc[row_indexer,col_indexer] = value instead\n",
      "\n",
      "See the caveats in the documentation: http://pandas.pydata.org/pandas-docs/stable/indexing.html#indexing-view-versus-copy\n",
      "/anaconda/lib/python3.6/site-packages/ipykernel_launcher.py:99: SettingWithCopyWarning: \n",
      "A value is trying to be set on a copy of a slice from a DataFrame.\n",
      "Try using .loc[row_indexer,col_indexer] = value instead\n",
      "\n",
      "See the caveats in the documentation: http://pandas.pydata.org/pandas-docs/stable/indexing.html#indexing-view-versus-copy\n"
     ]
    }
   ],
   "source": [
    "\"\"\"\n",
    "Make a database with external factors for econometric analysis\n",
    "\"\"\"\n",
    "# Read the inspections database\n",
    "df_insp = pd.read_csv('Inspections_Hazen_Sawyer.csv')\n",
    "\n",
    "# Columns that we want to keep\n",
    "cols = ['InspectionID', 'Height', 'Down_Rim_to_Invert', 'Up_Rim_to_Invert', 'Height', 'Total_Length', 'Location_Code', 'Location_Details', 'Material', 'Weather', 'Street']\n",
    "\n",
    "# Defect pairs to keep\n",
    "keep_defects = ['Fracture', 'Crack', 'Tap', 'Manhole', 'Joint Offset', 'Root', 'Deposit', 'Broken']\n",
    "\n",
    "df_insp = create_econometric_database(df_insp, cols, keep_defects)\n",
    "\n",
    "df_insp.head()"
   ]
  },
  {
   "cell_type": "code",
   "execution_count": 47,
   "metadata": {},
   "outputs": [],
   "source": []
  },
  {
   "cell_type": "code",
   "execution_count": null,
   "metadata": {},
   "outputs": [],
   "source": []
  }
 ],
 "metadata": {
  "kernelspec": {
   "display_name": "Python 3",
   "language": "python",
   "name": "python3"
  },
  "language_info": {
   "codemirror_mode": {
    "name": "ipython",
    "version": 3
   },
   "file_extension": ".py",
   "mimetype": "text/x-python",
   "name": "python",
   "nbconvert_exporter": "python",
   "pygments_lexer": "ipython3",
   "version": "3.7.1"
  }
 },
 "nbformat": 4,
 "nbformat_minor": 2
}
