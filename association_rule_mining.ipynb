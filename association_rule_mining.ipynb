{
 "cells": [
  {
   "cell_type": "code",
   "execution_count": 1,
   "metadata": {},
   "outputs": [],
   "source": [
    "\"\"\"\n",
    "Association rule mining\n",
    "\"\"\"\n",
    "import os\n",
    "import numpy as np\n",
    "import pandas as pd"
   ]
  },
  {
   "cell_type": "code",
   "execution_count": 2,
   "metadata": {},
   "outputs": [],
   "source": [
    "path = os.getcwd()\n",
    "files = os.listdir(path)"
   ]
  },
  {
   "cell_type": "code",
   "execution_count": 71,
   "metadata": {},
   "outputs": [
    {
     "data": {
      "text/plain": [
       "'\\n\\nKey ideas to report in the paper\\n1. General statistics: Number of pipes with defects, most frequent defects \\n2. Number of instances of two defects being within the same vicinity, probabilities of these occurrences\\n3. Support, lift, etc.\\n\\n'"
      ]
     },
     "execution_count": 71,
     "metadata": {},
     "output_type": "execute_result"
    }
   ],
   "source": [
    "\"\"\"\n",
    "\n",
    "Key ideas to report in the paper\n",
    "1. General statistics: Number of pipes with defects, most frequent defects \n",
    "2. Number of instances of two defects being within the same vicinity, probabilities of these occurrences\n",
    "3. Support, lift, etc.\n",
    "\n",
    "\"\"\""
   ]
  },
  {
   "cell_type": "code",
   "execution_count": 3,
   "metadata": {},
   "outputs": [],
   "source": [
    "\"\"\"\n",
    "Helper functions\n",
    "\"\"\"\n",
    "\n",
    "def change_defect_names(df_cond):\n",
    "    \"\"\" \n",
    "    Change the names of defects: e.g., FL => Fracture, TB => Tap\n",
    "    Takes df_cond as input. \n",
    "    \"\"\"\n",
    "    df_cond.loc[df_cond['PACP_Code'].str.startswith('F'), 'PACP_Code'] = 'Fracture'\n",
    "    df_cond.loc[df_cond['PACP_Code'].str.startswith('C'), 'PACP_Code'] = 'Crack'\n",
    "    df_cond.loc[df_cond['PACP_Code'].str.startswith('T'), 'PACP_Code'] = 'Tap'\n",
    "    df_cond.loc[df_cond['PACP_Code'].str.startswith('A'), 'PACP_Code'] = 'Manhole'\n",
    "    df_cond.loc[df_cond['PACP_Code'].str.startswith('J'), 'PACP_Code'] = 'Joint Offset'\n",
    "    df_cond.loc[df_cond['PACP_Code'].str.startswith('R'), 'PACP_Code'] = 'Root'\n",
    "    df_cond.loc[df_cond['PACP_Code'].str.startswith('D'), 'PACP_Code'] = 'Deposit'\n",
    "    df_cond.loc[df_cond['PACP_Code'].str.startswith('B'), 'PACP_Code'] = 'Broken'  \n",
    "    return df_cond\n",
    "\n",
    "def delete_rows(df_cond, keep_defects):\n",
    "    \"\"\"\n",
    "    Delete rows where the defects that we want to consider are not present\n",
    "    \"\"\"\n",
    "    df_cond = df_cond[df_cond['PACP_Code'].isin(keep_defects)]\n",
    "    return df_cond\n",
    "    \n",
    "\n",
    "def select_df(df, insp_id, defect_list):\n",
    "    \"\"\"\n",
    "    Helper function used by count_defect_pairs()\n",
    "    This function only keeps the rows where ['defect1', 'defect2'] are present\n",
    "    It helps speed up the computation\n",
    "    \"\"\"\n",
    "    df = df[(df['InspectionID'] == insp_id)]\n",
    "    return  df[df['PACP_Code'].isin(defect_list)]\n",
    "\n",
    "def delete_inspections_with_no_defects(df_cond, defects):\n",
    "    \"\"\"\n",
    "    Delete those inspections where there aren't any defects at all. \n",
    "    By defects we mean fractures, cracks, etc. Not tap and manhole\n",
    "    \"\"\"\n",
    "    insp_ids = np.unique(list(df_cond['InspectionID']))\n",
    "\n",
    "    keep_ids = [] # Inspection IDs that we want to keep\n",
    "\n",
    "    for insp_id in insp_ids:\n",
    "        df_temp = df_cond[(df_cond['InspectionID'] == insp_id)]\n",
    "        if df_temp['PACP_Code'].isin(defects).sum() > 0:\n",
    "            keep_ids.append(insp_id)\n",
    "    \n",
    "    return df_cond[df_cond['InspectionID'].isin(keep_ids)]\n",
    "\n",
    "def count_defect_pairs(df_cond, keep_defects, distance_threshold):\n",
    "    \"\"\"\n",
    "    Count the number of defect pairs that are < distance_threshold within each other\n",
    "    \"\"\"\n",
    "    defect_pair_counts = []\n",
    "    \n",
    "    for a in range(0, len(keep_defects)): \n",
    "        for b in range(a+1, len(keep_defects)):\n",
    "\n",
    "            pair_count = 0\n",
    "            defect_pair = [keep_defects[a], keep_defects[b]] # Pair of defects whose no. of occurrences we wish to calculate\n",
    "\n",
    "            for insp_id in df_cond['InspectionID'].unique():\n",
    "            \n",
    "            # Inspection id which we are counting for\n",
    "                df = select_df(df_cond, insp_id, defect_pair)\n",
    "                insp_id = list(df['InspectionID'])\n",
    "                dist = list(df['Distance'])\n",
    "                defects = list(df['PACP_Code']) # Defects which are selected from a particular inspection\n",
    "\n",
    "                for i in range (0, len(defects) - 1):\n",
    "                    for j in range (i+1, len(defects)):\n",
    "                        defect_1, defect_2 = defects[i], defects[j]\n",
    "                        if (defect_1 == defect_pair[0] and defect_2 == defect_pair[1]) or (defect_2 == defect_pair[0] and defect_1 == defect_pair[1]):\n",
    "                            if abs(dist[i] - dist[j]) <= distance_threshold:\n",
    "                                pair_count = pair_count + 1\n",
    "\n",
    "            defect_pair_counts.append([keep_defects[a], keep_defects[b], pair_count])\n",
    "            \n",
    "    return defect_pair_counts\n",
    "\n",
    "def calculate_length_of_pipeline(df_cond):\n",
    "    # Find total length of pipeline\n",
    "    insps = df_cond['InspectionID'].unique()\n",
    "    length = 0.0\n",
    "    for insp in insps:\n",
    "        df_temp = df_cond[df_cond['InspectionID'] == insp]\n",
    "        length += df_temp['Distance'].max()\n",
    "    return length\n",
    "   \n",
    "\n",
    "def create_econometric_database(df_insp, cols, defects):\n",
    "    df_insp = df_insp[cols]\n",
    "\n",
    "    f, c, t, m, j, r, d, b = [], [], [], [], [], [], [], []\n",
    "\n",
    "    insp_ids = list(df_insp['InspectionID'])\n",
    "\n",
    "    for insp_id in insp_ids:\n",
    "\n",
    "        df_temp = df_cond.loc[df_cond['InspectionID'] == insp_id]\n",
    "\n",
    "        f.append(len(df_temp[df_temp['PACP_Code'] == 'Fracture']))\n",
    "        c.append(len(df_temp[df_temp['PACP_Code'] == 'Crack']))\n",
    "        t.append(len(df_temp[df_temp['PACP_Code'] == 'Tap']))\n",
    "        m.append(len(df_temp[df_temp['PACP_Code'] == 'Manhole']))\n",
    "        j.append(len(df_temp[df_temp['PACP_Code'] == 'Joint Offset']))\n",
    "        r.append(len(df_temp[df_temp['PACP_Code'] == 'Root']))\n",
    "        d.append(len(df_temp[df_temp['PACP_Code'] == 'Deposit']))\n",
    "        b.append(len(df_temp[df_temp['PACP_Code'] == 'Broken']))\n",
    "\n",
    "    df_insp['Fracture'] = f\n",
    "    df_insp['Crack'] = c\n",
    "    df_insp['Tap'] = t\n",
    "    df_insp['Manhole'] = m\n",
    "    df_insp['Joint Offset'] = j\n",
    "    df_insp['Root'] = r\n",
    "    df_insp['Deposit'] = d\n",
    "    df_insp['Broken'] = b\n",
    "    \n",
    "    return df_insp"
   ]
  },
  {
   "cell_type": "code",
   "execution_count": 5,
   "metadata": {},
   "outputs": [
    {
     "name": "stdout",
     "output_type": "stream",
     "text": [
      "Total number of inspections to begin with are: 8891\n",
      "\n",
      "Number of defects is as follows: \n",
      "Tap             29688\n",
      "Manhole         17167\n",
      "Crack            9233\n",
      "Fracture         8625\n",
      "Deposit          8287\n",
      "Root             7943\n",
      "Broken           2058\n",
      "Joint Offset     1943\n",
      "Name: PACP_Code, dtype: int64\n",
      "\n",
      "Number of inspections with Joint Offset and Fracture is: 2040\n",
      "\n",
      "Number of defects in these inspections is as follows: \n",
      "Tap             10247\n",
      "Fracture         8625\n",
      "Crack            7326\n",
      "Deposit          4171\n",
      "Root             3983\n",
      "Manhole          3795\n",
      "Joint Offset     1943\n",
      "Broken           1791\n",
      "Name: PACP_Code, dtype: int64\n",
      "\n",
      "Number of (Joint Offset, Fracture) clusters is: 8878\n",
      "Length : 420091.00050309947\n"
     ]
    }
   ],
   "source": [
    "cluster_size = 5000\n",
    "\n",
    "# Read the database of condition information from CSV\n",
    "df_cond = pd.read_csv('Conditions_Combined.csv', sep=',')\n",
    "df_cond.head();\n",
    "print(\"Total number of inspections to begin with are: {}\".format(df_cond['InspectionID'].max()))\n",
    "\n",
    "# Change names of defects\n",
    "df_cond = change_defect_names(df_cond)\n",
    "\n",
    "# Keep only the rows which contain these defects. Delete all else\n",
    "keep_defects = ['Fracture', 'Crack', 'Tap', 'Manhole', 'Joint Offset', 'Root', 'Deposit', 'Broken']\n",
    "df_cond = delete_rows(df_cond, keep_defects)\n",
    "\n",
    "# Delete inspections which have no 'defects', i.e, fracture, crack, root, joint offset, deposit, broken\n",
    "defects = ['Fracture', 'Crack', 'Joint Offset', 'Root', 'Deposit', 'Broken']\n",
    "# df_cond = delete_inspections_with_no_defects(df_cond, defects)\n",
    "# print(\"Length : {}\".format(calculate_length_of_pipeline(df_cond)))\n",
    "\n",
    "\n",
    "# Count the number of inspections that remain after the deletion\n",
    "# print(\"\\nNumber of inspections which contain defects is: {}\".format(df_cond['InspectionID'].nunique()))\n",
    "\n",
    "# List the number of defects\n",
    "print(\"\\nNumber of defects is as follows: \\n{}\".format(df_cond['PACP_Code'].value_counts()))\n",
    "\n",
    "\"\"\"\n",
    "Counting only Fracture and Tap\n",
    "Delete all inspections which do not have both Fracture and Tap\n",
    "\"\"\"\n",
    "\n",
    "keep_defects = ['Joint Offset', 'Fracture']\n",
    "\n",
    "# Deletes those inspections which don't have defect1 or defect2\n",
    "df_cond = delete_inspections_with_no_defects(df_cond, [keep_defects[0], keep_defects[1]])\n",
    "\n",
    "# Count the number of inspections that remain after the deletion\n",
    "print(\"\\nNumber of inspections with {} and {} is: {}\".format(keep_defects[0], keep_defects[1], df_cond['InspectionID'].nunique()))\n",
    "\n",
    "# List the number of defects\n",
    "print(\"\\nNumber of defects in these inspections is as follows: \\n{}\".format(df_cond['PACP_Code'].value_counts()))\n",
    "\n",
    "# Counting the number of defect clusters within 5 feet\n",
    "defect_pair_counts = count_defect_pairs(df_cond, keep_defects, cluster_size)\n",
    "\n",
    "print('\\nNumber of ({}, {}) clusters is: {}'.format(keep_defects[0], keep_defects[1], defect_pair_counts[0][2]))\n",
    "\n",
    "# Count the total length of pipe in this dataframe\n",
    "length = calculate_length_of_pipeline(df_cond)\n",
    "\n",
    "print(\"Length : {}\".format(length))"
   ]
  },
  {
   "cell_type": "code",
   "execution_count": 6,
   "metadata": {},
   "outputs": [
    {
     "name": "stdout",
     "output_type": "stream",
     "text": [
      "Number of Joint Offset is 1943\n",
      "Number of Fracture is 8625\n",
      "Length: 420091.00050309947\n",
      "Average Joint Offset spacing: 216.20741147869248 feet\n",
      "Average Fracture spacing: 48.7062029568811 feet\n"
     ]
    }
   ],
   "source": [
    "num_defect1 = df_cond['PACP_Code'].value_counts()[keep_defects[0]]\n",
    "num_defect2 = df_cond['PACP_Code'].value_counts()[keep_defects[1]]\n",
    "print(\"Number of {} is {}\".format(keep_defects[0], num_defect1))\n",
    "print(\"Number of {} is {}\".format(keep_defects[1], num_defect2))\n",
    "\n",
    "spacing1 = length/num_defect1\n",
    "spacing2 = length/num_defect2\n",
    "\n",
    "print(\"Length: {}\".format(length))\n",
    "print(\"Average {} spacing: {} feet\".format(keep_defects[0], spacing1))\n",
    "print(\"Average {} spacing: {} feet\".format(keep_defects[1], spacing2))"
   ]
  },
  {
   "cell_type": "code",
   "execution_count": 7,
   "metadata": {},
   "outputs": [
    {
     "name": "stdout",
     "output_type": "stream",
     "text": [
      "\n",
      "Number of (Joint Offset, Fracture) clusters is: 396550\n"
     ]
    }
   ],
   "source": [
    "# If Taps and Fractures were uniformly distributed, calculate the number of co-occurrences\n",
    "import numpy as np\n",
    "\n",
    "defect1 = [[keep_defects[0], i, 1] for i in np.arange(0, length, spacing1)]\n",
    "defect2 = [[keep_defects[1], i, 1] for i in np.arange(0, length, spacing2)]\n",
    "df_cond_fake = pd.DataFrame(defect1+defect2, columns = ['PACP_Code', 'Distance', 'InspectionID'])\n",
    "defect_pair_counts = count_defect_pairs(df_cond_fake, [keep_defects[0], keep_defects[1]], cluster_size)\n",
    "print('\\nNumber of ({}, {}) clusters is: {}'.format(keep_defects[0], keep_defects[1], defect_pair_counts[0][2]))"
   ]
  },
  {
   "cell_type": "code",
   "execution_count": null,
   "metadata": {},
   "outputs": [],
   "source": [
    "\"\"\"\n",
    "Count number of defect hotspots\n",
    "\n",
    "TODO: Compare with uiform distribution/Weibull distribution/Try fitting curve\n",
    "\n",
    "\"\"\""
   ]
  },
  {
   "cell_type": "code",
   "execution_count": 4,
   "metadata": {},
   "outputs": [
    {
     "name": "stdout",
     "output_type": "stream",
     "text": [
      "Total number of inspections to begin with are: 8891\n",
      "Number of inspections after deletion are: 4696\n"
     ]
    }
   ],
   "source": [
    "# Count number of defect zones\n",
    "df_cond = pd.read_csv('Conditions_Combined.csv', sep=',')\n",
    "df_cond.head();\n",
    "print(\"Total number of inspections to begin with are: {}\".format(df_cond['InspectionID'].nunique()))\n",
    "\n",
    "# Change names of defects\n",
    "df_cond = change_defect_names(df_cond)\n",
    "\n",
    "# Keep only the rows which contain these defects. Delete all else\n",
    "keep_defects = ['Fracture', 'Crack', 'Joint Offset', 'Root', 'Deposit', 'Broken']\n",
    "df_cond = delete_rows(df_cond, keep_defects)\n",
    "\n",
    "# Delete inspections which have no 'defects', i.e, fracture, crack, root, joint offset, deposit, broken\n",
    "defects = ['Fracture', 'Crack', 'Joint Offset', 'Root', 'Deposit', 'Broken']\n",
    "df_cond = delete_inspections_with_no_defects(df_cond, defects)\n",
    "\n",
    "print(\"Number of inspections after deletion are: {}\".format(df_cond['InspectionID'].nunique()))"
   ]
  },
  {
   "cell_type": "code",
   "execution_count": 27,
   "metadata": {},
   "outputs": [],
   "source": [
    "thresh = 3\n",
    "\n",
    "insps = df_cond['InspectionID'].unique()\n",
    "zones = []\n",
    "\n",
    "for insp in insps:\n",
    "    \n",
    "    df_temp = df_cond[df_cond['InspectionID'] == insp]\n",
    "    df_temp = df_temp.sort_values(by=[\"Distance\"])\n",
    "    indices = df_temp.index\n",
    "    defect_prev, defect_curr = \"\",\"\"\n",
    "    dist_prev, dist_curr = 0, 0\n",
    "    zone_curr = []\n",
    "    \n",
    "    for index in indices:\n",
    "        defect_curr = df_temp.at[index, 'PACP_Code'] # Defect code at current index\n",
    "        dist_curr = float(df_temp.at[index, 'Distance']) # Distance of defect at current index        \n",
    "    \n",
    "        if abs(dist_curr - dist_prev) < thresh:\n",
    "            zone_curr.append((insp, defect_curr, dist_curr))\n",
    "        else:           \n",
    "            zones.append(zone_curr)\n",
    "            zone_curr = []\n",
    "            zone_curr.append((insp, defect_curr, dist_curr))\n",
    "                        \n",
    "        dist_prev = dist_curr\n",
    "        defect_prev = defect_curr\n",
    "        \n",
    "    zones.append(zone_curr)"
   ]
  },
  {
   "cell_type": "code",
   "execution_count": 28,
   "metadata": {},
   "outputs": [
    {
     "data": {
      "text/plain": [
       "[[],\n",
       " [(1, 'Joint Offset', 11.10000038)],\n",
       " [(2, 'Deposit', 0.10000000099999999)],\n",
       " [(2, 'Deposit', 37.90000153)],\n",
       " [(4, 'Deposit', 1.0)],\n",
       " [(4, 'Deposit', 57.29999924), (4, 'Deposit', 57.29999924)],\n",
       " [(4, 'Deposit', 77.09999847)],\n",
       " [(4, 'Deposit', 121.90000149999999)],\n",
       " [(4, 'Deposit', 129.5)],\n",
       " []]"
      ]
     },
     "execution_count": 28,
     "metadata": {},
     "output_type": "execute_result"
    }
   ],
   "source": [
    "zones[0:10]"
   ]
  },
  {
   "cell_type": "code",
   "execution_count": 29,
   "metadata": {},
   "outputs": [
    {
     "name": "stdout",
     "output_type": "stream",
     "text": [
      "Number of colocated defects is 15322\n",
      "Total number of defects is 38089\n",
      "Max defects in a zone is 29\n"
     ]
    }
   ],
   "source": [
    "\"\"\"\n",
    "Calculate number of colocated defects\n",
    "\"\"\"\n",
    "\n",
    "colocated = 0\n",
    "total = 0\n",
    "max_colocated = 0\n",
    "\n",
    "for zone in zones:\n",
    "    if len(zone) > 1:\n",
    "        colocated += len(zone)\n",
    "        if len(zone) > max_colocated:\n",
    "            max_colocated = len(zone)\n",
    "            max_zone = zone\n",
    "    total += len(zone)\n",
    "    \n",
    "print(f'Number of colocated defects is {colocated}')\n",
    "print(f'Total number of defects is {total}')\n",
    "print(f'Max defects in a zone is {max_colocated}')"
   ]
  },
  {
   "cell_type": "code",
   "execution_count": 30,
   "metadata": {},
   "outputs": [
    {
     "data": {
      "text/plain": [
       "[(3309, 'Root', 77.90000153),\n",
       " (3309, 'Root', 80.19999695),\n",
       " (3309, 'Joint Offset', 82.69999695),\n",
       " (3309, 'Root', 84.30000305),\n",
       " (3309, 'Joint Offset', 85.30000305),\n",
       " (3309, 'Root', 85.30000305),\n",
       " (3309, 'Joint Offset', 85.30000305),\n",
       " (3309, 'Joint Offset', 87.80000305),\n",
       " (3309, 'Root', 87.80000305),\n",
       " (3309, 'Joint Offset', 90.40000153),\n",
       " (3309, 'Crack', 91.0),\n",
       " (3309, 'Root', 92.59999847),\n",
       " (3309, 'Joint Offset', 95.30000305),\n",
       " (3309, 'Root', 95.30000305),\n",
       " (3309, 'Root', 97.90000153),\n",
       " (3309, 'Root', 100.4000015),\n",
       " (3309, 'Fracture', 100.9000015),\n",
       " (3309, 'Root', 103.0999985),\n",
       " (3309, 'Crack', 105.6999969),\n",
       " (3309, 'Joint Offset', 105.6999969),\n",
       " (3309, 'Root', 107.1999969),\n",
       " (3309, 'Joint Offset', 107.40000149999999),\n",
       " (3309, 'Joint Offset', 110.3000031),\n",
       " (3309, 'Fracture', 110.90000149999999),\n",
       " (3309, 'Root', 113.1999969),\n",
       " (3309, 'Joint Offset', 113.1999969),\n",
       " (3309, 'Joint Offset', 115.40000149999999),\n",
       " (3309, 'Root', 115.40000149999999),\n",
       " (3309, 'Joint Offset', 118.0)]"
      ]
     },
     "execution_count": 30,
     "metadata": {},
     "output_type": "execute_result"
    }
   ],
   "source": [
    "max_zone"
   ]
  },
  {
   "cell_type": "code",
   "execution_count": 31,
   "metadata": {},
   "outputs": [],
   "source": [
    "\"\"\"\n",
    "Calculate the number of zones of different lengths\n",
    "\"\"\"\n",
    "\n",
    "num_zones = {i:0 for i in range(1, max_colocated + 1)}\n",
    "for zone in zones:\n",
    "    if len(zone) >= 1:\n",
    "        num_zones[len(zone)] += 1"
   ]
  },
  {
   "cell_type": "code",
   "execution_count": 32,
   "metadata": {},
   "outputs": [
    {
     "data": {
      "text/plain": [
       "{1: 22767,\n",
       " 2: 4213,\n",
       " 3: 1036,\n",
       " 4: 364,\n",
       " 5: 175,\n",
       " 6: 65,\n",
       " 7: 39,\n",
       " 8: 21,\n",
       " 9: 21,\n",
       " 10: 5,\n",
       " 11: 2,\n",
       " 12: 4,\n",
       " 13: 4,\n",
       " 14: 2,\n",
       " 15: 5,\n",
       " 16: 0,\n",
       " 17: 0,\n",
       " 18: 0,\n",
       " 19: 0,\n",
       " 20: 0,\n",
       " 21: 0,\n",
       " 22: 0,\n",
       " 23: 0,\n",
       " 24: 2,\n",
       " 25: 0,\n",
       " 26: 0,\n",
       " 27: 0,\n",
       " 28: 2,\n",
       " 29: 2}"
      ]
     },
     "execution_count": 32,
     "metadata": {},
     "output_type": "execute_result"
    }
   ],
   "source": [
    "num_zones"
   ]
  },
  {
   "cell_type": "code",
   "execution_count": 33,
   "metadata": {},
   "outputs": [],
   "source": [
    "\"\"\"\n",
    "Most frequent defect in colocated zone\n",
    "\"\"\"\n",
    "defects = {'Fracture':0, 'Crack':0, 'Joint Offset':0, 'Root':0, 'Deposit':0, 'Broken':0}\n",
    "\n",
    "for zone in zones:\n",
    "    if len(zone) > 1:\n",
    "        for defect in zone:\n",
    "            defects[defect[1]] += 1 "
   ]
  },
  {
   "cell_type": "code",
   "execution_count": 34,
   "metadata": {},
   "outputs": [
    {
     "data": {
      "text/plain": [
       "{'Fracture': 4166,\n",
       " 'Crack': 3768,\n",
       " 'Joint Offset': 886,\n",
       " 'Root': 2957,\n",
       " 'Deposit': 2325,\n",
       " 'Broken': 1220}"
      ]
     },
     "execution_count": 34,
     "metadata": {},
     "output_type": "execute_result"
    }
   ],
   "source": [
    "defects"
   ]
  },
  {
   "cell_type": "code",
   "execution_count": 36,
   "metadata": {},
   "outputs": [
    {
     "name": "stderr",
     "output_type": "stream",
     "text": [
      "/anaconda/lib/python3.6/site-packages/ipykernel_launcher.py:92: SettingWithCopyWarning: \n",
      "A value is trying to be set on a copy of a slice from a DataFrame.\n",
      "Try using .loc[row_indexer,col_indexer] = value instead\n",
      "\n",
      "See the caveats in the documentation: http://pandas.pydata.org/pandas-docs/stable/indexing.html#indexing-view-versus-copy\n",
      "/anaconda/lib/python3.6/site-packages/ipykernel_launcher.py:93: SettingWithCopyWarning: \n",
      "A value is trying to be set on a copy of a slice from a DataFrame.\n",
      "Try using .loc[row_indexer,col_indexer] = value instead\n",
      "\n",
      "See the caveats in the documentation: http://pandas.pydata.org/pandas-docs/stable/indexing.html#indexing-view-versus-copy\n",
      "/anaconda/lib/python3.6/site-packages/ipykernel_launcher.py:94: SettingWithCopyWarning: \n",
      "A value is trying to be set on a copy of a slice from a DataFrame.\n",
      "Try using .loc[row_indexer,col_indexer] = value instead\n",
      "\n",
      "See the caveats in the documentation: http://pandas.pydata.org/pandas-docs/stable/indexing.html#indexing-view-versus-copy\n",
      "/anaconda/lib/python3.6/site-packages/ipykernel_launcher.py:95: SettingWithCopyWarning: \n",
      "A value is trying to be set on a copy of a slice from a DataFrame.\n",
      "Try using .loc[row_indexer,col_indexer] = value instead\n",
      "\n",
      "See the caveats in the documentation: http://pandas.pydata.org/pandas-docs/stable/indexing.html#indexing-view-versus-copy\n",
      "/anaconda/lib/python3.6/site-packages/ipykernel_launcher.py:96: SettingWithCopyWarning: \n",
      "A value is trying to be set on a copy of a slice from a DataFrame.\n",
      "Try using .loc[row_indexer,col_indexer] = value instead\n",
      "\n",
      "See the caveats in the documentation: http://pandas.pydata.org/pandas-docs/stable/indexing.html#indexing-view-versus-copy\n",
      "/anaconda/lib/python3.6/site-packages/ipykernel_launcher.py:97: SettingWithCopyWarning: \n",
      "A value is trying to be set on a copy of a slice from a DataFrame.\n",
      "Try using .loc[row_indexer,col_indexer] = value instead\n",
      "\n",
      "See the caveats in the documentation: http://pandas.pydata.org/pandas-docs/stable/indexing.html#indexing-view-versus-copy\n",
      "/anaconda/lib/python3.6/site-packages/ipykernel_launcher.py:98: SettingWithCopyWarning: \n",
      "A value is trying to be set on a copy of a slice from a DataFrame.\n",
      "Try using .loc[row_indexer,col_indexer] = value instead\n",
      "\n",
      "See the caveats in the documentation: http://pandas.pydata.org/pandas-docs/stable/indexing.html#indexing-view-versus-copy\n",
      "/anaconda/lib/python3.6/site-packages/ipykernel_launcher.py:99: SettingWithCopyWarning: \n",
      "A value is trying to be set on a copy of a slice from a DataFrame.\n",
      "Try using .loc[row_indexer,col_indexer] = value instead\n",
      "\n",
      "See the caveats in the documentation: http://pandas.pydata.org/pandas-docs/stable/indexing.html#indexing-view-versus-copy\n"
     ]
    }
   ],
   "source": [
    "\"\"\"\n",
    "Make a database with external factors for econometric analysis\n",
    "\"\"\"\n",
    "# Read the inspections database\n",
    "df_insp = pd.read_csv('Inspections_Hazen_Sawyer.csv')\n",
    "\n",
    "# Columns that we want to keep\n",
    "cols = ['InspectionID', 'Height', 'Down_Rim_to_Invert', 'Up_Rim_to_Invert', 'Height', 'Total_Length', 'Location_Code', 'Location_Details', 'Material', 'Weather', 'Street']\n",
    "\n",
    "# Defect pairs to keep\n",
    "keep_defects = ['Fracture', 'Crack', 'Tap', 'Manhole', 'Joint Offset', 'Root', 'Deposit', 'Broken']\n",
    "\n",
    "df_insp = create_econometric_database(df_insp, cols, keep_defects)\n",
    "\n",
    "df_insp.head()"
   ]
  },
  {
   "cell_type": "code",
   "execution_count": 47,
   "metadata": {},
   "outputs": [],
   "source": []
  },
  {
   "cell_type": "code",
   "execution_count": null,
   "metadata": {},
   "outputs": [],
   "source": []
  }
 ],
 "metadata": {
  "kernelspec": {
   "display_name": "Python 3",
   "language": "python",
   "name": "python3"
  },
  "language_info": {
   "codemirror_mode": {
    "name": "ipython",
    "version": 3
   },
   "file_extension": ".py",
   "mimetype": "text/x-python",
   "name": "python",
   "nbconvert_exporter": "python",
   "pygments_lexer": "ipython3",
   "version": "3.6.8"
  }
 },
 "nbformat": 4,
 "nbformat_minor": 2
}
